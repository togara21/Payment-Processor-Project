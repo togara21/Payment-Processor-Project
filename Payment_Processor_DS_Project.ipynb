{
 "cells": [
  {
   "cell_type": "markdown",
   "metadata": {},
   "source": [
    "Data: The dataset has future merchant transaction activity, for merchants that start over a 2 year period (2033-2034). The data spans from 1/1/33 through 12/31/34. Although the data is made up, you can consider this to be a random sample of future merchants using our payment processor. Each observation is a transaction amount in cents. If the merchant stops processing with our payment processor, then they would no longer appear.  \n",
    "\n",
    "Questions:\n",
    "\n",
    "1. We have limited data on these merchants and their transactions, but we are still interested in understanding their payments activity to try to infer the types of merchants using our payment processor. Using only the given data, how would you identify different kinds of businesses in the sample? Please generate assignments for each merchant.\n",
    "\n",
    "2. Sometimes a merchant may stop processing with the payment processor, which we call churn. We are interested in identifying and predicting churn. Please a) come up with a concrete definition for churn b) identify merchants that have already churned in the dataset, and c) build a model to predict which active merchants are most likely to churn in the near future."
   ]
  },
  {
   "cell_type": "markdown",
   "metadata": {},
   "source": [
    "# Question 1 - Labeling Merchant Types"
   ]
  },
  {
   "cell_type": "markdown",
   "metadata": {},
   "source": [
    "# Obtain Data"
   ]
  },
  {
   "cell_type": "code",
   "execution_count": 1,
   "metadata": {},
   "outputs": [],
   "source": [
    "#import necessary packages\n",
    "import pandas as pd\n",
    "import matplotlib.pyplot as plt\n",
    "%matplotlib inline\n",
    "from matplotlib.ticker import FuncFormatter\n",
    "import seaborn as sns\n",
    "import numpy as np\n",
    "import datetime"
   ]
  },
  {
   "cell_type": "code",
   "execution_count": 2,
   "metadata": {},
   "outputs": [
    {
     "data": {
      "text/html": [
       "<div>\n",
       "<style scoped>\n",
       "    .dataframe tbody tr th:only-of-type {\n",
       "        vertical-align: middle;\n",
       "    }\n",
       "\n",
       "    .dataframe tbody tr th {\n",
       "        vertical-align: top;\n",
       "    }\n",
       "\n",
       "    .dataframe thead th {\n",
       "        text-align: right;\n",
       "    }\n",
       "</style>\n",
       "<table border=\"1\" class=\"dataframe\">\n",
       "  <thead>\n",
       "    <tr style=\"text-align: right;\">\n",
       "      <th></th>\n",
       "      <th>Unnamed: 0</th>\n",
       "      <th>merchant</th>\n",
       "      <th>time</th>\n",
       "      <th>amount_usd_in_cents</th>\n",
       "    </tr>\n",
       "  </thead>\n",
       "  <tbody>\n",
       "    <tr>\n",
       "      <th>0</th>\n",
       "      <td>1</td>\n",
       "      <td>faa029c6b0</td>\n",
       "      <td>6/17/2034 23:34</td>\n",
       "      <td>6349</td>\n",
       "    </tr>\n",
       "    <tr>\n",
       "      <th>1</th>\n",
       "      <td>2</td>\n",
       "      <td>ed7a7d91aa</td>\n",
       "      <td>12/27/2034 0:40</td>\n",
       "      <td>3854</td>\n",
       "    </tr>\n",
       "    <tr>\n",
       "      <th>2</th>\n",
       "      <td>3</td>\n",
       "      <td>5608f200cf</td>\n",
       "      <td>4/30/2034 1:29</td>\n",
       "      <td>789</td>\n",
       "    </tr>\n",
       "    <tr>\n",
       "      <th>3</th>\n",
       "      <td>4</td>\n",
       "      <td>15b1a0d61e</td>\n",
       "      <td>9/16/2034 1:06</td>\n",
       "      <td>4452</td>\n",
       "    </tr>\n",
       "    <tr>\n",
       "      <th>4</th>\n",
       "      <td>5</td>\n",
       "      <td>4770051790</td>\n",
       "      <td>7/22/2034 16:21</td>\n",
       "      <td>20203</td>\n",
       "    </tr>\n",
       "  </tbody>\n",
       "</table>\n",
       "</div>"
      ],
      "text/plain": [
       "   Unnamed: 0    merchant             time  amount_usd_in_cents\n",
       "0           1  faa029c6b0  6/17/2034 23:34                 6349\n",
       "1           2  ed7a7d91aa  12/27/2034 0:40                 3854\n",
       "2           3  5608f200cf   4/30/2034 1:29                  789\n",
       "3           4  15b1a0d61e   9/16/2034 1:06                 4452\n",
       "4           5  4770051790  7/22/2034 16:21                20203"
      ]
     },
     "execution_count": 2,
     "metadata": {},
     "output_type": "execute_result"
    }
   ],
   "source": [
    "#Read in the dataset and perform initial inspection\n",
    "df = pd.read_csv('takehome_ds_written.csv')\n",
    "df.head()"
   ]
  },
  {
   "cell_type": "markdown",
   "metadata": {},
   "source": [
    "# Scrub Data (null values, place holder values)"
   ]
  },
  {
   "cell_type": "code",
   "execution_count": 3,
   "metadata": {},
   "outputs": [
    {
     "data": {
      "text/plain": [
       "Unnamed: 0             0\n",
       "merchant               0\n",
       "time                   0\n",
       "amount_usd_in_cents    0\n",
       "dtype: int64"
      ]
     },
     "execution_count": 3,
     "metadata": {},
     "output_type": "execute_result"
    }
   ],
   "source": [
    "df.isnull().sum()"
   ]
  },
  {
   "cell_type": "code",
   "execution_count": 4,
   "metadata": {},
   "outputs": [
    {
     "name": "stdout",
     "output_type": "stream",
     "text": [
      "<class 'pandas.core.frame.DataFrame'>\n",
      "RangeIndex: 1048575 entries, 0 to 1048574\n",
      "Data columns (total 4 columns):\n",
      " #   Column               Non-Null Count    Dtype \n",
      "---  ------               --------------    ----- \n",
      " 0   Unnamed: 0           1048575 non-null  int64 \n",
      " 1   merchant             1048575 non-null  object\n",
      " 2   time                 1048575 non-null  object\n",
      " 3   amount_usd_in_cents  1048575 non-null  int64 \n",
      "dtypes: int64(2), object(2)\n",
      "memory usage: 32.0+ MB\n"
     ]
    }
   ],
   "source": [
    "df.info()"
   ]
  },
  {
   "cell_type": "code",
   "execution_count": 5,
   "metadata": {},
   "outputs": [
    {
     "data": {
      "text/html": [
       "<div>\n",
       "<style scoped>\n",
       "    .dataframe tbody tr th:only-of-type {\n",
       "        vertical-align: middle;\n",
       "    }\n",
       "\n",
       "    .dataframe tbody tr th {\n",
       "        vertical-align: top;\n",
       "    }\n",
       "\n",
       "    .dataframe thead th {\n",
       "        text-align: right;\n",
       "    }\n",
       "</style>\n",
       "<table border=\"1\" class=\"dataframe\">\n",
       "  <thead>\n",
       "    <tr style=\"text-align: right;\">\n",
       "      <th></th>\n",
       "      <th>Unnamed: 0</th>\n",
       "      <th>amount_usd_in_cents</th>\n",
       "    </tr>\n",
       "  </thead>\n",
       "  <tbody>\n",
       "    <tr>\n",
       "      <th>count</th>\n",
       "      <td>1.048575e+06</td>\n",
       "      <td>1.048575e+06</td>\n",
       "    </tr>\n",
       "    <tr>\n",
       "      <th>mean</th>\n",
       "      <td>5.242880e+05</td>\n",
       "      <td>1.550347e+04</td>\n",
       "    </tr>\n",
       "    <tr>\n",
       "      <th>std</th>\n",
       "      <td>3.026977e+05</td>\n",
       "      <td>5.957772e+04</td>\n",
       "    </tr>\n",
       "    <tr>\n",
       "      <th>min</th>\n",
       "      <td>1.000000e+00</td>\n",
       "      <td>2.010000e+02</td>\n",
       "    </tr>\n",
       "    <tr>\n",
       "      <th>25%</th>\n",
       "      <td>2.621445e+05</td>\n",
       "      <td>3.221000e+03</td>\n",
       "    </tr>\n",
       "    <tr>\n",
       "      <th>50%</th>\n",
       "      <td>5.242880e+05</td>\n",
       "      <td>6.112000e+03</td>\n",
       "    </tr>\n",
       "    <tr>\n",
       "      <th>75%</th>\n",
       "      <td>7.864315e+05</td>\n",
       "      <td>1.262100e+04</td>\n",
       "    </tr>\n",
       "    <tr>\n",
       "      <th>max</th>\n",
       "      <td>1.048575e+06</td>\n",
       "      <td>1.640584e+07</td>\n",
       "    </tr>\n",
       "  </tbody>\n",
       "</table>\n",
       "</div>"
      ],
      "text/plain": [
       "         Unnamed: 0  amount_usd_in_cents\n",
       "count  1.048575e+06         1.048575e+06\n",
       "mean   5.242880e+05         1.550347e+04\n",
       "std    3.026977e+05         5.957772e+04\n",
       "min    1.000000e+00         2.010000e+02\n",
       "25%    2.621445e+05         3.221000e+03\n",
       "50%    5.242880e+05         6.112000e+03\n",
       "75%    7.864315e+05         1.262100e+04\n",
       "max    1.048575e+06         1.640584e+07"
      ]
     },
     "execution_count": 5,
     "metadata": {},
     "output_type": "execute_result"
    }
   ],
   "source": [
    "df.describe()"
   ]
  },
  {
   "cell_type": "code",
   "execution_count": 6,
   "metadata": {},
   "outputs": [
    {
     "data": {
      "text/plain": [
       "13682"
      ]
     },
     "execution_count": 6,
     "metadata": {},
     "output_type": "execute_result"
    }
   ],
   "source": [
    "#how many different merchants are we dealing with?\n",
    "df.merchant.nunique()"
   ]
  },
  {
   "cell_type": "code",
   "execution_count": 7,
   "metadata": {
    "scrolled": true
   },
   "outputs": [
    {
     "data": {
      "text/plain": [
       "5608f200cf    17692\n",
       "53b3fbeae2     8453\n",
       "1ddaea9838     8360\n",
       "89e2d29885     8232\n",
       "654930c922     7787\n",
       "              ...  \n",
       "8a16eb2d1e        1\n",
       "0fa4b290f9        1\n",
       "4b79f17a94        1\n",
       "f23be3b729        1\n",
       "1185d16b57        1\n",
       "Name: merchant, Length: 13682, dtype: int64"
      ]
     },
     "execution_count": 7,
     "metadata": {},
     "output_type": "execute_result"
    }
   ],
   "source": [
    "df['merchant'].value_counts()"
   ]
  },
  {
   "cell_type": "code",
   "execution_count": 8,
   "metadata": {},
   "outputs": [],
   "source": [
    "#histogram of first merchant by usd_spent"
   ]
  },
  {
   "cell_type": "code",
   "execution_count": 9,
   "metadata": {},
   "outputs": [],
   "source": [
    "#drop 'Unnamed: 0'\n",
    "df.drop('Unnamed: 0', axis=1, inplace=True)\n",
    "\n",
    "#rename amount_usd\n",
    "df.rename(columns={'amount_usd_in_cents': 'amount_usd'}, inplace=True)\n",
    "\n",
    "#divide amount_usd by 100 to convert into dollar amount\n",
    "df['amount_usd'] = df['amount_usd']/100"
   ]
  },
  {
   "cell_type": "markdown",
   "metadata": {},
   "source": [
    "# Initial Feature engineering"
   ]
  },
  {
   "cell_type": "markdown",
   "metadata": {},
   "source": [
    "## Datetime object - create various time columns"
   ]
  },
  {
   "cell_type": "code",
   "execution_count": 10,
   "metadata": {},
   "outputs": [],
   "source": [
    "#convert time column into a datetime object\n",
    "df['time'] = df['time'].apply(pd.to_datetime)"
   ]
  },
  {
   "cell_type": "code",
   "execution_count": 11,
   "metadata": {},
   "outputs": [],
   "source": [
    "#sort data frame by merchant and time\n",
    "df = df.sort_values(by=['merchant', 'time'])"
   ]
  },
  {
   "cell_type": "code",
   "execution_count": 13,
   "metadata": {},
   "outputs": [],
   "source": [
    "#create year, quarter, weekday_name, and hour columns\n",
    "df['year'] = df['time'].dt.year\n",
    "df['quarter'] = df['time'].dt.quarter\n",
    "df['weekday_name'] = df['time'].dt.weekday\n",
    "df['hour'] = df['time'].dt.hour\n",
    "df['day'] = df['time'].dt.day\n",
    "df['month'] = df['time'].dt.month"
   ]
  },
  {
   "cell_type": "code",
   "execution_count": 14,
   "metadata": {},
   "outputs": [
    {
     "data": {
      "text/html": [
       "<div>\n",
       "<style scoped>\n",
       "    .dataframe tbody tr th:only-of-type {\n",
       "        vertical-align: middle;\n",
       "    }\n",
       "\n",
       "    .dataframe tbody tr th {\n",
       "        vertical-align: top;\n",
       "    }\n",
       "\n",
       "    .dataframe thead th {\n",
       "        text-align: right;\n",
       "    }\n",
       "</style>\n",
       "<table border=\"1\" class=\"dataframe\">\n",
       "  <thead>\n",
       "    <tr style=\"text-align: right;\">\n",
       "      <th></th>\n",
       "      <th>merchant</th>\n",
       "      <th>time</th>\n",
       "      <th>amount_usd</th>\n",
       "      <th>year</th>\n",
       "      <th>quarter</th>\n",
       "      <th>weekday_name</th>\n",
       "      <th>hour</th>\n",
       "      <th>day</th>\n",
       "      <th>month</th>\n",
       "    </tr>\n",
       "  </thead>\n",
       "  <tbody>\n",
       "    <tr>\n",
       "      <th>438308</th>\n",
       "      <td>0002b63b92</td>\n",
       "      <td>2033-05-16 20:07:00</td>\n",
       "      <td>33.79</td>\n",
       "      <td>2033</td>\n",
       "      <td>2</td>\n",
       "      <td>0</td>\n",
       "      <td>20</td>\n",
       "      <td>16</td>\n",
       "      <td>5</td>\n",
       "    </tr>\n",
       "    <tr>\n",
       "      <th>835993</th>\n",
       "      <td>0002d07bba</td>\n",
       "      <td>2034-10-17 17:57:00</td>\n",
       "      <td>378.30</td>\n",
       "      <td>2034</td>\n",
       "      <td>4</td>\n",
       "      <td>1</td>\n",
       "      <td>17</td>\n",
       "      <td>17</td>\n",
       "      <td>10</td>\n",
       "    </tr>\n",
       "    <tr>\n",
       "      <th>891755</th>\n",
       "      <td>0002d07bba</td>\n",
       "      <td>2034-11-13 15:42:00</td>\n",
       "      <td>438.42</td>\n",
       "      <td>2034</td>\n",
       "      <td>4</td>\n",
       "      <td>0</td>\n",
       "      <td>15</td>\n",
       "      <td>13</td>\n",
       "      <td>11</td>\n",
       "    </tr>\n",
       "    <tr>\n",
       "      <th>874950</th>\n",
       "      <td>0002d07bba</td>\n",
       "      <td>2034-12-15 09:56:00</td>\n",
       "      <td>20.57</td>\n",
       "      <td>2034</td>\n",
       "      <td>4</td>\n",
       "      <td>4</td>\n",
       "      <td>9</td>\n",
       "      <td>15</td>\n",
       "      <td>12</td>\n",
       "    </tr>\n",
       "    <tr>\n",
       "      <th>883289</th>\n",
       "      <td>00057d4302</td>\n",
       "      <td>2033-05-30 01:30:00</td>\n",
       "      <td>12.48</td>\n",
       "      <td>2033</td>\n",
       "      <td>2</td>\n",
       "      <td>0</td>\n",
       "      <td>1</td>\n",
       "      <td>30</td>\n",
       "      <td>5</td>\n",
       "    </tr>\n",
       "  </tbody>\n",
       "</table>\n",
       "</div>"
      ],
      "text/plain": [
       "          merchant                time  amount_usd  year  quarter  \\\n",
       "438308  0002b63b92 2033-05-16 20:07:00       33.79  2033        2   \n",
       "835993  0002d07bba 2034-10-17 17:57:00      378.30  2034        4   \n",
       "891755  0002d07bba 2034-11-13 15:42:00      438.42  2034        4   \n",
       "874950  0002d07bba 2034-12-15 09:56:00       20.57  2034        4   \n",
       "883289  00057d4302 2033-05-30 01:30:00       12.48  2033        2   \n",
       "\n",
       "        weekday_name  hour  day  month  \n",
       "438308             0    20   16      5  \n",
       "835993             1    17   17     10  \n",
       "891755             0    15   13     11  \n",
       "874950             4     9   15     12  \n",
       "883289             0     1   30      5  "
      ]
     },
     "execution_count": 14,
     "metadata": {},
     "output_type": "execute_result"
    }
   ],
   "source": [
    "df.head()"
   ]
  },
  {
   "cell_type": "code",
   "execution_count": 15,
   "metadata": {},
   "outputs": [],
   "source": [
    "#create string columns for separate time frames\n",
    "df['year_month_day'] = df['year'].astype(str) + '-' + df['month'].astype(str) + '-' + df['day'].astype(str)\n",
    "\n",
    "df['year_month'] = df['year'].astype(str) + '-' + df['month'].astype(str)\n",
    "\n",
    "df['year_quarter'] = df['year'].astype(str) + '-' + 'Q' + df['quarter'].astype(str)"
   ]
  },
  {
   "cell_type": "markdown",
   "metadata": {},
   "source": [
    "## Column for Time Delta between transactions by Merchant"
   ]
  },
  {
   "cell_type": "code",
   "execution_count": 16,
   "metadata": {},
   "outputs": [],
   "source": [
    "#make column to show that merchant's last transaction time\n",
    "df['previous_time'] = df.groupby('merchant')['time'].shift(1)"
   ]
  },
  {
   "cell_type": "code",
   "execution_count": 17,
   "metadata": {},
   "outputs": [],
   "source": [
    "#make a column to show time delta between the last purchase - show column in number of hours\n",
    "df['td_last_purchase'] = ((df['time'] - df['previous_time']).dt.total_seconds())/3600"
   ]
  },
  {
   "cell_type": "code",
   "execution_count": 18,
   "metadata": {},
   "outputs": [],
   "source": [
    "#replace null values in 'td_last_purchase' with zero\n",
    "df['td_last_purchase'].fillna(0, inplace=True)"
   ]
  },
  {
   "cell_type": "markdown",
   "metadata": {},
   "source": [
    "## Make various transaction count columns "
   ]
  },
  {
   "cell_type": "code",
   "execution_count": 19,
   "metadata": {},
   "outputs": [],
   "source": [
    "#create a column of a rolling count of total transactions for each merchant\n",
    "df['tx_count'] = df.groupby('merchant').cumcount()+1\n",
    "\n",
    "#count of transactions in a day for each merchant\n",
    "df['tx_count_day'] = df.groupby(['merchant', 'year_month_day']).cumcount()+1\n",
    "\n",
    "#count of transactions in a month for each merchant\n",
    "df['tx_count_month'] = df.groupby(['merchant', 'year_month']).cumcount()+1\n",
    "\n",
    "#count of transactions in a quarter for each merchant\n",
    "df['tx_count_quarter'] = df.groupby(['merchant', 'year_quarter']).cumcount()+1\n",
    "\n",
    "#count of transactions in a year for each merchant\n",
    "df['tx_count_year'] = df.groupby(['merchant', 'year']).cumcount()+1"
   ]
  },
  {
   "cell_type": "code",
   "execution_count": 20,
   "metadata": {},
   "outputs": [
    {
     "data": {
      "text/html": [
       "<div>\n",
       "<style scoped>\n",
       "    .dataframe tbody tr th:only-of-type {\n",
       "        vertical-align: middle;\n",
       "    }\n",
       "\n",
       "    .dataframe tbody tr th {\n",
       "        vertical-align: top;\n",
       "    }\n",
       "\n",
       "    .dataframe thead th {\n",
       "        text-align: right;\n",
       "    }\n",
       "</style>\n",
       "<table border=\"1\" class=\"dataframe\">\n",
       "  <thead>\n",
       "    <tr style=\"text-align: right;\">\n",
       "      <th></th>\n",
       "      <th>merchant</th>\n",
       "      <th>time</th>\n",
       "      <th>amount_usd</th>\n",
       "      <th>year</th>\n",
       "      <th>quarter</th>\n",
       "      <th>weekday_name</th>\n",
       "      <th>hour</th>\n",
       "      <th>day</th>\n",
       "      <th>month</th>\n",
       "      <th>year_month_day</th>\n",
       "      <th>year_month</th>\n",
       "      <th>year_quarter</th>\n",
       "      <th>previous_time</th>\n",
       "      <th>td_last_purchase</th>\n",
       "      <th>tx_count</th>\n",
       "      <th>tx_count_day</th>\n",
       "      <th>tx_count_month</th>\n",
       "      <th>tx_count_quarter</th>\n",
       "      <th>tx_count_year</th>\n",
       "    </tr>\n",
       "  </thead>\n",
       "  <tbody>\n",
       "    <tr>\n",
       "      <th>438308</th>\n",
       "      <td>0002b63b92</td>\n",
       "      <td>2033-05-16 20:07:00</td>\n",
       "      <td>33.79</td>\n",
       "      <td>2033</td>\n",
       "      <td>2</td>\n",
       "      <td>0</td>\n",
       "      <td>20</td>\n",
       "      <td>16</td>\n",
       "      <td>5</td>\n",
       "      <td>2033-5-16</td>\n",
       "      <td>2033-5</td>\n",
       "      <td>2033-Q2</td>\n",
       "      <td>NaT</td>\n",
       "      <td>0.000000</td>\n",
       "      <td>1</td>\n",
       "      <td>1</td>\n",
       "      <td>1</td>\n",
       "      <td>1</td>\n",
       "      <td>1</td>\n",
       "    </tr>\n",
       "    <tr>\n",
       "      <th>835993</th>\n",
       "      <td>0002d07bba</td>\n",
       "      <td>2034-10-17 17:57:00</td>\n",
       "      <td>378.30</td>\n",
       "      <td>2034</td>\n",
       "      <td>4</td>\n",
       "      <td>1</td>\n",
       "      <td>17</td>\n",
       "      <td>17</td>\n",
       "      <td>10</td>\n",
       "      <td>2034-10-17</td>\n",
       "      <td>2034-10</td>\n",
       "      <td>2034-Q4</td>\n",
       "      <td>NaT</td>\n",
       "      <td>0.000000</td>\n",
       "      <td>1</td>\n",
       "      <td>1</td>\n",
       "      <td>1</td>\n",
       "      <td>1</td>\n",
       "      <td>1</td>\n",
       "    </tr>\n",
       "    <tr>\n",
       "      <th>891755</th>\n",
       "      <td>0002d07bba</td>\n",
       "      <td>2034-11-13 15:42:00</td>\n",
       "      <td>438.42</td>\n",
       "      <td>2034</td>\n",
       "      <td>4</td>\n",
       "      <td>0</td>\n",
       "      <td>15</td>\n",
       "      <td>13</td>\n",
       "      <td>11</td>\n",
       "      <td>2034-11-13</td>\n",
       "      <td>2034-11</td>\n",
       "      <td>2034-Q4</td>\n",
       "      <td>2034-10-17 17:57:00</td>\n",
       "      <td>645.750000</td>\n",
       "      <td>2</td>\n",
       "      <td>1</td>\n",
       "      <td>1</td>\n",
       "      <td>2</td>\n",
       "      <td>2</td>\n",
       "    </tr>\n",
       "    <tr>\n",
       "      <th>874950</th>\n",
       "      <td>0002d07bba</td>\n",
       "      <td>2034-12-15 09:56:00</td>\n",
       "      <td>20.57</td>\n",
       "      <td>2034</td>\n",
       "      <td>4</td>\n",
       "      <td>4</td>\n",
       "      <td>9</td>\n",
       "      <td>15</td>\n",
       "      <td>12</td>\n",
       "      <td>2034-12-15</td>\n",
       "      <td>2034-12</td>\n",
       "      <td>2034-Q4</td>\n",
       "      <td>2034-11-13 15:42:00</td>\n",
       "      <td>762.233333</td>\n",
       "      <td>3</td>\n",
       "      <td>1</td>\n",
       "      <td>1</td>\n",
       "      <td>3</td>\n",
       "      <td>3</td>\n",
       "    </tr>\n",
       "    <tr>\n",
       "      <th>883289</th>\n",
       "      <td>00057d4302</td>\n",
       "      <td>2033-05-30 01:30:00</td>\n",
       "      <td>12.48</td>\n",
       "      <td>2033</td>\n",
       "      <td>2</td>\n",
       "      <td>0</td>\n",
       "      <td>1</td>\n",
       "      <td>30</td>\n",
       "      <td>5</td>\n",
       "      <td>2033-5-30</td>\n",
       "      <td>2033-5</td>\n",
       "      <td>2033-Q2</td>\n",
       "      <td>NaT</td>\n",
       "      <td>0.000000</td>\n",
       "      <td>1</td>\n",
       "      <td>1</td>\n",
       "      <td>1</td>\n",
       "      <td>1</td>\n",
       "      <td>1</td>\n",
       "    </tr>\n",
       "  </tbody>\n",
       "</table>\n",
       "</div>"
      ],
      "text/plain": [
       "          merchant                time  amount_usd  year  quarter  \\\n",
       "438308  0002b63b92 2033-05-16 20:07:00       33.79  2033        2   \n",
       "835993  0002d07bba 2034-10-17 17:57:00      378.30  2034        4   \n",
       "891755  0002d07bba 2034-11-13 15:42:00      438.42  2034        4   \n",
       "874950  0002d07bba 2034-12-15 09:56:00       20.57  2034        4   \n",
       "883289  00057d4302 2033-05-30 01:30:00       12.48  2033        2   \n",
       "\n",
       "        weekday_name  hour  day  month year_month_day year_month year_quarter  \\\n",
       "438308             0    20   16      5      2033-5-16     2033-5      2033-Q2   \n",
       "835993             1    17   17     10     2034-10-17    2034-10      2034-Q4   \n",
       "891755             0    15   13     11     2034-11-13    2034-11      2034-Q4   \n",
       "874950             4     9   15     12     2034-12-15    2034-12      2034-Q4   \n",
       "883289             0     1   30      5      2033-5-30     2033-5      2033-Q2   \n",
       "\n",
       "             previous_time  td_last_purchase  tx_count  tx_count_day  \\\n",
       "438308                 NaT          0.000000         1             1   \n",
       "835993                 NaT          0.000000         1             1   \n",
       "891755 2034-10-17 17:57:00        645.750000         2             1   \n",
       "874950 2034-11-13 15:42:00        762.233333         3             1   \n",
       "883289                 NaT          0.000000         1             1   \n",
       "\n",
       "        tx_count_month  tx_count_quarter  tx_count_year  \n",
       "438308               1                 1              1  \n",
       "835993               1                 1              1  \n",
       "891755               1                 2              2  \n",
       "874950               1                 3              3  \n",
       "883289               1                 1              1  "
      ]
     },
     "execution_count": 20,
     "metadata": {},
     "output_type": "execute_result"
    }
   ],
   "source": [
    "#check dataframe again\n",
    "df.head()"
   ]
  },
  {
   "cell_type": "markdown",
   "metadata": {},
   "source": [
    "## Address merchants that transact less than 2 times in the dataset"
   ]
  },
  {
   "cell_type": "code",
   "execution_count": 21,
   "metadata": {},
   "outputs": [
    {
     "data": {
      "text/plain": [
       "1923"
      ]
     },
     "execution_count": 21,
     "metadata": {},
     "output_type": "execute_result"
    }
   ],
   "source": [
    "#number of merchants that transacted one time\n",
    "#should you consider these customers as a \"churn\"? - maybe it was a demo, or a trial\n",
    "#no insight into spending habits for clusters\n",
    "(df.groupby('merchant')['tx_count'].max() < 2).sum()"
   ]
  },
  {
   "cell_type": "code",
   "execution_count": 22,
   "metadata": {},
   "outputs": [
    {
     "data": {
      "text/plain": [
       "0.14054962724747844"
      ]
     },
     "execution_count": 22,
     "metadata": {},
     "output_type": "execute_result"
    }
   ],
   "source": [
    "#% of unique merchants that transacted one time\n",
    "(df.groupby('merchant')['tx_count'].max() < 2).sum()/(df.merchant.nunique())"
   ]
  },
  {
   "cell_type": "markdown",
   "metadata": {},
   "source": [
    "Very interesting to note that about 14% of merchants have only transacted one time in this dataset. Probably makes sense to drop them from the data considering we don't have enough data points on them to group them into a \"merchant type\" cluster or to define their churn."
   ]
  },
  {
   "cell_type": "code",
   "execution_count": 23,
   "metadata": {},
   "outputs": [],
   "source": [
    "#make a list of all the merchants that transacted less than 2 times and take them from the dataset\n",
    "low_tx = df.groupby('merchant')['tx_count'].max()[lambda x: x < 2].reset_index()\n",
    "list_low_tx = list(low_tx['merchant'])"
   ]
  },
  {
   "cell_type": "code",
   "execution_count": 24,
   "metadata": {},
   "outputs": [
    {
     "data": {
      "text/plain": [
       "1923"
      ]
     },
     "execution_count": 24,
     "metadata": {},
     "output_type": "execute_result"
    }
   ],
   "source": [
    "len(list_low_tx)"
   ]
  },
  {
   "cell_type": "code",
   "execution_count": 25,
   "metadata": {},
   "outputs": [],
   "source": [
    "#drop the merchants that transacted less than 2 times in the dataframe\n",
    "df = df[~df['merchant'].isin(list_low_tx)]"
   ]
  },
  {
   "cell_type": "markdown",
   "metadata": {},
   "source": [
    "# EDA - Exploratory Data Analysis"
   ]
  },
  {
   "cell_type": "markdown",
   "metadata": {},
   "source": [
    "## When are Merchants transacting? "
   ]
  },
  {
   "cell_type": "code",
   "execution_count": 26,
   "metadata": {},
   "outputs": [],
   "source": [
    "def total_and_count(x, y):\n",
    "    ###Function to show visual for various time features on the x-axis vs the Total USD spend on the y-axis\n",
    "    ###second visual shows various time features on x-axis vs the Count of Transactions on the y-axis\n",
    "    \n",
    "    #create groupby objects of X variable to calculate the sum and count of the y-variable \n",
    "    sum_groupby_object = df.groupby(x)[y].sum().reset_index()\n",
    "    count_groupby_object = df.groupby(x)[y].count().reset_index()\n",
    "\n",
    "    #create subplots for two graphs\n",
    "    figure = plt.figure(figsize=(15,10))\n",
    "    ax = figure.add_subplot(121)\n",
    "    ax2 = figure.add_subplot(122)\n",
    "\n",
    "    #first graph shows Total USD Spend vs time features\n",
    "    sns.barplot(x=sum_groupby_object[x], y=sum_groupby_object[y], ax=ax)\n",
    "    ax.set_title('Total USD Spend per {}'.format(x))\n",
    "    ax.ticklabel_format(style='plain', axis='y',useOffset=False)\n",
    "    ax.get_yaxis().set_major_formatter(FuncFormatter(lambda x, p: format(int(x), ',')))\n",
    "\n",
    "    #Second graph shows Count of Transactions vs time features\n",
    "    sns.barplot(x=count_groupby_object[x], y=count_groupby_object[y], ax=ax2)\n",
    "    ax2.set_title('Count of Transactions per {}'.format(x))\n",
    "    ax2.ticklabel_format(style='plain', axis='y',useOffset=False)\n",
    "    ax2.get_yaxis().set_major_formatter(FuncFormatter(lambda x, p: format(int(x), ',')))"
   ]
  },
  {
   "cell_type": "code",
   "execution_count": 27,
   "metadata": {},
   "outputs": [
    {
     "data": {
      "image/png": "[encoded data removed]",
      "text/plain": [
       "<Figure size 1080x720 with 2 Axes>"
      ]
     },
     "metadata": {
      "needs_background": "light"
     },
     "output_type": "display_data"
    }
   ],
   "source": [
    "total_and_count('year', 'amount_usd')"
   ]
  },
  {
   "cell_type": "code",
   "execution_count": 28,
   "metadata": {},
   "outputs": [
    {
     "data": {
      "image/png": "[encoded data removed]",
      "text/plain": [
       "<Figure size 1080x720 with 2 Axes>"
      ]
     },
     "metadata": {
      "needs_background": "light"
     },
     "output_type": "display_data"
    }
   ],
   "source": [
    "total_and_count('quarter', 'amount_usd')"
   ]
  },
  {
   "cell_type": "code",
   "execution_count": 29,
   "metadata": {},
   "outputs": [
    {
     "data": {
      "image/png": "[encoded data removed]",
      "text/plain": [
       "<Figure size 1080x720 with 2 Axes>"
      ]
     },
     "metadata": {
      "needs_background": "light"
     },
     "output_type": "display_data"
    }
   ],
   "source": [
    "total_and_count('weekday_name', 'amount_usd')"
   ]
  },
  {
   "cell_type": "code",
   "execution_count": 30,
   "metadata": {},
   "outputs": [
    {
     "data": {
      "image/png": "[encoded data removed]",
      "text/plain": [
       "<Figure size 1080x720 with 2 Axes>"
      ]
     },
     "metadata": {
      "needs_background": "light"
     },
     "output_type": "display_data"
    }
   ],
   "source": [
    "total_and_count('hour', 'amount_usd')"
   ]
  },
  {
   "cell_type": "markdown",
   "metadata": {},
   "source": [
    "Looks like merchants are moer active for hours 0, 1, 2 and 15 through 23 (12 hour period)\n",
    "Less active(below 50k transactions) for hours 3 through 14 (12 hour period)\n",
    "\n",
    "Could also break it up by three groups\n",
    "transactions 20k and under: hours 6, 7, 8, 9, 10, 11\n",
    "35k and 45k: hours 3, 4, 5 and 12, 13, 14\n",
    "15 through 23 and 0, 1, 2 (12 hours)"
   ]
  },
  {
   "cell_type": "code",
   "execution_count": 31,
   "metadata": {},
   "outputs": [
    {
     "data": {
      "image/png": "[encoded data removed]",
      "text/plain": [
       "<Figure size 1080x720 with 2 Axes>"
      ]
     },
     "metadata": {
      "needs_background": "light"
     },
     "output_type": "display_data"
    }
   ],
   "source": [
    "total_and_count('month', 'amount_usd')"
   ]
  },
  {
   "cell_type": "code",
   "execution_count": 32,
   "metadata": {},
   "outputs": [
    {
     "data": {
      "image/png": "[encoded data removed]",
      "text/plain": [
       "<Figure size 1080x720 with 2 Axes>"
      ]
     },
     "metadata": {
      "needs_background": "light"
     },
     "output_type": "display_data"
    }
   ],
   "source": [
    "total_and_count('year_quarter', 'amount_usd')"
   ]
  },
  {
   "cell_type": "markdown",
   "metadata": {},
   "source": [
    "## Dealing with Categorical variables"
   ]
  },
  {
   "cell_type": "code",
   "execution_count": 33,
   "metadata": {},
   "outputs": [],
   "source": [
    "#create column for weekday vs weekend instead of weekday_name \n",
    "#0 = weekend, 1 = weekday\n",
    "\n",
    "df['weekday'] = df['weekday_name'].apply(lambda x: 0 if (x==5 or x==6) else 1)"
   ]
  },
  {
   "cell_type": "code",
   "execution_count": 34,
   "metadata": {},
   "outputs": [],
   "source": [
    "#create column to split hours into two groups: 'active' is hours 0-2 and 15-23 and 'less active' is hours 3-14\n",
    "df['active_hours'] = df['hour'].apply(lambda x: 0 if (x >= 3 and x <= 14) else 1)"
   ]
  },
  {
   "cell_type": "code",
   "execution_count": 35,
   "metadata": {},
   "outputs": [],
   "source": [
    "#create one-hot encoded year column\n",
    "df['year_2033'] = df['year'].apply(lambda x: 0 if (x == 2034) else 1) "
   ]
  },
  {
   "cell_type": "code",
   "execution_count": 36,
   "metadata": {},
   "outputs": [
    {
     "data": {
      "text/html": [
       "<div>\n",
       "<style scoped>\n",
       "    .dataframe tbody tr th:only-of-type {\n",
       "        vertical-align: middle;\n",
       "    }\n",
       "\n",
       "    .dataframe tbody tr th {\n",
       "        vertical-align: top;\n",
       "    }\n",
       "\n",
       "    .dataframe thead th {\n",
       "        text-align: right;\n",
       "    }\n",
       "</style>\n",
       "<table border=\"1\" class=\"dataframe\">\n",
       "  <thead>\n",
       "    <tr style=\"text-align: right;\">\n",
       "      <th></th>\n",
       "      <th>quarter_2</th>\n",
       "      <th>quarter_3</th>\n",
       "      <th>quarter_4</th>\n",
       "    </tr>\n",
       "  </thead>\n",
       "  <tbody>\n",
       "    <tr>\n",
       "      <th>835993</th>\n",
       "      <td>0</td>\n",
       "      <td>0</td>\n",
       "      <td>1</td>\n",
       "    </tr>\n",
       "    <tr>\n",
       "      <th>891755</th>\n",
       "      <td>0</td>\n",
       "      <td>0</td>\n",
       "      <td>1</td>\n",
       "    </tr>\n",
       "    <tr>\n",
       "      <th>874950</th>\n",
       "      <td>0</td>\n",
       "      <td>0</td>\n",
       "      <td>1</td>\n",
       "    </tr>\n",
       "    <tr>\n",
       "      <th>883289</th>\n",
       "      <td>1</td>\n",
       "      <td>0</td>\n",
       "      <td>0</td>\n",
       "    </tr>\n",
       "    <tr>\n",
       "      <th>40102</th>\n",
       "      <td>1</td>\n",
       "      <td>0</td>\n",
       "      <td>0</td>\n",
       "    </tr>\n",
       "  </tbody>\n",
       "</table>\n",
       "</div>"
      ],
      "text/plain": [
       "        quarter_2  quarter_3  quarter_4\n",
       "835993          0          0          1\n",
       "891755          0          0          1\n",
       "874950          0          0          1\n",
       "883289          1          0          0\n",
       "40102           1          0          0"
      ]
     },
     "execution_count": 36,
     "metadata": {},
     "output_type": "execute_result"
    }
   ],
   "source": [
    "#one-hot encode categorical variables, drop first column because it will be redundant data\n",
    "one_hot = pd.get_dummies(df['quarter'], prefix='quarter', drop_first=True)\n",
    "\n",
    "#convert one_hot to int64\n",
    "one_hot = one_hot.astype('int64')\n",
    "\n",
    "#check it out\n",
    "one_hot.head()"
   ]
  },
  {
   "cell_type": "code",
   "execution_count": 37,
   "metadata": {},
   "outputs": [],
   "source": [
    "#join one_hot with df\n",
    "df = df.join(one_hot)"
   ]
  },
  {
   "cell_type": "code",
   "execution_count": 38,
   "metadata": {},
   "outputs": [],
   "source": [
    "#drop unnecessary columns\n",
    "df.drop(['weekday_name', 'hour', 'year', 'quarter', 'day', 'month','previous_time'], axis=1, inplace=True)"
   ]
  },
  {
   "cell_type": "markdown",
   "metadata": {},
   "source": [
    "## Average Spend and Average time Delta per Merchant"
   ]
  },
  {
   "cell_type": "code",
   "execution_count": 42,
   "metadata": {},
   "outputs": [
    {
     "data": {
      "text/html": [
       "<div>\n",
       "<style scoped>\n",
       "    .dataframe tbody tr th:only-of-type {\n",
       "        vertical-align: middle;\n",
       "    }\n",
       "\n",
       "    .dataframe tbody tr th {\n",
       "        vertical-align: top;\n",
       "    }\n",
       "\n",
       "    .dataframe thead th {\n",
       "        text-align: right;\n",
       "    }\n",
       "</style>\n",
       "<table border=\"1\" class=\"dataframe\">\n",
       "  <thead>\n",
       "    <tr style=\"text-align: right;\">\n",
       "      <th></th>\n",
       "      <th>amount_usd</th>\n",
       "      <th>td_last_purchase</th>\n",
       "    </tr>\n",
       "  </thead>\n",
       "  <tbody>\n",
       "    <tr>\n",
       "      <th>count</th>\n",
       "      <td>11759.000000</td>\n",
       "      <td>11759.000000</td>\n",
       "    </tr>\n",
       "    <tr>\n",
       "      <th>mean</th>\n",
       "      <td>331.553244</td>\n",
       "      <td>432.011901</td>\n",
       "    </tr>\n",
       "    <tr>\n",
       "      <th>std</th>\n",
       "      <td>1196.819287</td>\n",
       "      <td>654.252827</td>\n",
       "    </tr>\n",
       "    <tr>\n",
       "      <th>min</th>\n",
       "      <td>2.180000</td>\n",
       "      <td>0.006348</td>\n",
       "    </tr>\n",
       "    <tr>\n",
       "      <th>25%</th>\n",
       "      <td>56.635439</td>\n",
       "      <td>53.505093</td>\n",
       "    </tr>\n",
       "    <tr>\n",
       "      <th>50%</th>\n",
       "      <td>103.213333</td>\n",
       "      <td>188.641781</td>\n",
       "    </tr>\n",
       "    <tr>\n",
       "      <th>75%</th>\n",
       "      <td>245.116535</td>\n",
       "      <td>528.526190</td>\n",
       "    </tr>\n",
       "    <tr>\n",
       "      <th>max</th>\n",
       "      <td>89585.768000</td>\n",
       "      <td>8696.358333</td>\n",
       "    </tr>\n",
       "  </tbody>\n",
       "</table>\n",
       "</div>"
      ],
      "text/plain": [
       "         amount_usd  td_last_purchase\n",
       "count  11759.000000      11759.000000\n",
       "mean     331.553244        432.011901\n",
       "std     1196.819287        654.252827\n",
       "min        2.180000          0.006348\n",
       "25%       56.635439         53.505093\n",
       "50%      103.213333        188.641781\n",
       "75%      245.116535        528.526190\n",
       "max    89585.768000       8696.358333"
      ]
     },
     "execution_count": 42,
     "metadata": {},
     "output_type": "execute_result"
    }
   ],
   "source": [
    "#average amount_usd and average time between transactions per merchant\n",
    "df.groupby('merchant')[['amount_usd', 'td_last_purchase']].mean().reset_index().describe()"
   ]
  },
  {
   "cell_type": "code",
   "execution_count": 39,
   "metadata": {
    "scrolled": false
   },
   "outputs": [
    {
     "data": {
      "text/plain": [
       "Text(0, 0.5, 'Average Amount Spent')"
      ]
     },
     "execution_count": 39,
     "metadata": {},
     "output_type": "execute_result"
    },
    {
     "data": {
      "image/png": "[encoded data removed]",
      "text/plain": [
       "<Figure size 864x576 with 1 Axes>"
      ]
     },
     "metadata": {
      "needs_background": "light"
     },
     "output_type": "display_data"
    }
   ],
   "source": [
    "df.groupby('merchant')['amount_usd'].mean().reset_index().plot(figsize=(12,8))\n",
    "plt.ylim(top=40000)\n",
    "plt.title('Average amount spent per Merchant')\n",
    "plt.xlabel('Merchant IDs')\n",
    "plt.ylabel('Average Amount Spent')"
   ]
  },
  {
   "cell_type": "code",
   "execution_count": 136,
   "metadata": {},
   "outputs": [
    {
     "data": {
      "text/plain": [
       "Text(0, 0.5, 'Average Time Delta (in days)')"
      ]
     },
     "execution_count": 136,
     "metadata": {},
     "output_type": "execute_result"
    },
    {
     "data": {
      "image/png": "[encoded data removed]",
      "text/plain": [
       "<Figure size 864x576 with 1 Axes>"
      ]
     },
     "metadata": {},
     "output_type": "display_data"
    }
   ],
   "source": [
    "(df.groupby('merchant')['td_last_purchase'].mean()/24).reset_index().plot(figsize=(12,8))\n",
    "plt.title('Average Time Delta between Transactions by Merchant')\n",
    "plt.xlabel('Merchant IDs')\n",
    "plt.ylabel('Average Time Delta (in days)')"
   ]
  },
  {
   "cell_type": "markdown",
   "metadata": {},
   "source": [
    "## Transaction Frequency per Merchant"
   ]
  },
  {
   "cell_type": "code",
   "execution_count": 140,
   "metadata": {},
   "outputs": [
    {
     "data": {
      "text/html": [
       "<div>\n",
       "<style scoped>\n",
       "    .dataframe tbody tr th:only-of-type {\n",
       "        vertical-align: middle;\n",
       "    }\n",
       "\n",
       "    .dataframe tbody tr th {\n",
       "        vertical-align: top;\n",
       "    }\n",
       "\n",
       "    .dataframe thead th {\n",
       "        text-align: right;\n",
       "    }\n",
       "</style>\n",
       "<table border=\"1\" class=\"dataframe\">\n",
       "  <thead>\n",
       "    <tr style=\"text-align: right;\">\n",
       "      <th></th>\n",
       "      <th>tx_count_day</th>\n",
       "      <th>tx_count_month</th>\n",
       "      <th>tx_count_quarter</th>\n",
       "      <th>tx_count</th>\n",
       "    </tr>\n",
       "  </thead>\n",
       "  <tbody>\n",
       "    <tr>\n",
       "      <th>count</th>\n",
       "      <td>11759.000000</td>\n",
       "      <td>11759.000000</td>\n",
       "      <td>11759.000000</td>\n",
       "      <td>11759.000000</td>\n",
       "    </tr>\n",
       "    <tr>\n",
       "      <th>mean</th>\n",
       "      <td>8.421634</td>\n",
       "      <td>23.414831</td>\n",
       "      <td>39.650566</td>\n",
       "      <td>89.008589</td>\n",
       "    </tr>\n",
       "    <tr>\n",
       "      <th>std</th>\n",
       "      <td>76.941806</td>\n",
       "      <td>117.324706</td>\n",
       "      <td>174.992753</td>\n",
       "      <td>402.128588</td>\n",
       "    </tr>\n",
       "    <tr>\n",
       "      <th>min</th>\n",
       "      <td>1.000000</td>\n",
       "      <td>1.000000</td>\n",
       "      <td>1.000000</td>\n",
       "      <td>2.000000</td>\n",
       "    </tr>\n",
       "    <tr>\n",
       "      <th>25%</th>\n",
       "      <td>1.000000</td>\n",
       "      <td>2.000000</td>\n",
       "      <td>3.000000</td>\n",
       "      <td>4.000000</td>\n",
       "    </tr>\n",
       "    <tr>\n",
       "      <th>50%</th>\n",
       "      <td>2.000000</td>\n",
       "      <td>5.000000</td>\n",
       "      <td>7.000000</td>\n",
       "      <td>12.000000</td>\n",
       "    </tr>\n",
       "    <tr>\n",
       "      <th>75%</th>\n",
       "      <td>4.000000</td>\n",
       "      <td>15.000000</td>\n",
       "      <td>24.000000</td>\n",
       "      <td>44.000000</td>\n",
       "    </tr>\n",
       "    <tr>\n",
       "      <th>max</th>\n",
       "      <td>6221.000000</td>\n",
       "      <td>7644.000000</td>\n",
       "      <td>7648.000000</td>\n",
       "      <td>17692.000000</td>\n",
       "    </tr>\n",
       "  </tbody>\n",
       "</table>\n",
       "</div>"
      ],
      "text/plain": [
       "       tx_count_day  tx_count_month  tx_count_quarter      tx_count\n",
       "count  11759.000000    11759.000000      11759.000000  11759.000000\n",
       "mean       8.421634       23.414831         39.650566     89.008589\n",
       "std       76.941806      117.324706        174.992753    402.128588\n",
       "min        1.000000        1.000000          1.000000      2.000000\n",
       "25%        1.000000        2.000000          3.000000      4.000000\n",
       "50%        2.000000        5.000000          7.000000     12.000000\n",
       "75%        4.000000       15.000000         24.000000     44.000000\n",
       "max     6221.000000     7644.000000       7648.000000  17692.000000"
      ]
     },
     "execution_count": 140,
     "metadata": {},
     "output_type": "execute_result"
    }
   ],
   "source": [
    "#max transactions in a day, max transactions in a month, max transactions lifetime per merchant\n",
    "df.groupby('merchant')[['tx_count_day', 'tx_count_month', 'tx_count_quarter', 'tx_count']].max().reset_index().describe()"
   ]
  },
  {
   "cell_type": "code",
   "execution_count": 139,
   "metadata": {},
   "outputs": [
    {
     "data": {
      "text/plain": [
       "Text(0, 0.5, 'Transaction Count')"
      ]
     },
     "execution_count": 139,
     "metadata": {},
     "output_type": "execute_result"
    },
    {
     "data": {
      "image/png": "[encoded data removed]",
      "text/plain": [
       "<Figure size 864x576 with 1 Axes>"
      ]
     },
     "metadata": {},
     "output_type": "display_data"
    }
   ],
   "source": [
    "df.groupby('merchant')[['tx_count_month']].max().reset_index().plot(figsize=(12,8))\n",
    "plt.title('Max Transaction Count in one Month by Merchant')\n",
    "plt.xlabel('Merchant IDs')\n",
    "plt.ylabel('Transaction Count')"
   ]
  },
  {
   "cell_type": "markdown",
   "metadata": {},
   "source": [
    "## Transaction counts across different time periods"
   ]
  },
  {
   "cell_type": "code",
   "execution_count": 43,
   "metadata": {},
   "outputs": [
    {
     "data": {
      "text/html": [
       "<div>\n",
       "<style scoped>\n",
       "    .dataframe tbody tr th:only-of-type {\n",
       "        vertical-align: middle;\n",
       "    }\n",
       "\n",
       "    .dataframe tbody tr th {\n",
       "        vertical-align: top;\n",
       "    }\n",
       "\n",
       "    .dataframe thead th {\n",
       "        text-align: right;\n",
       "    }\n",
       "</style>\n",
       "<table border=\"1\" class=\"dataframe\">\n",
       "  <thead>\n",
       "    <tr style=\"text-align: right;\">\n",
       "      <th></th>\n",
       "      <th>quarter_2</th>\n",
       "      <th>quarter_3</th>\n",
       "      <th>quarter_4</th>\n",
       "      <th>active_hours</th>\n",
       "      <th>weekday</th>\n",
       "      <th>year_2033</th>\n",
       "    </tr>\n",
       "  </thead>\n",
       "  <tbody>\n",
       "    <tr>\n",
       "      <th>count</th>\n",
       "      <td>11759.000000</td>\n",
       "      <td>11759.000000</td>\n",
       "      <td>11759.000000</td>\n",
       "      <td>11759.000000</td>\n",
       "      <td>11759.000000</td>\n",
       "      <td>11759.000000</td>\n",
       "    </tr>\n",
       "    <tr>\n",
       "      <th>mean</th>\n",
       "      <td>19.088103</td>\n",
       "      <td>23.939961</td>\n",
       "      <td>31.665788</td>\n",
       "      <td>64.127392</td>\n",
       "      <td>65.651331</td>\n",
       "      <td>21.898716</td>\n",
       "    </tr>\n",
       "    <tr>\n",
       "      <th>std</th>\n",
       "      <td>105.742042</td>\n",
       "      <td>114.081443</td>\n",
       "      <td>156.239823</td>\n",
       "      <td>290.776734</td>\n",
       "      <td>300.542563</td>\n",
       "      <td>159.652706</td>\n",
       "    </tr>\n",
       "    <tr>\n",
       "      <th>min</th>\n",
       "      <td>0.000000</td>\n",
       "      <td>0.000000</td>\n",
       "      <td>0.000000</td>\n",
       "      <td>0.000000</td>\n",
       "      <td>0.000000</td>\n",
       "      <td>0.000000</td>\n",
       "    </tr>\n",
       "    <tr>\n",
       "      <th>25%</th>\n",
       "      <td>0.000000</td>\n",
       "      <td>0.000000</td>\n",
       "      <td>0.000000</td>\n",
       "      <td>3.000000</td>\n",
       "      <td>3.000000</td>\n",
       "      <td>0.000000</td>\n",
       "    </tr>\n",
       "    <tr>\n",
       "      <th>50%</th>\n",
       "      <td>1.000000</td>\n",
       "      <td>2.000000</td>\n",
       "      <td>3.000000</td>\n",
       "      <td>8.000000</td>\n",
       "      <td>9.000000</td>\n",
       "      <td>0.000000</td>\n",
       "    </tr>\n",
       "    <tr>\n",
       "      <th>75%</th>\n",
       "      <td>7.000000</td>\n",
       "      <td>10.000000</td>\n",
       "      <td>14.000000</td>\n",
       "      <td>30.000000</td>\n",
       "      <td>33.000000</td>\n",
       "      <td>6.000000</td>\n",
       "    </tr>\n",
       "    <tr>\n",
       "      <th>max</th>\n",
       "      <td>4405.000000</td>\n",
       "      <td>5090.000000</td>\n",
       "      <td>6417.000000</td>\n",
       "      <td>11838.000000</td>\n",
       "      <td>12623.000000</td>\n",
       "      <td>7649.000000</td>\n",
       "    </tr>\n",
       "  </tbody>\n",
       "</table>\n",
       "</div>"
      ],
      "text/plain": [
       "          quarter_2     quarter_3     quarter_4  active_hours       weekday  \\\n",
       "count  11759.000000  11759.000000  11759.000000  11759.000000  11759.000000   \n",
       "mean      19.088103     23.939961     31.665788     64.127392     65.651331   \n",
       "std      105.742042    114.081443    156.239823    290.776734    300.542563   \n",
       "min        0.000000      0.000000      0.000000      0.000000      0.000000   \n",
       "25%        0.000000      0.000000      0.000000      3.000000      3.000000   \n",
       "50%        1.000000      2.000000      3.000000      8.000000      9.000000   \n",
       "75%        7.000000     10.000000     14.000000     30.000000     33.000000   \n",
       "max     4405.000000   5090.000000   6417.000000  11838.000000  12623.000000   \n",
       "\n",
       "          year_2033  \n",
       "count  11759.000000  \n",
       "mean      21.898716  \n",
       "std      159.652706  \n",
       "min        0.000000  \n",
       "25%        0.000000  \n",
       "50%        0.000000  \n",
       "75%        6.000000  \n",
       "max     7649.000000  "
      ]
     },
     "execution_count": 43,
     "metadata": {},
     "output_type": "execute_result"
    }
   ],
   "source": [
    "#total count of transactions in quarters, active_hours, weekday, and year per merchant\n",
    "df.groupby('merchant')[['quarter_2', 'quarter_3', 'quarter_4', \n",
    "                        'active_hours', 'weekday', 'year_2033']].sum().reset_index().describe()"
   ]
  },
  {
   "cell_type": "markdown",
   "metadata": {},
   "source": [
    "## Build a dataframe with aggregated merchant data for a clustering model"
   ]
  },
  {
   "cell_type": "code",
   "execution_count": 44,
   "metadata": {},
   "outputs": [],
   "source": [
    "#look at the average amount_usd and average time delta across merchants\n",
    "#this gives you an idea of the average spend and average frequency of transacting for each merchant\n",
    "mean_amount = df.groupby('merchant')[['amount_usd', 'td_last_purchase']].mean().reset_index()\n",
    "\n",
    "#look at the maximum transaction count per day and per month across merchants\n",
    "#this gives you an idea of how frequently each merchant transacts each day and each month\n",
    "max_tx_count = df.groupby('merchant')[['tx_count_day', 'tx_count_month']].max().reset_index()\n",
    "\n",
    "#look at the sum of transaction counts in quarter_2, quarter_3, quarter_4, active_hours, weekday, year_2033 across merchants\n",
    "#this will give you an idea of how active each merchant is in different time frames\n",
    "sum_time = df.groupby('merchant')[['quarter_2', 'quarter_3', 'quarter_4', 'active_hours', 'weekday', 'year_2033']].sum().reset_index()"
   ]
  },
  {
   "cell_type": "code",
   "execution_count": 45,
   "metadata": {},
   "outputs": [],
   "source": [
    "#create one dataframe that has all of the aggregated features from above\n",
    "merged_grouped_df = mean_amount.merge(max_tx_count, on='merchant').merge(sum_time, on='merchant')"
   ]
  },
  {
   "cell_type": "code",
   "execution_count": 46,
   "metadata": {},
   "outputs": [
    {
     "data": {
      "text/html": [
       "<div>\n",
       "<style scoped>\n",
       "    .dataframe tbody tr th:only-of-type {\n",
       "        vertical-align: middle;\n",
       "    }\n",
       "\n",
       "    .dataframe tbody tr th {\n",
       "        vertical-align: top;\n",
       "    }\n",
       "\n",
       "    .dataframe thead th {\n",
       "        text-align: right;\n",
       "    }\n",
       "</style>\n",
       "<table border=\"1\" class=\"dataframe\">\n",
       "  <thead>\n",
       "    <tr style=\"text-align: right;\">\n",
       "      <th></th>\n",
       "      <th>merchant</th>\n",
       "      <th>amount_usd</th>\n",
       "      <th>td_last_purchase</th>\n",
       "      <th>tx_count_day</th>\n",
       "      <th>tx_count_month</th>\n",
       "      <th>quarter_2</th>\n",
       "      <th>quarter_3</th>\n",
       "      <th>quarter_4</th>\n",
       "      <th>active_hours</th>\n",
       "      <th>weekday</th>\n",
       "      <th>year_2033</th>\n",
       "    </tr>\n",
       "  </thead>\n",
       "  <tbody>\n",
       "    <tr>\n",
       "      <th>0</th>\n",
       "      <td>0002d07bba</td>\n",
       "      <td>279.096667</td>\n",
       "      <td>469.327778</td>\n",
       "      <td>1</td>\n",
       "      <td>1</td>\n",
       "      <td>0</td>\n",
       "      <td>0</td>\n",
       "      <td>3</td>\n",
       "      <td>2</td>\n",
       "      <td>3</td>\n",
       "      <td>0</td>\n",
       "    </tr>\n",
       "    <tr>\n",
       "      <th>1</th>\n",
       "      <td>00057d4302</td>\n",
       "      <td>8.336875</td>\n",
       "      <td>99.167708</td>\n",
       "      <td>9</td>\n",
       "      <td>9</td>\n",
       "      <td>9</td>\n",
       "      <td>7</td>\n",
       "      <td>0</td>\n",
       "      <td>10</td>\n",
       "      <td>16</td>\n",
       "      <td>16</td>\n",
       "    </tr>\n",
       "    <tr>\n",
       "      <th>2</th>\n",
       "      <td>000ed1585f</td>\n",
       "      <td>265.960476</td>\n",
       "      <td>374.867857</td>\n",
       "      <td>2</td>\n",
       "      <td>4</td>\n",
       "      <td>14</td>\n",
       "      <td>13</td>\n",
       "      <td>6</td>\n",
       "      <td>29</td>\n",
       "      <td>34</td>\n",
       "      <td>25</td>\n",
       "    </tr>\n",
       "    <tr>\n",
       "      <th>3</th>\n",
       "      <td>000f8c3297</td>\n",
       "      <td>113.812212</td>\n",
       "      <td>51.001122</td>\n",
       "      <td>5</td>\n",
       "      <td>26</td>\n",
       "      <td>50</td>\n",
       "      <td>54</td>\n",
       "      <td>81</td>\n",
       "      <td>91</td>\n",
       "      <td>205</td>\n",
       "      <td>8</td>\n",
       "    </tr>\n",
       "    <tr>\n",
       "      <th>4</th>\n",
       "      <td>0026f256ac</td>\n",
       "      <td>354.706000</td>\n",
       "      <td>424.463333</td>\n",
       "      <td>1</td>\n",
       "      <td>2</td>\n",
       "      <td>1</td>\n",
       "      <td>4</td>\n",
       "      <td>0</td>\n",
       "      <td>3</td>\n",
       "      <td>3</td>\n",
       "      <td>5</td>\n",
       "    </tr>\n",
       "  </tbody>\n",
       "</table>\n",
       "</div>"
      ],
      "text/plain": [
       "     merchant  amount_usd  td_last_purchase  tx_count_day  tx_count_month  \\\n",
       "0  0002d07bba  279.096667        469.327778             1               1   \n",
       "1  00057d4302    8.336875         99.167708             9               9   \n",
       "2  000ed1585f  265.960476        374.867857             2               4   \n",
       "3  000f8c3297  113.812212         51.001122             5              26   \n",
       "4  0026f256ac  354.706000        424.463333             1               2   \n",
       "\n",
       "   quarter_2  quarter_3  quarter_4  active_hours  weekday  year_2033  \n",
       "0          0          0          3             2        3          0  \n",
       "1          9          7          0            10       16         16  \n",
       "2         14         13          6            29       34         25  \n",
       "3         50         54         81            91      205          8  \n",
       "4          1          4          0             3        3          5  "
      ]
     },
     "execution_count": 46,
     "metadata": {},
     "output_type": "execute_result"
    }
   ],
   "source": [
    "merged_grouped_df.head()"
   ]
  },
  {
   "cell_type": "code",
   "execution_count": 47,
   "metadata": {},
   "outputs": [
    {
     "name": "stdout",
     "output_type": "stream",
     "text": [
      "<class 'pandas.core.frame.DataFrame'>\n",
      "Int64Index: 11759 entries, 0 to 11758\n",
      "Data columns (total 11 columns):\n",
      " #   Column            Non-Null Count  Dtype  \n",
      "---  ------            --------------  -----  \n",
      " 0   merchant          11759 non-null  object \n",
      " 1   amount_usd        11759 non-null  float64\n",
      " 2   td_last_purchase  11759 non-null  float64\n",
      " 3   tx_count_day      11759 non-null  int64  \n",
      " 4   tx_count_month    11759 non-null  int64  \n",
      " 5   quarter_2         11759 non-null  int64  \n",
      " 6   quarter_3         11759 non-null  int64  \n",
      " 7   quarter_4         11759 non-null  int64  \n",
      " 8   active_hours      11759 non-null  int64  \n",
      " 9   weekday           11759 non-null  int64  \n",
      " 10  year_2033         11759 non-null  int64  \n",
      "dtypes: float64(2), int64(8), object(1)\n",
      "memory usage: 1.1+ MB\n"
     ]
    }
   ],
   "source": [
    "merged_grouped_df.info()"
   ]
  },
  {
   "cell_type": "code",
   "execution_count": 48,
   "metadata": {},
   "outputs": [
    {
     "data": {
      "text/html": [
       "<div>\n",
       "<style scoped>\n",
       "    .dataframe tbody tr th:only-of-type {\n",
       "        vertical-align: middle;\n",
       "    }\n",
       "\n",
       "    .dataframe tbody tr th {\n",
       "        vertical-align: top;\n",
       "    }\n",
       "\n",
       "    .dataframe thead th {\n",
       "        text-align: right;\n",
       "    }\n",
       "</style>\n",
       "<table border=\"1\" class=\"dataframe\">\n",
       "  <thead>\n",
       "    <tr style=\"text-align: right;\">\n",
       "      <th></th>\n",
       "      <th>amount_usd</th>\n",
       "      <th>td_last_purchase</th>\n",
       "      <th>tx_count_day</th>\n",
       "      <th>tx_count_month</th>\n",
       "      <th>quarter_2</th>\n",
       "      <th>quarter_3</th>\n",
       "      <th>quarter_4</th>\n",
       "      <th>active_hours</th>\n",
       "      <th>weekday</th>\n",
       "      <th>year_2033</th>\n",
       "    </tr>\n",
       "  </thead>\n",
       "  <tbody>\n",
       "    <tr>\n",
       "      <th>count</th>\n",
       "      <td>11759.000000</td>\n",
       "      <td>11759.000000</td>\n",
       "      <td>11759.000000</td>\n",
       "      <td>11759.000000</td>\n",
       "      <td>11759.000000</td>\n",
       "      <td>11759.000000</td>\n",
       "      <td>11759.000000</td>\n",
       "      <td>11759.000000</td>\n",
       "      <td>11759.000000</td>\n",
       "      <td>11759.000000</td>\n",
       "    </tr>\n",
       "    <tr>\n",
       "      <th>mean</th>\n",
       "      <td>331.553244</td>\n",
       "      <td>432.011901</td>\n",
       "      <td>8.421634</td>\n",
       "      <td>23.414831</td>\n",
       "      <td>19.088103</td>\n",
       "      <td>23.939961</td>\n",
       "      <td>31.665788</td>\n",
       "      <td>64.127392</td>\n",
       "      <td>65.651331</td>\n",
       "      <td>21.898716</td>\n",
       "    </tr>\n",
       "    <tr>\n",
       "      <th>std</th>\n",
       "      <td>1196.819287</td>\n",
       "      <td>654.252827</td>\n",
       "      <td>76.941806</td>\n",
       "      <td>117.324706</td>\n",
       "      <td>105.742042</td>\n",
       "      <td>114.081443</td>\n",
       "      <td>156.239823</td>\n",
       "      <td>290.776734</td>\n",
       "      <td>300.542563</td>\n",
       "      <td>159.652706</td>\n",
       "    </tr>\n",
       "    <tr>\n",
       "      <th>min</th>\n",
       "      <td>2.180000</td>\n",
       "      <td>0.006348</td>\n",
       "      <td>1.000000</td>\n",
       "      <td>1.000000</td>\n",
       "      <td>0.000000</td>\n",
       "      <td>0.000000</td>\n",
       "      <td>0.000000</td>\n",
       "      <td>0.000000</td>\n",
       "      <td>0.000000</td>\n",
       "      <td>0.000000</td>\n",
       "    </tr>\n",
       "    <tr>\n",
       "      <th>25%</th>\n",
       "      <td>56.635439</td>\n",
       "      <td>53.505093</td>\n",
       "      <td>1.000000</td>\n",
       "      <td>2.000000</td>\n",
       "      <td>0.000000</td>\n",
       "      <td>0.000000</td>\n",
       "      <td>0.000000</td>\n",
       "      <td>3.000000</td>\n",
       "      <td>3.000000</td>\n",
       "      <td>0.000000</td>\n",
       "    </tr>\n",
       "    <tr>\n",
       "      <th>50%</th>\n",
       "      <td>103.213333</td>\n",
       "      <td>188.641781</td>\n",
       "      <td>2.000000</td>\n",
       "      <td>5.000000</td>\n",
       "      <td>1.000000</td>\n",
       "      <td>2.000000</td>\n",
       "      <td>3.000000</td>\n",
       "      <td>8.000000</td>\n",
       "      <td>9.000000</td>\n",
       "      <td>0.000000</td>\n",
       "    </tr>\n",
       "    <tr>\n",
       "      <th>75%</th>\n",
       "      <td>245.116535</td>\n",
       "      <td>528.526190</td>\n",
       "      <td>4.000000</td>\n",
       "      <td>15.000000</td>\n",
       "      <td>7.000000</td>\n",
       "      <td>10.000000</td>\n",
       "      <td>14.000000</td>\n",
       "      <td>30.000000</td>\n",
       "      <td>33.000000</td>\n",
       "      <td>6.000000</td>\n",
       "    </tr>\n",
       "    <tr>\n",
       "      <th>max</th>\n",
       "      <td>89585.768000</td>\n",
       "      <td>8696.358333</td>\n",
       "      <td>6221.000000</td>\n",
       "      <td>7644.000000</td>\n",
       "      <td>4405.000000</td>\n",
       "      <td>5090.000000</td>\n",
       "      <td>6417.000000</td>\n",
       "      <td>11838.000000</td>\n",
       "      <td>12623.000000</td>\n",
       "      <td>7649.000000</td>\n",
       "    </tr>\n",
       "  </tbody>\n",
       "</table>\n",
       "</div>"
      ],
      "text/plain": [
       "         amount_usd  td_last_purchase  tx_count_day  tx_count_month  \\\n",
       "count  11759.000000      11759.000000  11759.000000    11759.000000   \n",
       "mean     331.553244        432.011901      8.421634       23.414831   \n",
       "std     1196.819287        654.252827     76.941806      117.324706   \n",
       "min        2.180000          0.006348      1.000000        1.000000   \n",
       "25%       56.635439         53.505093      1.000000        2.000000   \n",
       "50%      103.213333        188.641781      2.000000        5.000000   \n",
       "75%      245.116535        528.526190      4.000000       15.000000   \n",
       "max    89585.768000       8696.358333   6221.000000     7644.000000   \n",
       "\n",
       "          quarter_2     quarter_3     quarter_4  active_hours       weekday  \\\n",
       "count  11759.000000  11759.000000  11759.000000  11759.000000  11759.000000   \n",
       "mean      19.088103     23.939961     31.665788     64.127392     65.651331   \n",
       "std      105.742042    114.081443    156.239823    290.776734    300.542563   \n",
       "min        0.000000      0.000000      0.000000      0.000000      0.000000   \n",
       "25%        0.000000      0.000000      0.000000      3.000000      3.000000   \n",
       "50%        1.000000      2.000000      3.000000      8.000000      9.000000   \n",
       "75%        7.000000     10.000000     14.000000     30.000000     33.000000   \n",
       "max     4405.000000   5090.000000   6417.000000  11838.000000  12623.000000   \n",
       "\n",
       "          year_2033  \n",
       "count  11759.000000  \n",
       "mean      21.898716  \n",
       "std      159.652706  \n",
       "min        0.000000  \n",
       "25%        0.000000  \n",
       "50%        0.000000  \n",
       "75%        6.000000  \n",
       "max     7649.000000  "
      ]
     },
     "execution_count": 48,
     "metadata": {},
     "output_type": "execute_result"
    }
   ],
   "source": [
    "merged_grouped_df.describe()"
   ]
  },
  {
   "cell_type": "markdown",
   "metadata": {},
   "source": [
    "# Final feature selection for model"
   ]
  },
  {
   "cell_type": "code",
   "execution_count": 49,
   "metadata": {},
   "outputs": [],
   "source": [
    "#select features for k-means algo - use everything from amount_usd_in_cents to avg_time_diff_minutes\n",
    "X = merged_grouped_df.iloc[:, 1:]"
   ]
  },
  {
   "cell_type": "code",
   "execution_count": 50,
   "metadata": {
    "scrolled": true
   },
   "outputs": [
    {
     "data": {
      "text/html": [
       "<div>\n",
       "<style scoped>\n",
       "    .dataframe tbody tr th:only-of-type {\n",
       "        vertical-align: middle;\n",
       "    }\n",
       "\n",
       "    .dataframe tbody tr th {\n",
       "        vertical-align: top;\n",
       "    }\n",
       "\n",
       "    .dataframe thead th {\n",
       "        text-align: right;\n",
       "    }\n",
       "</style>\n",
       "<table border=\"1\" class=\"dataframe\">\n",
       "  <thead>\n",
       "    <tr style=\"text-align: right;\">\n",
       "      <th></th>\n",
       "      <th>amount_usd</th>\n",
       "      <th>td_last_purchase</th>\n",
       "      <th>tx_count_day</th>\n",
       "      <th>tx_count_month</th>\n",
       "      <th>quarter_2</th>\n",
       "      <th>quarter_3</th>\n",
       "      <th>quarter_4</th>\n",
       "      <th>active_hours</th>\n",
       "      <th>weekday</th>\n",
       "      <th>year_2033</th>\n",
       "    </tr>\n",
       "  </thead>\n",
       "  <tbody>\n",
       "    <tr>\n",
       "      <th>0</th>\n",
       "      <td>279.096667</td>\n",
       "      <td>469.327778</td>\n",
       "      <td>1</td>\n",
       "      <td>1</td>\n",
       "      <td>0</td>\n",
       "      <td>0</td>\n",
       "      <td>3</td>\n",
       "      <td>2</td>\n",
       "      <td>3</td>\n",
       "      <td>0</td>\n",
       "    </tr>\n",
       "    <tr>\n",
       "      <th>1</th>\n",
       "      <td>8.336875</td>\n",
       "      <td>99.167708</td>\n",
       "      <td>9</td>\n",
       "      <td>9</td>\n",
       "      <td>9</td>\n",
       "      <td>7</td>\n",
       "      <td>0</td>\n",
       "      <td>10</td>\n",
       "      <td>16</td>\n",
       "      <td>16</td>\n",
       "    </tr>\n",
       "    <tr>\n",
       "      <th>2</th>\n",
       "      <td>265.960476</td>\n",
       "      <td>374.867857</td>\n",
       "      <td>2</td>\n",
       "      <td>4</td>\n",
       "      <td>14</td>\n",
       "      <td>13</td>\n",
       "      <td>6</td>\n",
       "      <td>29</td>\n",
       "      <td>34</td>\n",
       "      <td>25</td>\n",
       "    </tr>\n",
       "    <tr>\n",
       "      <th>3</th>\n",
       "      <td>113.812212</td>\n",
       "      <td>51.001122</td>\n",
       "      <td>5</td>\n",
       "      <td>26</td>\n",
       "      <td>50</td>\n",
       "      <td>54</td>\n",
       "      <td>81</td>\n",
       "      <td>91</td>\n",
       "      <td>205</td>\n",
       "      <td>8</td>\n",
       "    </tr>\n",
       "    <tr>\n",
       "      <th>4</th>\n",
       "      <td>354.706000</td>\n",
       "      <td>424.463333</td>\n",
       "      <td>1</td>\n",
       "      <td>2</td>\n",
       "      <td>1</td>\n",
       "      <td>4</td>\n",
       "      <td>0</td>\n",
       "      <td>3</td>\n",
       "      <td>3</td>\n",
       "      <td>5</td>\n",
       "    </tr>\n",
       "  </tbody>\n",
       "</table>\n",
       "</div>"
      ],
      "text/plain": [
       "   amount_usd  td_last_purchase  tx_count_day  tx_count_month  quarter_2  \\\n",
       "0  279.096667        469.327778             1               1          0   \n",
       "1    8.336875         99.167708             9               9          9   \n",
       "2  265.960476        374.867857             2               4         14   \n",
       "3  113.812212         51.001122             5              26         50   \n",
       "4  354.706000        424.463333             1               2          1   \n",
       "\n",
       "   quarter_3  quarter_4  active_hours  weekday  year_2033  \n",
       "0          0          3             2        3          0  \n",
       "1          7          0            10       16         16  \n",
       "2         13          6            29       34         25  \n",
       "3         54         81            91      205          8  \n",
       "4          4          0             3        3          5  "
      ]
     },
     "execution_count": 50,
     "metadata": {},
     "output_type": "execute_result"
    }
   ],
   "source": [
    "X.head()"
   ]
  },
  {
   "cell_type": "markdown",
   "metadata": {},
   "source": [
    "# Feature Scaling"
   ]
  },
  {
   "cell_type": "code",
   "execution_count": 51,
   "metadata": {},
   "outputs": [],
   "source": [
    "#try MinMaxScaler first\n",
    "#MinMaxScaler makes every value between 0 and 1 \n",
    "#standardscaler makes mean=0, and sd=1\n",
    "from sklearn.preprocessing import MinMaxScaler\n",
    "from sklearn.preprocessing import StandardScaler\n",
    "\n",
    "min_max = MinMaxScaler().fit_transform(X)\n",
    "#standard_scaler = StandardScaler().fit_transform(X)"
   ]
  },
  {
   "cell_type": "code",
   "execution_count": 52,
   "metadata": {},
   "outputs": [],
   "source": [
    "cols = X.columns\n",
    "X = pd.DataFrame(data=min_max, columns=[cols])"
   ]
  },
  {
   "cell_type": "code",
   "execution_count": 53,
   "metadata": {},
   "outputs": [
    {
     "data": {
      "text/html": [
       "<div>\n",
       "<style scoped>\n",
       "    .dataframe tbody tr th:only-of-type {\n",
       "        vertical-align: middle;\n",
       "    }\n",
       "\n",
       "    .dataframe tbody tr th {\n",
       "        vertical-align: top;\n",
       "    }\n",
       "\n",
       "    .dataframe thead tr th {\n",
       "        text-align: left;\n",
       "    }\n",
       "</style>\n",
       "<table border=\"1\" class=\"dataframe\">\n",
       "  <thead>\n",
       "    <tr>\n",
       "      <th></th>\n",
       "      <th>amount_usd</th>\n",
       "      <th>td_last_purchase</th>\n",
       "      <th>tx_count_day</th>\n",
       "      <th>tx_count_month</th>\n",
       "      <th>quarter_2</th>\n",
       "      <th>quarter_3</th>\n",
       "      <th>quarter_4</th>\n",
       "      <th>active_hours</th>\n",
       "      <th>weekday</th>\n",
       "      <th>year_2033</th>\n",
       "    </tr>\n",
       "  </thead>\n",
       "  <tbody>\n",
       "    <tr>\n",
       "      <th>0</th>\n",
       "      <td>0.003091</td>\n",
       "      <td>0.053968</td>\n",
       "      <td>0.000000</td>\n",
       "      <td>0.000000</td>\n",
       "      <td>0.000000</td>\n",
       "      <td>0.000000</td>\n",
       "      <td>0.000468</td>\n",
       "      <td>0.000169</td>\n",
       "      <td>0.000238</td>\n",
       "      <td>0.000000</td>\n",
       "    </tr>\n",
       "    <tr>\n",
       "      <th>1</th>\n",
       "      <td>0.000069</td>\n",
       "      <td>0.011403</td>\n",
       "      <td>0.001286</td>\n",
       "      <td>0.001047</td>\n",
       "      <td>0.002043</td>\n",
       "      <td>0.001375</td>\n",
       "      <td>0.000000</td>\n",
       "      <td>0.000845</td>\n",
       "      <td>0.001268</td>\n",
       "      <td>0.002092</td>\n",
       "    </tr>\n",
       "    <tr>\n",
       "      <th>2</th>\n",
       "      <td>0.002945</td>\n",
       "      <td>0.043106</td>\n",
       "      <td>0.000161</td>\n",
       "      <td>0.000393</td>\n",
       "      <td>0.003178</td>\n",
       "      <td>0.002554</td>\n",
       "      <td>0.000935</td>\n",
       "      <td>0.002450</td>\n",
       "      <td>0.002693</td>\n",
       "      <td>0.003268</td>\n",
       "    </tr>\n",
       "    <tr>\n",
       "      <th>3</th>\n",
       "      <td>0.001246</td>\n",
       "      <td>0.005864</td>\n",
       "      <td>0.000643</td>\n",
       "      <td>0.003271</td>\n",
       "      <td>0.011351</td>\n",
       "      <td>0.010609</td>\n",
       "      <td>0.012623</td>\n",
       "      <td>0.007687</td>\n",
       "      <td>0.016240</td>\n",
       "      <td>0.001046</td>\n",
       "    </tr>\n",
       "    <tr>\n",
       "      <th>4</th>\n",
       "      <td>0.003935</td>\n",
       "      <td>0.048809</td>\n",
       "      <td>0.000000</td>\n",
       "      <td>0.000131</td>\n",
       "      <td>0.000227</td>\n",
       "      <td>0.000786</td>\n",
       "      <td>0.000000</td>\n",
       "      <td>0.000253</td>\n",
       "      <td>0.000238</td>\n",
       "      <td>0.000654</td>\n",
       "    </tr>\n",
       "  </tbody>\n",
       "</table>\n",
       "</div>"
      ],
      "text/plain": [
       "  amount_usd td_last_purchase tx_count_day tx_count_month quarter_2 quarter_3  \\\n",
       "0   0.003091         0.053968     0.000000       0.000000  0.000000  0.000000   \n",
       "1   0.000069         0.011403     0.001286       0.001047  0.002043  0.001375   \n",
       "2   0.002945         0.043106     0.000161       0.000393  0.003178  0.002554   \n",
       "3   0.001246         0.005864     0.000643       0.003271  0.011351  0.010609   \n",
       "4   0.003935         0.048809     0.000000       0.000131  0.000227  0.000786   \n",
       "\n",
       "  quarter_4 active_hours   weekday year_2033  \n",
       "0  0.000468     0.000169  0.000238  0.000000  \n",
       "1  0.000000     0.000845  0.001268  0.002092  \n",
       "2  0.000935     0.002450  0.002693  0.003268  \n",
       "3  0.012623     0.007687  0.016240  0.001046  \n",
       "4  0.000000     0.000253  0.000238  0.000654  "
      ]
     },
     "execution_count": 53,
     "metadata": {},
     "output_type": "execute_result"
    }
   ],
   "source": [
    "X.head()"
   ]
  },
  {
   "cell_type": "markdown",
   "metadata": {},
   "source": [
    "# Modeling - K-means clustering algo"
   ]
  },
  {
   "cell_type": "markdown",
   "metadata": {},
   "source": [
    "## It makes the most sense to use an unsupervised learning model such as K-means clustering since we are dealing with unlabeled data here in terms of merchant type"
   ]
  },
  {
   "cell_type": "code",
   "execution_count": 54,
   "metadata": {},
   "outputs": [],
   "source": [
    "from sklearn.cluster import KMeans\n",
    "\n",
    "#create a KMeans object and set n_clusters = 3 to start off\n",
    "k_means = KMeans(n_clusters=3)\n",
    "\n",
    "#first the k_means object to the data stored in X\n",
    "k_means.fit(X)\n",
    "\n",
    "#generate cluster predictions with k_means and store the result in the dataframe\n",
    "merged_grouped_df['merchant_type'] = k_means.predict(X)"
   ]
  },
  {
   "cell_type": "code",
   "execution_count": 55,
   "metadata": {},
   "outputs": [
    {
     "data": {
      "text/plain": [
       "0    10515\n",
       "1     1169\n",
       "2       75\n",
       "Name: merchant_type, dtype: int64"
      ]
     },
     "execution_count": 55,
     "metadata": {},
     "output_type": "execute_result"
    }
   ],
   "source": [
    "merged_grouped_df.merchant_type.value_counts()"
   ]
  },
  {
   "cell_type": "code",
   "execution_count": 56,
   "metadata": {},
   "outputs": [
    {
     "data": {
      "text/plain": [
       "49.69884788417113"
      ]
     },
     "execution_count": 56,
     "metadata": {},
     "output_type": "execute_result"
    }
   ],
   "source": [
    "k_means.inertia_"
   ]
  },
  {
   "cell_type": "code",
   "execution_count": 57,
   "metadata": {},
   "outputs": [
    {
     "data": {
      "text/html": [
       "<div>\n",
       "<style scoped>\n",
       "    .dataframe tbody tr th:only-of-type {\n",
       "        vertical-align: middle;\n",
       "    }\n",
       "\n",
       "    .dataframe tbody tr th {\n",
       "        vertical-align: top;\n",
       "    }\n",
       "\n",
       "    .dataframe thead th {\n",
       "        text-align: right;\n",
       "    }\n",
       "</style>\n",
       "<table border=\"1\" class=\"dataframe\">\n",
       "  <thead>\n",
       "    <tr style=\"text-align: right;\">\n",
       "      <th></th>\n",
       "      <th>amount_usd</th>\n",
       "      <th>td_last_purchase</th>\n",
       "      <th>tx_count_day</th>\n",
       "      <th>tx_count_month</th>\n",
       "      <th>quarter_2</th>\n",
       "      <th>quarter_3</th>\n",
       "      <th>quarter_4</th>\n",
       "      <th>active_hours</th>\n",
       "      <th>weekday</th>\n",
       "      <th>year_2033</th>\n",
       "    </tr>\n",
       "    <tr>\n",
       "      <th>merchant_type</th>\n",
       "      <th></th>\n",
       "      <th></th>\n",
       "      <th></th>\n",
       "      <th></th>\n",
       "      <th></th>\n",
       "      <th></th>\n",
       "      <th></th>\n",
       "      <th></th>\n",
       "      <th></th>\n",
       "      <th></th>\n",
       "    </tr>\n",
       "  </thead>\n",
       "  <tbody>\n",
       "    <tr>\n",
       "      <th>0</th>\n",
       "      <td>308.035051</td>\n",
       "      <td>259.494991</td>\n",
       "      <td>7.358821</td>\n",
       "      <td>20.090823</td>\n",
       "      <td>15.069520</td>\n",
       "      <td>19.316976</td>\n",
       "      <td>26.134760</td>\n",
       "      <td>51.315739</td>\n",
       "      <td>52.417879</td>\n",
       "      <td>15.846125</td>\n",
       "    </tr>\n",
       "    <tr>\n",
       "      <th>1</th>\n",
       "      <td>558.534146</td>\n",
       "      <td>2011.248251</td>\n",
       "      <td>1.157399</td>\n",
       "      <td>1.690334</td>\n",
       "      <td>1.064157</td>\n",
       "      <td>1.152267</td>\n",
       "      <td>1.581694</td>\n",
       "      <td>3.245509</td>\n",
       "      <td>3.612489</td>\n",
       "      <td>1.750214</td>\n",
       "    </tr>\n",
       "    <tr>\n",
       "      <th>2</th>\n",
       "      <td>90.928137</td>\n",
       "      <td>3.852025</td>\n",
       "      <td>270.653333</td>\n",
       "      <td>828.053333</td>\n",
       "      <td>863.426667</td>\n",
       "      <td>1027.266667</td>\n",
       "      <td>1276.026667</td>\n",
       "      <td>2809.266667</td>\n",
       "      <td>2887.960000</td>\n",
       "      <td>1184.520000</td>\n",
       "    </tr>\n",
       "  </tbody>\n",
       "</table>\n",
       "</div>"
      ],
      "text/plain": [
       "               amount_usd  td_last_purchase  tx_count_day  tx_count_month  \\\n",
       "merchant_type                                                               \n",
       "0              308.035051        259.494991      7.358821       20.090823   \n",
       "1              558.534146       2011.248251      1.157399        1.690334   \n",
       "2               90.928137          3.852025    270.653333      828.053333   \n",
       "\n",
       "                quarter_2    quarter_3    quarter_4  active_hours  \\\n",
       "merchant_type                                                       \n",
       "0               15.069520    19.316976    26.134760     51.315739   \n",
       "1                1.064157     1.152267     1.581694      3.245509   \n",
       "2              863.426667  1027.266667  1276.026667   2809.266667   \n",
       "\n",
       "                   weekday    year_2033  \n",
       "merchant_type                            \n",
       "0                52.417879    15.846125  \n",
       "1                 3.612489     1.750214  \n",
       "2              2887.960000  1184.520000  "
      ]
     },
     "execution_count": 57,
     "metadata": {},
     "output_type": "execute_result"
    }
   ],
   "source": [
    "merged_grouped_df.groupby('merchant_type').mean()"
   ]
  },
  {
   "cell_type": "code",
   "execution_count": 58,
   "metadata": {},
   "outputs": [
    {
     "data": {
      "image/png": "[encoded data removed]",
      "text/plain": [
       "<Figure size 432x288 with 1 Axes>"
      ]
     },
     "metadata": {
      "needs_background": "light"
     },
     "output_type": "display_data"
    }
   ],
   "source": [
    "#use elbow method to find optimal number of clusters\n",
    "inertia = []\n",
    "for i in range(1, 10):\n",
    "    k_means = KMeans(n_clusters = i, init = 'k-means++', max_iter = 300, n_init = 10, random_state = 0)\n",
    "    k_means.fit(X)\n",
    "    inertia.append(k_means.inertia_)\n",
    "#plt.figure(figsize=(15,10))\n",
    "plt.plot(range(1, 10), inertia)\n",
    "plt.title('The Elbow Method')\n",
    "plt.xlabel('Number of clusters')\n",
    "plt.ylabel('Inertia')\n",
    "plt.show()"
   ]
  },
  {
   "cell_type": "markdown",
   "metadata": {},
   "source": [
    "seems like there is an elbow at n_clusters = 4, but it isn't super clear from this graph. Could do 5 or 6 clusters \n",
    "\n",
    "try n_clusters = 4"
   ]
  },
  {
   "cell_type": "code",
   "execution_count": 59,
   "metadata": {},
   "outputs": [],
   "source": [
    "merged_grouped_df.drop('merchant_type', axis=1, inplace=True)"
   ]
  },
  {
   "cell_type": "code",
   "execution_count": 60,
   "metadata": {},
   "outputs": [],
   "source": [
    "#create a KMeans object\n",
    "k_means = KMeans(n_clusters=4)\n",
    "\n",
    "#first the k_means object to the data stored in X\n",
    "k_means.fit(X)\n",
    "\n",
    "#generate cluster predictions with k_means and store the result in the dataframe\n",
    "merged_grouped_df['merchant_type'] = k_means.predict(X)"
   ]
  },
  {
   "cell_type": "code",
   "execution_count": 143,
   "metadata": {},
   "outputs": [
    {
     "data": {
      "text/plain": [
       "Ecommerce    9097\n",
       "SaaS         2134\n",
       "B2B           464\n",
       "B2C            64\n",
       "Name: merchant_type, dtype: int64"
      ]
     },
     "execution_count": 143,
     "metadata": {},
     "output_type": "execute_result"
    }
   ],
   "source": [
    "merged_grouped_df.merchant_type.value_counts()"
   ]
  },
  {
   "cell_type": "markdown",
   "metadata": {},
   "source": [
    "# Interpretation of Results"
   ]
  },
  {
   "cell_type": "code",
   "execution_count": 153,
   "metadata": {},
   "outputs": [
    {
     "data": {
      "text/html": [
       "<div>\n",
       "<style scoped>\n",
       "    .dataframe tbody tr th:only-of-type {\n",
       "        vertical-align: middle;\n",
       "    }\n",
       "\n",
       "    .dataframe tbody tr th {\n",
       "        vertical-align: top;\n",
       "    }\n",
       "\n",
       "    .dataframe thead th {\n",
       "        text-align: right;\n",
       "    }\n",
       "</style>\n",
       "<table border=\"1\" class=\"dataframe\">\n",
       "  <thead>\n",
       "    <tr style=\"text-align: right;\">\n",
       "      <th></th>\n",
       "      <th>amount_usd</th>\n",
       "      <th>td_last_purchase</th>\n",
       "      <th>tx_count_day</th>\n",
       "      <th>tx_count_month</th>\n",
       "      <th>quarter_2</th>\n",
       "      <th>quarter_3</th>\n",
       "      <th>quarter_4</th>\n",
       "      <th>active_hours</th>\n",
       "      <th>weekday</th>\n",
       "      <th>year_2033</th>\n",
       "    </tr>\n",
       "    <tr>\n",
       "      <th>merchant_type</th>\n",
       "      <th></th>\n",
       "      <th></th>\n",
       "      <th></th>\n",
       "      <th></th>\n",
       "      <th></th>\n",
       "      <th></th>\n",
       "      <th></th>\n",
       "      <th></th>\n",
       "      <th></th>\n",
       "      <th></th>\n",
       "    </tr>\n",
       "  </thead>\n",
       "  <tbody>\n",
       "    <tr>\n",
       "      <th>B2B</th>\n",
       "      <td>559.148784</td>\n",
       "      <td>2854.583082</td>\n",
       "      <td>1.073276</td>\n",
       "      <td>1.375000</td>\n",
       "      <td>0.752155</td>\n",
       "      <td>0.855603</td>\n",
       "      <td>1.297414</td>\n",
       "      <td>2.487069</td>\n",
       "      <td>2.663793</td>\n",
       "      <td>1.568966</td>\n",
       "    </tr>\n",
       "    <tr>\n",
       "      <th>B2C</th>\n",
       "      <td>93.254206</td>\n",
       "      <td>3.494210</td>\n",
       "      <td>308.984375</td>\n",
       "      <td>906.328125</td>\n",
       "      <td>945.656250</td>\n",
       "      <td>1106.234375</td>\n",
       "      <td>1363.968750</td>\n",
       "      <td>3034.156250</td>\n",
       "      <td>3113.296875</td>\n",
       "      <td>1292.250000</td>\n",
       "    </tr>\n",
       "    <tr>\n",
       "      <th>Ecommerce</th>\n",
       "      <td>269.705615</td>\n",
       "      <td>170.691504</td>\n",
       "      <td>8.328460</td>\n",
       "      <td>23.226338</td>\n",
       "      <td>17.577663</td>\n",
       "      <td>22.669342</td>\n",
       "      <td>30.688029</td>\n",
       "      <td>60.213807</td>\n",
       "      <td>61.459492</td>\n",
       "      <td>18.549412</td>\n",
       "    </tr>\n",
       "    <tr>\n",
       "      <th>SaaS</th>\n",
       "      <td>552.862843</td>\n",
       "      <td>1032.098008</td>\n",
       "      <td>1.402530</td>\n",
       "      <td>2.531396</td>\n",
       "      <td>1.725398</td>\n",
       "      <td>1.917057</td>\n",
       "      <td>2.480319</td>\n",
       "      <td>5.140112</td>\n",
       "      <td>5.815370</td>\n",
       "      <td>2.498126</td>\n",
       "    </tr>\n",
       "  </tbody>\n",
       "</table>\n",
       "</div>"
      ],
      "text/plain": [
       "               amount_usd  td_last_purchase  tx_count_day  tx_count_month  \\\n",
       "merchant_type                                                               \n",
       "B2B            559.148784       2854.583082      1.073276        1.375000   \n",
       "B2C             93.254206          3.494210    308.984375      906.328125   \n",
       "Ecommerce      269.705615        170.691504      8.328460       23.226338   \n",
       "SaaS           552.862843       1032.098008      1.402530        2.531396   \n",
       "\n",
       "                quarter_2    quarter_3    quarter_4  active_hours  \\\n",
       "merchant_type                                                       \n",
       "B2B              0.752155     0.855603     1.297414      2.487069   \n",
       "B2C            945.656250  1106.234375  1363.968750   3034.156250   \n",
       "Ecommerce       17.577663    22.669342    30.688029     60.213807   \n",
       "SaaS             1.725398     1.917057     2.480319      5.140112   \n",
       "\n",
       "                   weekday    year_2033  \n",
       "merchant_type                            \n",
       "B2B               2.663793     1.568966  \n",
       "B2C            3113.296875  1292.250000  \n",
       "Ecommerce        61.459492    18.549412  \n",
       "SaaS              5.815370     2.498126  "
      ]
     },
     "execution_count": 153,
     "metadata": {},
     "output_type": "execute_result"
    }
   ],
   "source": [
    "#look at the average statistics across labeled merchant_types\n",
    "merged_grouped_df.groupby('merchant_type').mean()"
   ]
  },
  {
   "cell_type": "markdown",
   "metadata": {},
   "source": [
    "## Conclusion:"
   ]
  },
  {
   "cell_type": "code",
   "execution_count": 64,
   "metadata": {},
   "outputs": [],
   "source": [
    "#rename merchant types\n",
    "merged_grouped_df['merchant_type'].replace({0: 'Ecommerce', 1: 'B2B', 2: 'SaaS', 3: 'B2C'}, inplace=True)"
   ]
  },
  {
   "cell_type": "code",
   "execution_count": 65,
   "metadata": {},
   "outputs": [],
   "source": [
    "def cluster_plots(y):\n",
    "    ###Function to look at the merchant type clusters on the x-axis vs the averages of various features on the y-axis\n",
    "    \n",
    "    #barplot\n",
    "    ax = sns.barplot(x=merged_grouped_df['merchant_type'], y=merged_grouped_df[y])\n",
    "    ax.set_title('Average {}'.format(y))\n",
    "    ax.ticklabel_format(style='plain', axis='y',useOffset=False)\n",
    "    ax.get_yaxis().set_major_formatter(FuncFormatter(lambda x, p: format(int(x), ',')))"
   ]
  },
  {
   "cell_type": "code",
   "execution_count": 66,
   "metadata": {},
   "outputs": [
    {
     "data": {
      "image/png": "[encoded data removed]",
      "text/plain": [
       "<Figure size 432x288 with 1 Axes>"
      ]
     },
     "metadata": {
      "needs_background": "light"
     },
     "output_type": "display_data"
    }
   ],
   "source": [
    "cluster_plots('amount_usd')"
   ]
  },
  {
   "cell_type": "code",
   "execution_count": 67,
   "metadata": {},
   "outputs": [
    {
     "data": {
      "image/png": "[encoded data removed]",
      "text/plain": [
       "<Figure size 432x288 with 1 Axes>"
      ]
     },
     "metadata": {
      "needs_background": "light"
     },
     "output_type": "display_data"
    }
   ],
   "source": [
    "cluster_plots('td_last_purchase')"
   ]
  },
  {
   "cell_type": "code",
   "execution_count": 68,
   "metadata": {},
   "outputs": [
    {
     "data": {
      "image/png": "[encoded data removed]",
      "text/plain": [
       "<Figure size 432x288 with 1 Axes>"
      ]
     },
     "metadata": {
      "needs_background": "light"
     },
     "output_type": "display_data"
    }
   ],
   "source": [
    "cluster_plots('tx_count_day')"
   ]
  },
  {
   "cell_type": "code",
   "execution_count": 69,
   "metadata": {},
   "outputs": [
    {
     "data": {
      "image/png": "[encoded data removed]",
      "text/plain": [
       "<Figure size 432x288 with 1 Axes>"
      ]
     },
     "metadata": {
      "needs_background": "light"
     },
     "output_type": "display_data"
    }
   ],
   "source": [
    "cluster_plots('tx_count_month')"
   ]
  },
  {
   "cell_type": "code",
   "execution_count": 142,
   "metadata": {},
   "outputs": [
    {
     "name": "stderr",
     "output_type": "stream",
     "text": [
      "C:\\Users\\Thomas\\Anaconda3\\lib\\site-packages\\ipykernel_launcher.py:2: FutureWarning: Indexing with multiple keys (implicitly converted to a tuple of keys) will be deprecated, use a list instead.\n",
      "  \n"
     ]
    },
    {
     "data": {
      "text/html": [
       "<div>\n",
       "<style scoped>\n",
       "    .dataframe tbody tr th:only-of-type {\n",
       "        vertical-align: middle;\n",
       "    }\n",
       "\n",
       "    .dataframe tbody tr th {\n",
       "        vertical-align: top;\n",
       "    }\n",
       "\n",
       "    .dataframe thead th {\n",
       "        text-align: right;\n",
       "    }\n",
       "</style>\n",
       "<table border=\"1\" class=\"dataframe\">\n",
       "  <thead>\n",
       "    <tr style=\"text-align: right;\">\n",
       "      <th></th>\n",
       "      <th>quarter_2</th>\n",
       "      <th>quarter_3</th>\n",
       "      <th>quarter_4</th>\n",
       "    </tr>\n",
       "    <tr>\n",
       "      <th>merchant_type</th>\n",
       "      <th></th>\n",
       "      <th></th>\n",
       "      <th></th>\n",
       "    </tr>\n",
       "  </thead>\n",
       "  <tbody>\n",
       "    <tr>\n",
       "      <th>B2B</th>\n",
       "      <td>0.752155</td>\n",
       "      <td>0.855603</td>\n",
       "      <td>1.297414</td>\n",
       "    </tr>\n",
       "    <tr>\n",
       "      <th>B2C</th>\n",
       "      <td>945.656250</td>\n",
       "      <td>1106.234375</td>\n",
       "      <td>1363.968750</td>\n",
       "    </tr>\n",
       "    <tr>\n",
       "      <th>Ecommerce</th>\n",
       "      <td>17.577663</td>\n",
       "      <td>22.669342</td>\n",
       "      <td>30.688029</td>\n",
       "    </tr>\n",
       "    <tr>\n",
       "      <th>SaaS</th>\n",
       "      <td>1.725398</td>\n",
       "      <td>1.917057</td>\n",
       "      <td>2.480319</td>\n",
       "    </tr>\n",
       "  </tbody>\n",
       "</table>\n",
       "</div>"
      ],
      "text/plain": [
       "                quarter_2    quarter_3    quarter_4\n",
       "merchant_type                                      \n",
       "B2B              0.752155     0.855603     1.297414\n",
       "B2C            945.656250  1106.234375  1363.968750\n",
       "Ecommerce       17.577663    22.669342    30.688029\n",
       "SaaS             1.725398     1.917057     2.480319"
      ]
     },
     "execution_count": 142,
     "metadata": {},
     "output_type": "execute_result"
    }
   ],
   "source": [
    "#show seasonality\n",
    "merged_grouped_df.groupby('merchant_type')['quarter_2', 'quarter_3', 'quarter_4'].mean()"
   ]
  },
  {
   "cell_type": "markdown",
   "metadata": {},
   "source": [
    "Based on the average features by each merchant type:\n",
    "\n",
    "clusters 0: Ecommerce/Retail: relatively frequent medium sized transactions, more seasonality: Amazon, Target\n",
    "\n",
    "cluster 1: B2B: pays monthly/bimonthly/quarterly in largest amounts: Salesforce, Shopify\n",
    "\n",
    "cluster 2: SaaS: Pays biweekly/monthly in larger amounts: Docusign, Tableau, Splunk\n",
    "\n",
    "cluster 3: B2C: frequent small transactions: Lyft, Doordash"
   ]
  },
  {
   "cell_type": "code",
   "execution_count": 62,
   "metadata": {
    "scrolled": true
   },
   "outputs": [
    {
     "data": {
      "text/plain": [
       "37.865302120139454"
      ]
     },
     "execution_count": 62,
     "metadata": {},
     "output_type": "execute_result"
    }
   ],
   "source": [
    "k_means.inertia_"
   ]
  },
  {
   "cell_type": "markdown",
   "metadata": {},
   "source": [
    "Inertia = 37.86: sum of squared error for each cluster. The smaller the inertia the denser the cluster. Too far from zero\n",
    "\n",
    "Features - Average spend, time delta, and transaction count features have significant variance across clusters as shown above\n",
    "\n",
    "Curse of dimensionality – too many features for k-means\n",
    "\n",
    "With more time I would try to tune my model to get the inertia closer to zero so I could have tighter clusters."
   ]
  },
  {
   "cell_type": "markdown",
   "metadata": {},
   "source": [
    "# Question 2 - Churn"
   ]
  },
  {
   "cell_type": "markdown",
   "metadata": {},
   "source": [
    "Sometimes a merchant may stop transacting with the payment processor, which we call churn. We are interested in identifying and predicting churn. Please a) come up with a concrete definition for churn b) identify merchants that have already churned in the dataset, and c) build a model to predict which active merchants are most likely to churn in the near future."
   ]
  },
  {
   "cell_type": "markdown",
   "metadata": {},
   "source": [
    "## Question 2a: Concrete definition for churn"
   ]
  },
  {
   "cell_type": "markdown",
   "metadata": {},
   "source": [
    "### My initial thought is that each merchant type has different customers so the churn would be defined differently for each merchant type."
   ]
  },
  {
   "cell_type": "code",
   "execution_count": 144,
   "metadata": {},
   "outputs": [
    {
     "data": {
      "text/html": [
       "<div>\n",
       "<style scoped>\n",
       "    .dataframe tbody tr th:only-of-type {\n",
       "        vertical-align: middle;\n",
       "    }\n",
       "\n",
       "    .dataframe tbody tr th {\n",
       "        vertical-align: top;\n",
       "    }\n",
       "\n",
       "    .dataframe thead th {\n",
       "        text-align: right;\n",
       "    }\n",
       "</style>\n",
       "<table border=\"1\" class=\"dataframe\">\n",
       "  <thead>\n",
       "    <tr style=\"text-align: right;\">\n",
       "      <th></th>\n",
       "      <th>merchant_type</th>\n",
       "      <th>td_last_purchase</th>\n",
       "    </tr>\n",
       "  </thead>\n",
       "  <tbody>\n",
       "    <tr>\n",
       "      <th>0</th>\n",
       "      <td>B2B</td>\n",
       "      <td>118.940962</td>\n",
       "    </tr>\n",
       "    <tr>\n",
       "      <th>1</th>\n",
       "      <td>B2C</td>\n",
       "      <td>0.145592</td>\n",
       "    </tr>\n",
       "    <tr>\n",
       "      <th>2</th>\n",
       "      <td>Ecommerce</td>\n",
       "      <td>7.112146</td>\n",
       "    </tr>\n",
       "    <tr>\n",
       "      <th>3</th>\n",
       "      <td>SaaS</td>\n",
       "      <td>43.004084</td>\n",
       "    </tr>\n",
       "  </tbody>\n",
       "</table>\n",
       "</div>"
      ],
      "text/plain": [
       "  merchant_type  td_last_purchase\n",
       "0           B2B        118.940962\n",
       "1           B2C          0.145592\n",
       "2     Ecommerce          7.112146\n",
       "3          SaaS         43.004084"
      ]
     },
     "execution_count": 144,
     "metadata": {},
     "output_type": "execute_result"
    }
   ],
   "source": [
    "#look at the average time delta between transactions for each merchant group in days:\n",
    "((merged_grouped_df.groupby('merchant_type')['td_last_purchase'].mean())/24).reset_index()"
   ]
  },
  {
   "cell_type": "code",
   "execution_count": 72,
   "metadata": {
    "scrolled": true
   },
   "outputs": [
    {
     "data": {
      "text/plain": [
       "18.000495869466633"
      ]
     },
     "execution_count": 72,
     "metadata": {},
     "output_type": "execute_result"
    }
   ],
   "source": [
    "#look at the average time delta in days between purchases across each merchant \n",
    "((df.groupby('merchant')['td_last_purchase'].mean())/24).mean()"
   ]
  },
  {
   "cell_type": "markdown",
   "metadata": {},
   "source": [
    "18 days is the average time delta between purchases across all merchants in the dataset. This average can be misleading given Ecommerce and B2C merchant types have a time delta average of a week or less."
   ]
  },
  {
   "cell_type": "code",
   "execution_count": 73,
   "metadata": {},
   "outputs": [
    {
     "data": {
      "text/plain": [
       "Text(0, 0.5, 'Frequency')"
      ]
     },
     "execution_count": 73,
     "metadata": {},
     "output_type": "execute_result"
    },
    {
     "data": {
      "image/png": "[encoded data removed]",
      "text/plain": [
       "<Figure size 432x288 with 1 Axes>"
      ]
     },
     "metadata": {
      "needs_background": "light"
     },
     "output_type": "display_data"
    }
   ],
   "source": [
    "#check the distribution of average time delta \n",
    "((df.groupby('merchant')['td_last_purchase'].mean())/24).hist()\n",
    "plt.xlim(0, 175)\n",
    "plt.title('Histogram of Average Time Delta Grouped by Merchant')\n",
    "plt.xlabel('Average Time Delta in Days')\n",
    "plt.ylabel('Frequency')"
   ]
  },
  {
   "cell_type": "code",
   "execution_count": 74,
   "metadata": {},
   "outputs": [
    {
     "data": {
      "text/plain": [
       "0.96955523428863"
      ]
     },
     "execution_count": 74,
     "metadata": {},
     "output_type": "execute_result"
    }
   ],
   "source": [
    "#What percent of merchants have an average time delta of 90 days or less?\n",
    "(((df.groupby('merchant')['td_last_purchase'].mean())/24)<90).sum()/(df['merchant'].nunique())"
   ]
  },
  {
   "cell_type": "markdown",
   "metadata": {},
   "source": [
    "About 97% of merchants have an average time delta between transactions of 90 days or less. "
   ]
  },
  {
   "cell_type": "markdown",
   "metadata": {},
   "source": [
    "### Using the distribution of average time delta between transactions for each merchant as a guide to define my churn I think one quarter (90 days) of inactivity looks like an OK definition across all merchant types. \n",
    "\n",
    "### If I had more time I would have a different definition of churn for each merchant type and look at churn across each merchant type separately. "
   ]
  },
  {
   "cell_type": "markdown",
   "metadata": {},
   "source": [
    "## Question 2b: Identify which merchants have already churned"
   ]
  },
  {
   "cell_type": "code",
   "execution_count": 75,
   "metadata": {},
   "outputs": [],
   "source": [
    "#column that gives you the next transaction time for that merchant\n",
    "df['future_date'] = df.groupby('merchant')['time'].shift(-1)"
   ]
  },
  {
   "cell_type": "code",
   "execution_count": 76,
   "metadata": {},
   "outputs": [],
   "source": [
    "#create a churn column based on if that merchant had a transaction within 90 days or not\n",
    "df['churn'] = np.where((((df['future_date'] - df['time']).dt.days) > 90) | (df['future_date'].isnull()), 1, 0)"
   ]
  },
  {
   "cell_type": "code",
   "execution_count": 77,
   "metadata": {},
   "outputs": [
    {
     "data": {
      "text/plain": [
       "0    1030576\n",
       "1      16076\n",
       "Name: churn, dtype: int64"
      ]
     },
     "execution_count": 77,
     "metadata": {},
     "output_type": "execute_result"
    }
   ],
   "source": [
    "df.churn.value_counts()"
   ]
  },
  {
   "cell_type": "code",
   "execution_count": 78,
   "metadata": {},
   "outputs": [],
   "source": [
    "#make any transactions that happened on the last day before a churn, a churn \n",
    "#this will give us a more balanced dataset\n",
    "df['churn_transform'] = df.groupby(['merchant', 'year_month_day'])['churn'].transform(max)"
   ]
  },
  {
   "cell_type": "code",
   "execution_count": 89,
   "metadata": {},
   "outputs": [
    {
     "data": {
      "text/plain": [
       "0    1019692\n",
       "1      26960\n",
       "Name: churn_transform, dtype: int64"
      ]
     },
     "execution_count": 89,
     "metadata": {},
     "output_type": "execute_result"
    }
   ],
   "source": [
    "df.churn_transform.value_counts()"
   ]
  },
  {
   "cell_type": "markdown",
   "metadata": {},
   "source": [
    "### Dataframe without Q4 2034:"
   ]
  },
  {
   "cell_type": "code",
   "execution_count": 79,
   "metadata": {},
   "outputs": [],
   "source": [
    "#create a dataframe that excludes the dates from Q4-2034 since we can't determine if they are a churn or not\n",
    "#this will also be the training data for the prediction model\n",
    "df_nolastq = df[df['year_quarter'] != '2034-Q4']"
   ]
  },
  {
   "cell_type": "code",
   "execution_count": 80,
   "metadata": {},
   "outputs": [],
   "source": [
    "#testing data for the model will be just Q4-2034\n",
    "df_lastq = df[df['year_quarter'] == '2034-Q4']"
   ]
  },
  {
   "cell_type": "markdown",
   "metadata": {},
   "source": [
    "### List of merchants that have already churned"
   ]
  },
  {
   "cell_type": "code",
   "execution_count": 81,
   "metadata": {
    "scrolled": true
   },
   "outputs": [
    {
     "data": {
      "text/plain": [
       "['00057d4302',\n",
       " '000ed1585f',\n",
       " '0026f256ac',\n",
       " '0037a192b4',\n",
       " '0042aadfdf',\n",
       " '0047f556b5',\n",
       " '004a994585',\n",
       " '004d02cb10',\n",
       " '005c218139',\n",
       " '0063ff0c6b',\n",
       " '007364b02a',\n",
       " '0082de98e9',\n",
       " '0084eddcc7',\n",
       " '0085991c76',\n",
       " '0097b9f523',\n",
       " '00ab614386',\n",
       " '00ae6015d0',\n",
       " '00bf6e541e',\n",
       " '00c1ce3556',\n",
       " '00cd72cf0e',\n",
       " '00e7748c5b',\n",
       " '00ffc7c38b',\n",
       " '010749c732',\n",
       " '0111d7d609',\n",
       " '01229befeb',\n",
       " '0125d43ba4',\n",
       " '013cc2cd06',\n",
       " '01422c116f',\n",
       " '0147289ac5',\n",
       " '0149d4bfba',\n",
       " '014de96817',\n",
       " '0150c59efd',\n",
       " '0153aebab1',\n",
       " '0155692eb6',\n",
       " '015f6dc983',\n",
       " '017130662b',\n",
       " '01714118fa',\n",
       " '01741912b7',\n",
       " '0179c7a02d',\n",
       " '018484a73d',\n",
       " '01874bc7cf',\n",
       " '0194c4e788',\n",
       " '01c89d040b',\n",
       " '01d7aab444',\n",
       " '01e75670d6',\n",
       " '01f6668962',\n",
       " '020822e431',\n",
       " '020fc8300d',\n",
       " '02195f8d1a',\n",
       " '0221954dfe',\n",
       " '0221b4736b',\n",
       " '023f542244',\n",
       " '024eba0e34',\n",
       " '0252834ede',\n",
       " '02573c50ed',\n",
       " '025e237cf5',\n",
       " '0276515bcb',\n",
       " '02794a5ea5',\n",
       " '028d01b0c5',\n",
       " '0290e4ad90',\n",
       " '0294660a13',\n",
       " '029a0ed7d7',\n",
       " '029b8d26b9',\n",
       " '02a42d9d45',\n",
       " '02ac035459',\n",
       " '02b37cb5bf',\n",
       " '02bb6bfb29',\n",
       " '02c35b47d1',\n",
       " '02cd94ff7d',\n",
       " '02d3459d0d',\n",
       " '02dde18913',\n",
       " '02e4313568',\n",
       " '02e818eee6',\n",
       " '02e8b1d2da',\n",
       " '02efdb900e',\n",
       " '030a36dac7',\n",
       " '03121e8b2a',\n",
       " '03188bf0a9',\n",
       " '031a1e757f',\n",
       " '0325fa16d1',\n",
       " '03291c8513',\n",
       " '032b9f9e2f',\n",
       " '032e4ed5f5',\n",
       " '0330ec3b09',\n",
       " '03413dc039',\n",
       " '03443436a6',\n",
       " '03449da1e0',\n",
       " '0369c5ceb3',\n",
       " '038850129c',\n",
       " '03887a71d1',\n",
       " '038e2ec826',\n",
       " '039a44c951',\n",
       " '039b70019c',\n",
       " '039eee412f',\n",
       " '03a1f22994',\n",
       " '03b0467f62',\n",
       " '03c4d7917f',\n",
       " '03c9730422',\n",
       " '03cd2d8d46',\n",
       " '03e975f0a7',\n",
       " '03ea5430e3',\n",
       " '03f7a6bdc7',\n",
       " '040527ae9b',\n",
       " '0411785a8c',\n",
       " '0422b3d34e',\n",
       " '042862b353',\n",
       " '0429c84fdf',\n",
       " '042cfb087c',\n",
       " '04496f37f9',\n",
       " '04523ba98a',\n",
       " '045a1c428b',\n",
       " '045b70226b',\n",
       " '046802909f',\n",
       " '04763c9a83',\n",
       " '047a744051',\n",
       " '048665266d',\n",
       " '048e90b002',\n",
       " '049c02b52c',\n",
       " '049fe6e489',\n",
       " '04a4b501b9',\n",
       " '04b2dc3bef',\n",
       " '04c20ed040',\n",
       " '04c598cd61',\n",
       " '04dcd64a6c',\n",
       " '04df022867',\n",
       " '04e034b056',\n",
       " '04ec60b431',\n",
       " '050193a290',\n",
       " '0502d0f26e',\n",
       " '0510fa4210',\n",
       " '0517835bfd',\n",
       " '05231c0e87',\n",
       " '05368eca16',\n",
       " '0554fd0092',\n",
       " '05632f1f20',\n",
       " '056a6336bd',\n",
       " '057a385c81',\n",
       " '0585329a8e',\n",
       " '058879b0a0',\n",
       " '058cb2577e',\n",
       " '059896f2b3',\n",
       " '0599b37f20',\n",
       " '059df04f2e',\n",
       " '059f618474',\n",
       " '05a588aacf',\n",
       " '05a9008f40',\n",
       " '05a96cf0b0',\n",
       " '05ab7f3221',\n",
       " '05bc42300f',\n",
       " '05c507156d',\n",
       " '05e153fa55',\n",
       " '05ef1864b5',\n",
       " '05f194dc09',\n",
       " '05f58dab9f',\n",
       " '05f7079ee2',\n",
       " '06020bd10c',\n",
       " '06076d055c',\n",
       " '060d47d98a',\n",
       " '060f20c522',\n",
       " '06141aa7d9',\n",
       " '0616546a43',\n",
       " '0621494b75',\n",
       " '0624fec613',\n",
       " '062dcb31f4',\n",
       " '06335890c6',\n",
       " '0633fd0997',\n",
       " '06430cccbf',\n",
       " '06452f754d',\n",
       " '06507ea87c',\n",
       " '06584584d0',\n",
       " '0658faddd3',\n",
       " '065c0314c0',\n",
       " '065dd572cb',\n",
       " '0683bf4cbe',\n",
       " '068da9961c',\n",
       " '06919faa0d',\n",
       " '0694eeac36',\n",
       " '069a853a27',\n",
       " '06a3883e9e',\n",
       " '06b38a8036',\n",
       " '06b54b8e90',\n",
       " '06b620588a',\n",
       " '06ba8a259d',\n",
       " '06bb3cd095',\n",
       " '06cfe42c88',\n",
       " '06d30e9933',\n",
       " '06d8f8eb2b',\n",
       " '06dd44a157',\n",
       " '06dee9bd7f',\n",
       " '06e2f76af2',\n",
       " '06eb50b397',\n",
       " '06f1f36773',\n",
       " '06fde885e9',\n",
       " '0710329a79',\n",
       " '0710b48578',\n",
       " '071b8458d7',\n",
       " '071c58ca63',\n",
       " '072190128d',\n",
       " '07474ff1b3',\n",
       " '075d0b212f',\n",
       " '075e1884cc',\n",
       " '07861ae47a',\n",
       " '079eaddbd7',\n",
       " '07ac12f30c',\n",
       " '07b228da98',\n",
       " '07b2f186c2',\n",
       " '07bca2628f',\n",
       " '07cabcb557',\n",
       " '07dc3c8133',\n",
       " '07de7f5aa7',\n",
       " '07e13536d0',\n",
       " '07e2c817a1',\n",
       " '07e69164b6',\n",
       " '07ee59a601',\n",
       " '07f13ce0d2',\n",
       " '07f6e186bc',\n",
       " '08133d3feb',\n",
       " '0817df113e',\n",
       " '08289a8ff8',\n",
       " '082cc080a7',\n",
       " '082df6d10c',\n",
       " '0832666b9e',\n",
       " '083430c126',\n",
       " '08346edce3',\n",
       " '0838e4078e',\n",
       " '083988f3ed',\n",
       " '083abbf551',\n",
       " '083d89f996',\n",
       " '084d37cc87',\n",
       " '085387bf38',\n",
       " '0855daecdf',\n",
       " '085675f973',\n",
       " '0869e40980',\n",
       " '086f4ab64f',\n",
       " '08724a78fd',\n",
       " '088b6b8268',\n",
       " '088f8fe935',\n",
       " '08a29bc58e',\n",
       " '08b5bdcc50',\n",
       " '08bd1a5e18',\n",
       " '08c0acfdf4',\n",
       " '08c263b417',\n",
       " '08cfeff7c8',\n",
       " '08d65db79c',\n",
       " '08da2d4cbe',\n",
       " '08dacaed7d',\n",
       " '08e3774a3d',\n",
       " '08ee7ca022',\n",
       " '08f31d2060',\n",
       " '08f8b065b2',\n",
       " '09040f9ece',\n",
       " '090819f8b4',\n",
       " '090958289c',\n",
       " '090b2e8722',\n",
       " '090f4a9b29',\n",
       " '092266f14e',\n",
       " '094ba7fc93',\n",
       " '09689dc3f0',\n",
       " '096abf1fc1',\n",
       " '096d61582c',\n",
       " '096ee20988',\n",
       " '0972e100cc',\n",
       " '097669f1f0',\n",
       " '097dada110',\n",
       " '097dbd1358',\n",
       " '098ee0e6ca',\n",
       " '0990beebc5',\n",
       " '09a45c7006',\n",
       " '09ae80dcb7',\n",
       " '09b5e3d475',\n",
       " '09bfac874f',\n",
       " '09c186482d',\n",
       " '09c1c3dff1',\n",
       " '09c9956adc',\n",
       " '09cbdb193e',\n",
       " '09cd9bce5c',\n",
       " '09d00ef9dc',\n",
       " '09d48e6360',\n",
       " '09ee333b51',\n",
       " '09efcfb391',\n",
       " '09ff247913',\n",
       " '0a058df9f0',\n",
       " '0a0b0f5cf1',\n",
       " '0a0d8d3537',\n",
       " '0a0f945c59',\n",
       " '0a24fde08d',\n",
       " '0a28a894fb',\n",
       " '0a309e574d',\n",
       " '0a34f05383',\n",
       " '0a4d004307',\n",
       " '0a4da2ae03',\n",
       " '0a556ad0a3',\n",
       " '0a65298b4a',\n",
       " '0a6c6685a9',\n",
       " '0a6ddecc17',\n",
       " '0a7047269a',\n",
       " '0a7cabbe5d',\n",
       " '0a7e135108',\n",
       " '0a90229a60',\n",
       " '0a92d44d9f',\n",
       " '0a97bb20a5',\n",
       " '0aaab17751',\n",
       " '0abe66f34e',\n",
       " '0abf34ad85',\n",
       " '0ac20d2d30',\n",
       " '0ad401bfd2',\n",
       " '0ad7ef964a',\n",
       " '0ae0a21133',\n",
       " '0ae2b1b85d',\n",
       " '0af1ab9c9c',\n",
       " '0af62f356f',\n",
       " '0af965e599',\n",
       " '0afee62800',\n",
       " '0b0911915a',\n",
       " '0b0ea71d37',\n",
       " '0b11bfd26d',\n",
       " '0b17be7b2a',\n",
       " '0b246fcfef',\n",
       " '0b35b79847',\n",
       " '0b362b2808',\n",
       " '0b3772bc42',\n",
       " '0b41b2c3ec',\n",
       " '0b48de803f',\n",
       " '0b4ce03036',\n",
       " '0b574b35f6',\n",
       " '0b63d005d4',\n",
       " '0b6efe38c8',\n",
       " '0b722eb558',\n",
       " '0b72977b08',\n",
       " '0b7af3c1b0',\n",
       " '0b83e16799',\n",
       " '0b997b5f1b',\n",
       " '0ba0fff32e',\n",
       " '0ba413567e',\n",
       " '0ba41a5eba',\n",
       " '0bb86502f7',\n",
       " '0bb915497a',\n",
       " '0bbc1ca47d',\n",
       " '0bc3f86223',\n",
       " '0bc75e5563',\n",
       " '0bcd3c6786',\n",
       " '0bcf8c35cc',\n",
       " '0bdc2ed88a',\n",
       " '0bf85a1700',\n",
       " '0c0a3bca11',\n",
       " '0c104de64d',\n",
       " '0c15456229',\n",
       " '0c41bc0e25',\n",
       " '0c4870a29c',\n",
       " '0c6a6d801c',\n",
       " '0c7682e1fa',\n",
       " '0c7ddb67ee',\n",
       " '0c848795d7',\n",
       " '0c8b81813d',\n",
       " '0c921efcd7',\n",
       " '0c9299d5ff',\n",
       " '0c988402c3',\n",
       " '0c9bb617f4',\n",
       " '0ca7e35992',\n",
       " '0cab60aad0',\n",
       " '0cce25f27e',\n",
       " '0cd1a9a119',\n",
       " '0cd8d199c7',\n",
       " '0cdd8f9a9a',\n",
       " '0cde374cf3',\n",
       " '0cec9f5811',\n",
       " '0ceeca5e66',\n",
       " '0cf3a4dbe4',\n",
       " '0cf7b0527d',\n",
       " '0cf8ce0e60',\n",
       " '0cfe60ebd0',\n",
       " '0d0396bd2c',\n",
       " '0d0737f944',\n",
       " '0d0d5c5b00',\n",
       " '0d19c0e3c5',\n",
       " '0d211411e8',\n",
       " '0d2ba61662',\n",
       " '0d2d6f3872',\n",
       " '0d38676fad',\n",
       " '0d3e630e6d',\n",
       " '0d44bba32b',\n",
       " '0d4f683729',\n",
       " '0d5031dd6a',\n",
       " '0d5c5a2eeb',\n",
       " '0d71e05644',\n",
       " '0d78a0fea0',\n",
       " '0d872bca32',\n",
       " '0d8c24e362',\n",
       " '0d910b4d1b',\n",
       " '0d9798b5cd',\n",
       " '0d9833a896',\n",
       " '0da551e393',\n",
       " '0da9248d6b',\n",
       " '0daf2fd0f0',\n",
       " '0db1953624',\n",
       " '0db5655e9d',\n",
       " '0dc1aa4ec0',\n",
       " '0dc729ce0e',\n",
       " '0dca827aba',\n",
       " '0dd197abb6',\n",
       " '0df0c17136',\n",
       " '0df19d9816',\n",
       " '0dfbc66693',\n",
       " '0dfce273eb',\n",
       " '0e21c7d63a',\n",
       " '0e342ef6d4',\n",
       " '0e373438d2',\n",
       " '0e4074d3c1',\n",
       " '0e41bf5380',\n",
       " '0e4bf1a973',\n",
       " '0e4cd290b9',\n",
       " '0e5623d2c9',\n",
       " '0e584587fc',\n",
       " '0e6381ec09',\n",
       " '0e668ac906',\n",
       " '0e79ebb284',\n",
       " '0e8323741e',\n",
       " '0e8bc14a74',\n",
       " '0e8ebf89e9',\n",
       " '0e8ef542d5',\n",
       " '0eaef325c5',\n",
       " '0eb6bb02fe',\n",
       " '0ec3ad4bd4',\n",
       " '0ec9f57f10',\n",
       " '0ed595a6da',\n",
       " '0edc5c0cf2',\n",
       " '0ef30be914',\n",
       " '0f04dffa83',\n",
       " '0f0cfba29d',\n",
       " '0f1351b7a7',\n",
       " '0f1c0108af',\n",
       " '0f2a712e17',\n",
       " '0f2d5219d0',\n",
       " '0f319eef09',\n",
       " '0f4ccd8c6f',\n",
       " '0f5d04243f',\n",
       " '0f602083ca',\n",
       " '0f6a6fb94a',\n",
       " '0f917ba8e4',\n",
       " '0f932901c2',\n",
       " '0f9a0f781f',\n",
       " '0f9a3906f3',\n",
       " '0f9b729157',\n",
       " '0fa5598002',\n",
       " '0fc8467324',\n",
       " '0fcadcf296',\n",
       " '0fcdd6712f',\n",
       " '0fdd41da98',\n",
       " '0fdd9bd46c',\n",
       " '0fe05fa85c',\n",
       " '0ffa8f174a',\n",
       " '1.50E+11',\n",
       " '10050a75fe',\n",
       " '100ca319be',\n",
       " '1010abcd79',\n",
       " '101774b22a',\n",
       " '101d0c7d90',\n",
       " '1020d96aac',\n",
       " '102e6602b6',\n",
       " '105b0428ca',\n",
       " '106d43dfe9',\n",
       " '10708ba763',\n",
       " '1070aa9b56',\n",
       " '1071d8be34',\n",
       " '108d45de82',\n",
       " '10956928d5',\n",
       " '109609fe37',\n",
       " '10974d67fa',\n",
       " '109b3af2f2',\n",
       " '109ce85b3d',\n",
       " '109ef16484',\n",
       " '10b5ba2dfc',\n",
       " '10d166d112',\n",
       " '10d656a25f',\n",
       " '10dd392719',\n",
       " '10ec85b14e',\n",
       " '10f3baa29f',\n",
       " '10f60ffd1b',\n",
       " '10f71240be',\n",
       " '111429408b',\n",
       " '112bc44f39',\n",
       " '1133d15e78',\n",
       " '113c6e2055',\n",
       " '11509f4843',\n",
       " '115a9836c9',\n",
       " '115acb617d',\n",
       " '115bf25f6b',\n",
       " '115e4f9db7',\n",
       " '11700f6a64',\n",
       " '117309a6d0',\n",
       " '11734170a6',\n",
       " '11743ad96f',\n",
       " '11760d401f',\n",
       " '11880ae7f7',\n",
       " '119ad681af',\n",
       " '11a2bc3360',\n",
       " '11ab9239d0',\n",
       " '11b7c6a67a',\n",
       " '11b99ec98d',\n",
       " '11db110579',\n",
       " '11df16d295',\n",
       " '11e5237528',\n",
       " '11f65fecdd',\n",
       " '11fbac8852',\n",
       " '11ff8eab83',\n",
       " '120fcde6bb',\n",
       " '12125db321',\n",
       " '1226624910',\n",
       " '122a1f465d',\n",
       " '122ceb115c',\n",
       " '122d9c0253',\n",
       " '12418d7f3e',\n",
       " '124321be40',\n",
       " '125275b322',\n",
       " '1253ad5fc5',\n",
       " '125f26a6bc',\n",
       " '1264d6bdce',\n",
       " '1268ebc853',\n",
       " '12788ad222',\n",
       " '1288dbf1b4',\n",
       " '1289b54c49',\n",
       " '12928fcedd',\n",
       " '129f2874f7',\n",
       " '12a74bb315',\n",
       " '12ba28031b',\n",
       " '12d1ae10b1',\n",
       " '12d2cbd52a',\n",
       " '12da300c5c',\n",
       " '12e6d8b94c',\n",
       " '12fee582d8',\n",
       " '1302234fdd',\n",
       " '1303312413',\n",
       " '130a9eefe2',\n",
       " '131634510f',\n",
       " '131a1edf9c',\n",
       " '131e785332',\n",
       " '13457a20fb',\n",
       " '1356b22d93',\n",
       " '13615f80ce',\n",
       " '137bbbe408',\n",
       " '137e9ab941',\n",
       " '138000cadb',\n",
       " '13816eb7aa',\n",
       " '1386ab9a2f',\n",
       " '13887fc5e3',\n",
       " '138cbcba87',\n",
       " '138cc20171',\n",
       " '13a607c373',\n",
       " '13a67b8336',\n",
       " '13a8bab7c6',\n",
       " '13afa27111',\n",
       " '13b4672b25',\n",
       " '13b50e476f',\n",
       " '13bf137201',\n",
       " '13c43b8d4b',\n",
       " '13cbad1125',\n",
       " '13ccf022e5',\n",
       " '13ce0fe7c0',\n",
       " '13dbe6dc9d',\n",
       " '13de70ec06',\n",
       " '13e7856ebc',\n",
       " '13ec1539dd',\n",
       " '13efd60288',\n",
       " '13f11a0685',\n",
       " '13f1fd12c0',\n",
       " '13f6ef5203',\n",
       " '1402deb603',\n",
       " '1407d62a94',\n",
       " '140eebf9db',\n",
       " '1415d6d567',\n",
       " '14241f5031',\n",
       " '143d076a41',\n",
       " '1455905337',\n",
       " '14671b74bd',\n",
       " '147a135ecf',\n",
       " '147cd24344',\n",
       " '148a2908ca',\n",
       " '14942b60a0',\n",
       " '149aa9b00c',\n",
       " '149ef55449',\n",
       " '14a715589a',\n",
       " '14aaf54668',\n",
       " '14b06b76ca',\n",
       " '14bb7e53c7',\n",
       " '14bda6bd12',\n",
       " '14d4bbfee8',\n",
       " '14f28a93a2',\n",
       " '14fb37c54a',\n",
       " '150579602e',\n",
       " '151035d017',\n",
       " '15276e9757',\n",
       " '152bc23b2e',\n",
       " '1544f17f15',\n",
       " '1556c326ad',\n",
       " '1577a750bb',\n",
       " '1584641fc7',\n",
       " '15881ae66a',\n",
       " '158e05f3e1',\n",
       " '159ca2f750',\n",
       " '15acd148b7',\n",
       " '15c4c4655c',\n",
       " '15f742e0d1',\n",
       " '16069dd1ca',\n",
       " '160c77a6ff',\n",
       " '16181208cc',\n",
       " '16326bbb96',\n",
       " '163391c2bf',\n",
       " '1643f62942',\n",
       " '164c1cae0a',\n",
       " '164e50095e',\n",
       " '165211ffda',\n",
       " '166511ee69',\n",
       " '166964b9e9',\n",
       " '167f8c221b',\n",
       " '16855bcced',\n",
       " '168c8a1d41',\n",
       " '168d23f220',\n",
       " '169841a251',\n",
       " '169c26816a',\n",
       " '16b066518f',\n",
       " '16b568932a',\n",
       " '16b8a59b8a',\n",
       " '16cd0d5ef3',\n",
       " '16d27e0e60',\n",
       " '16de340ada',\n",
       " '16f23b6afc',\n",
       " '16f81b7a25',\n",
       " '16fe671dab',\n",
       " '170ba764bb',\n",
       " '171ae632a7',\n",
       " '17317b70ec',\n",
       " '1732b09f94',\n",
       " '173b7c09c6',\n",
       " '174b5259c0',\n",
       " '1761f8b601',\n",
       " '1768522077',\n",
       " '17876e32c5',\n",
       " '1799e16cf7',\n",
       " '179feddfe0',\n",
       " '17a2ef7528',\n",
       " '17a975b080',\n",
       " '17a9e8de1b',\n",
       " '17b1b2d202',\n",
       " '17b66ae894',\n",
       " '17bd15fa06',\n",
       " '17be4373b0',\n",
       " '17bf26dfbd',\n",
       " '17c5654aca',\n",
       " '17d15f6cf3',\n",
       " '17ddf49c15',\n",
       " '17ecc0fa2d',\n",
       " '17f1fed8f5',\n",
       " '17fbac38b3',\n",
       " '180895c017',\n",
       " '180b29b7c9',\n",
       " '180f18e056',\n",
       " '1821d438d9',\n",
       " '182691710b',\n",
       " '184ef830db',\n",
       " '186212cf92',\n",
       " '18669a8590',\n",
       " '186fd2ae75',\n",
       " '18809aa2e9',\n",
       " '1893d158f6',\n",
       " '18aa4c0f37',\n",
       " '18bd6216a9',\n",
       " '18cd5e8c8e',\n",
       " '18cf9c3222',\n",
       " '18d81cbaf5',\n",
       " '18da26c984',\n",
       " '18f6dc371e',\n",
       " '1910d748f5',\n",
       " '191a94befe',\n",
       " '191b30364f',\n",
       " '191ec6544b',\n",
       " '1922afdc41',\n",
       " '192f266687',\n",
       " '1943245ad9',\n",
       " '194b7cb2f7',\n",
       " '194bdd5d7c',\n",
       " '19624f3547',\n",
       " '196bbeaad4',\n",
       " '198b0acaaa',\n",
       " '199fc897d8',\n",
       " '19a79b43e0',\n",
       " '19afad4385',\n",
       " '19b01ae86d',\n",
       " '19b0430685',\n",
       " '19c37f1207',\n",
       " '19db0e8d83',\n",
       " '19e514b53c',\n",
       " '19e93ea38c',\n",
       " '19e9a94402',\n",
       " '19ec50fc46',\n",
       " '19f57c42d3',\n",
       " '1a2794e595',\n",
       " '1a2b71397e',\n",
       " '1a2bed1249',\n",
       " '1a2e18049d',\n",
       " '1a3a6336fe',\n",
       " '1a5ba7f6ac',\n",
       " '1a644dd744',\n",
       " '1a64876548',\n",
       " '1a667a2adf',\n",
       " '1a6e3dd0e2',\n",
       " '1a7ca052df',\n",
       " '1a7cb2cde7',\n",
       " '1a810ffe5e',\n",
       " '1a81ddd8c8',\n",
       " '1a928b7583',\n",
       " '1aa0a227bf',\n",
       " '1aab4502a1',\n",
       " '1ac59fb42c',\n",
       " '1acf3d7fbf',\n",
       " '1acf86e2bb',\n",
       " '1ae423cee7',\n",
       " '1ae9bc8a16',\n",
       " '1aeb8c0d08',\n",
       " '1af5ed3442',\n",
       " '1b019080dd',\n",
       " '1b02f2ba3c',\n",
       " '1b06434c16',\n",
       " '1b2f2370e3',\n",
       " '1b3024d6a6',\n",
       " '1b349e0e50',\n",
       " '1b3ede95e7',\n",
       " '1b4560775f',\n",
       " '1b5c6c3cdf',\n",
       " '1b619e638f',\n",
       " '1b667eb648',\n",
       " '1b6c11a82d',\n",
       " '1b7e233ec9',\n",
       " '1b8636e3c7',\n",
       " '1b87d2d56d',\n",
       " '1b8d725a80',\n",
       " '1b9595f8f1',\n",
       " '1ba56cfd05',\n",
       " '1bb02f7dba',\n",
       " '1bb98dc00f',\n",
       " '1bbe278683',\n",
       " '1bd4aadcc0',\n",
       " '1bd8aa7f2a',\n",
       " '1bdb568337',\n",
       " '1bdd8d7b1c',\n",
       " '1bdf65f068',\n",
       " '1bee0f1bea',\n",
       " '1bf50191d4',\n",
       " '1bffb04a4e',\n",
       " '1c00fcc837',\n",
       " '1c1e073777',\n",
       " '1c22e31d2d',\n",
       " '1c2caa4359',\n",
       " '1c2d26a886',\n",
       " '1c314982e5',\n",
       " '1c3b56ec39',\n",
       " '1c43302e54',\n",
       " '1c48c02a8d',\n",
       " '1c61231852',\n",
       " '1c74a5fa38',\n",
       " '1c75cca43d',\n",
       " '1c791d552a',\n",
       " '1c7e9e466a',\n",
       " '1c9c26b759',\n",
       " '1c9cb0ecc0',\n",
       " '1c9df03971',\n",
       " '1ca3f9547d',\n",
       " '1ca7c6fa36',\n",
       " '1cab5cf62a',\n",
       " '1cb54c4e3d',\n",
       " '1cb84f4625',\n",
       " '1cc436c302',\n",
       " '1cc450bf24',\n",
       " '1cea84e10b',\n",
       " '1ceb184610',\n",
       " '1cef88a157',\n",
       " '1cf395f80a',\n",
       " '1cf57fa0ea',\n",
       " '1d0c5c25ae',\n",
       " '1d16fd20f4',\n",
       " '1d1fc7951d',\n",
       " '1d26f2e769',\n",
       " '1d4a86f434',\n",
       " '1d4c048815',\n",
       " '1d4f85f9e6',\n",
       " '1d5006eb2c',\n",
       " '1d5e86fa15',\n",
       " '1d67208c05',\n",
       " '1d7d0b0727',\n",
       " '1d7d7d0560',\n",
       " '1d848c0b21',\n",
       " '1d931498a9',\n",
       " '1d95026f55',\n",
       " '1d9ab9e4f2',\n",
       " '1d9f62e046',\n",
       " '1da19f4569',\n",
       " '1db82b4eb1',\n",
       " '1dbff06572',\n",
       " '1dd4352c39',\n",
       " '1dd6644adc',\n",
       " '1de1bcf206',\n",
       " '1df50672a1',\n",
       " '1e049e7033',\n",
       " '1e1456e493',\n",
       " '1e1af9bd33',\n",
       " '1e1edc486a',\n",
       " '1e21dd5312',\n",
       " '1e26fe7a1b',\n",
       " '1e35fe7a0c',\n",
       " '1e3e0573ff',\n",
       " '1e3f4f2399',\n",
       " '1e44a4d7da',\n",
       " '1e4db4f43e',\n",
       " '1e744ac0ec',\n",
       " '1e77edcd42',\n",
       " '1e8a3d6c38',\n",
       " '1e941a2507',\n",
       " '1e9579e904',\n",
       " '1e9f2cda91',\n",
       " '1eb227a30c',\n",
       " '1ee596339f',\n",
       " '1eec72b478',\n",
       " '1eef7a6dd1',\n",
       " '1eef99d75a',\n",
       " '1ef489502c',\n",
       " '1ef9c8bbea',\n",
       " '1efaf130a7',\n",
       " '1f1a83f63d',\n",
       " '1f2725cde2',\n",
       " '1f3b887e6f',\n",
       " '1f3d4a912b',\n",
       " '1f4212a1e1',\n",
       " '1f4386f5c0',\n",
       " '1f5f2aa7de',\n",
       " '1f707bbed0',\n",
       " '1f88a6f6d7',\n",
       " '1f926955a4',\n",
       " '1fa5b4b1ab',\n",
       " '1fae8279bf',\n",
       " '1fb35a641d',\n",
       " '1fb8ac7bc2',\n",
       " '1fb9b5d5e8',\n",
       " '1fd9f14595',\n",
       " '1fdfda89ac',\n",
       " '1fe344adcb',\n",
       " '1feab30dd9',\n",
       " '1ff9fa5943',\n",
       " '1ffe4a475c',\n",
       " '2.43E+08',\n",
       " '2.64E+17',\n",
       " '203eaafede',\n",
       " '20490c0055',\n",
       " '204a3bd9c8',\n",
       " '205577ab13',\n",
       " '2064d4cf1b',\n",
       " '206d5977b8',\n",
       " '207fea4298',\n",
       " '2084b16751',\n",
       " '2084d8bc96',\n",
       " '20921997c3',\n",
       " '2094e9640c',\n",
       " '209828c491',\n",
       " '209a811e7c',\n",
       " '20d4589c04',\n",
       " '20e3712f9b',\n",
       " '20e4739855',\n",
       " '20e5b96480',\n",
       " '20e7708d82',\n",
       " '210c323825',\n",
       " '2123e53c5d',\n",
       " '2129c73af1',\n",
       " '212aedbe72',\n",
       " '2140391578',\n",
       " '21530ab727',\n",
       " '2159337d13',\n",
       " '215c1a4ff5',\n",
       " '218a5d662e',\n",
       " '219870d1e5',\n",
       " '219945ec85',\n",
       " '219f9df675',\n",
       " '21a14eba2f',\n",
       " '21bb8e49e3',\n",
       " '21cb6d55bc',\n",
       " '21d5ecbd76',\n",
       " '21e64656ff',\n",
       " '21e8b9f270',\n",
       " '21eaa279e1',\n",
       " '21f15e1eea',\n",
       " '220337d878',\n",
       " '2204a78369',\n",
       " '2227078f92',\n",
       " '222e5f71c2',\n",
       " '222f41854f',\n",
       " '224696e760',\n",
       " '22480850b8',\n",
       " '22661786bf',\n",
       " '2267b6347d',\n",
       " '226b5843c8',\n",
       " '2285c06d88',\n",
       " '228e7e503a',\n",
       " '229364d822',\n",
       " '22a365f8f1',\n",
       " '22bcfbab2f',\n",
       " '22c1b5fbf1',\n",
       " '22d39572be',\n",
       " '22d4907cbc',\n",
       " '22de1e3be8',\n",
       " '22e2a51690',\n",
       " '230f30a397',\n",
       " '23322d2eec',\n",
       " '23345cf779',\n",
       " '234486bc38',\n",
       " '23463e37b4',\n",
       " '234b6ec776',\n",
       " '234bd8a5ef',\n",
       " '23632e4e6f',\n",
       " '2367f68937',\n",
       " '237325f551',\n",
       " '237f3ff313',\n",
       " '2385132f8a',\n",
       " '23855c2af5',\n",
       " '2386c0348b',\n",
       " '2386e5695a',\n",
       " '238c549b34',\n",
       " '238fb02cfb',\n",
       " '23a37f21f8',\n",
       " '23bb5c698b',\n",
       " '23be6909ca',\n",
       " '23c0e33dfa',\n",
       " '23c24d424a',\n",
       " '23cabd6a6d',\n",
       " '23d8f8e08e',\n",
       " '23e34475ac',\n",
       " '23e6cc460a',\n",
       " '23f7a2b8b5',\n",
       " '23fb583e01',\n",
       " '23fbd13ddb',\n",
       " '23fd49b148',\n",
       " '2401020545',\n",
       " '2418cf4d4c',\n",
       " '2418f6f956',\n",
       " '2431039020',\n",
       " '243ce2c921',\n",
       " '245e66bc17',\n",
       " '24718c921d',\n",
       " '247599de5b',\n",
       " '24940db3de',\n",
       " '249791ffda',\n",
       " '24a31efa40',\n",
       " '24b9012273',\n",
       " '24cd451e10',\n",
       " '24cf9e1b09',\n",
       " '24e40ab1f4',\n",
       " '24e4b8ea11',\n",
       " '24eafa5a1c',\n",
       " '24f2a1ff85',\n",
       " '24f3787373',\n",
       " '24ffb6589d',\n",
       " '2500e7dd73',\n",
       " '2519115088',\n",
       " '252aea0f5d',\n",
       " '25334a3e5f',\n",
       " '25349a1d0b',\n",
       " '253a713cd7',\n",
       " '2557a6206c',\n",
       " '255f9f9168',\n",
       " '259239dce5',\n",
       " '259b155242',\n",
       " '25a32543ae',\n",
       " '25bfd69ec9',\n",
       " '25c8ecce00',\n",
       " '25cf0338a6',\n",
       " '25cf22b92c',\n",
       " '25d20a31d5',\n",
       " '25d9b46472',\n",
       " '25e0caad20',\n",
       " '25ec261c0e',\n",
       " '25f2aca9ba',\n",
       " '25f3d62d66',\n",
       " '25ff9c6448',\n",
       " '260c428361',\n",
       " '2637d5deb2',\n",
       " '263bae9441',\n",
       " '263e3abcf2',\n",
       " '2646e9d702',\n",
       " '2648480824',\n",
       " '2654238496',\n",
       " '2656fb0d50',\n",
       " '26631c46cd',\n",
       " '2680df1aeb',\n",
       " '26923d3415',\n",
       " '2698371f43',\n",
       " '269dee7611',\n",
       " '26a2db5ee1',\n",
       " '26a4065132',\n",
       " '26a8e0ff91',\n",
       " '26afdd587f',\n",
       " '26b7f54cbc',\n",
       " '26bb3f5c71',\n",
       " '26ce442dbc',\n",
       " '26cf73e977',\n",
       " ...]"
      ]
     },
     "execution_count": 81,
     "metadata": {},
     "output_type": "execute_result"
    }
   ],
   "source": [
    "#list of unique merchants that have already churned\n",
    "list(df_nolastq[df_nolastq['churn'] == 1]['merchant'].unique())"
   ]
  },
  {
   "cell_type": "code",
   "execution_count": 82,
   "metadata": {
    "scrolled": true
   },
   "outputs": [
    {
     "data": {
      "text/plain": [
       "['00057d4302',\n",
       " '000ed1585f',\n",
       " '0026f256ac',\n",
       " '0037a192b4',\n",
       " '0037a192b4',\n",
       " '0042aadfdf',\n",
       " '0047f556b5',\n",
       " '004a994585',\n",
       " '004d02cb10',\n",
       " '005c218139',\n",
       " '0063ff0c6b',\n",
       " '0063ff0c6b',\n",
       " '007364b02a',\n",
       " '007364b02a',\n",
       " '007364b02a',\n",
       " '0082de98e9',\n",
       " '0084eddcc7',\n",
       " '0085991c76',\n",
       " '0097b9f523',\n",
       " '00ab614386',\n",
       " '00ae6015d0',\n",
       " '00bf6e541e',\n",
       " '00bf6e541e',\n",
       " '00bf6e541e',\n",
       " '00c1ce3556',\n",
       " '00cd72cf0e',\n",
       " '00cd72cf0e',\n",
       " '00cd72cf0e',\n",
       " '00e7748c5b',\n",
       " '00ffc7c38b',\n",
       " '010749c732',\n",
       " '0111d7d609',\n",
       " '0111d7d609',\n",
       " '0111d7d609',\n",
       " '01229befeb',\n",
       " '0125d43ba4',\n",
       " '013cc2cd06',\n",
       " '01422c116f',\n",
       " '0147289ac5',\n",
       " '0147289ac5',\n",
       " '0149d4bfba',\n",
       " '014de96817',\n",
       " '014de96817',\n",
       " '0150c59efd',\n",
       " '0150c59efd',\n",
       " '0150c59efd',\n",
       " '0153aebab1',\n",
       " '0153aebab1',\n",
       " '0155692eb6',\n",
       " '0155692eb6',\n",
       " '015f6dc983',\n",
       " '015f6dc983',\n",
       " '017130662b',\n",
       " '01714118fa',\n",
       " '01741912b7',\n",
       " '0179c7a02d',\n",
       " '0179c7a02d',\n",
       " '018484a73d',\n",
       " '018484a73d',\n",
       " '01874bc7cf',\n",
       " '0194c4e788',\n",
       " '01c89d040b',\n",
       " '01d7aab444',\n",
       " '01d7aab444',\n",
       " '01e75670d6',\n",
       " '01f6668962',\n",
       " '020822e431',\n",
       " '020822e431',\n",
       " '020fc8300d',\n",
       " '02195f8d1a',\n",
       " '0221954dfe',\n",
       " '0221b4736b',\n",
       " '023f542244',\n",
       " '024eba0e34',\n",
       " '0252834ede',\n",
       " '0252834ede',\n",
       " '02573c50ed',\n",
       " '02573c50ed',\n",
       " '025e237cf5',\n",
       " '0276515bcb',\n",
       " '02794a5ea5',\n",
       " '028d01b0c5',\n",
       " '0290e4ad90',\n",
       " '0290e4ad90',\n",
       " '0294660a13',\n",
       " '029a0ed7d7',\n",
       " '029a0ed7d7',\n",
       " '029b8d26b9',\n",
       " '02a42d9d45',\n",
       " '02a42d9d45',\n",
       " '02ac035459',\n",
       " '02b37cb5bf',\n",
       " '02bb6bfb29',\n",
       " '02c35b47d1',\n",
       " '02cd94ff7d',\n",
       " '02d3459d0d',\n",
       " '02dde18913',\n",
       " '02e4313568',\n",
       " '02e818eee6',\n",
       " '02e8b1d2da',\n",
       " '02efdb900e',\n",
       " '02efdb900e',\n",
       " '030a36dac7',\n",
       " '03121e8b2a',\n",
       " '03188bf0a9',\n",
       " '03188bf0a9',\n",
       " '03188bf0a9',\n",
       " '03188bf0a9',\n",
       " '031a1e757f',\n",
       " '0325fa16d1',\n",
       " '03291c8513',\n",
       " '032b9f9e2f',\n",
       " '032b9f9e2f',\n",
       " '032b9f9e2f',\n",
       " '032e4ed5f5',\n",
       " '0330ec3b09',\n",
       " '0330ec3b09',\n",
       " '03413dc039',\n",
       " '03443436a6',\n",
       " '03449da1e0',\n",
       " '0369c5ceb3',\n",
       " '038850129c',\n",
       " '038850129c',\n",
       " '03887a71d1',\n",
       " '03887a71d1',\n",
       " '038e2ec826',\n",
       " '039a44c951',\n",
       " '039b70019c',\n",
       " '039eee412f',\n",
       " '03a1f22994',\n",
       " '03b0467f62',\n",
       " '03c4d7917f',\n",
       " '03c4d7917f',\n",
       " '03c9730422',\n",
       " '03cd2d8d46',\n",
       " '03cd2d8d46',\n",
       " '03e975f0a7',\n",
       " '03ea5430e3',\n",
       " '03ea5430e3',\n",
       " '03f7a6bdc7',\n",
       " '040527ae9b',\n",
       " '040527ae9b',\n",
       " '0411785a8c',\n",
       " '0422b3d34e',\n",
       " '0422b3d34e',\n",
       " '0422b3d34e',\n",
       " '042862b353',\n",
       " '0429c84fdf',\n",
       " '042cfb087c',\n",
       " '04496f37f9',\n",
       " '04496f37f9',\n",
       " '04523ba98a',\n",
       " '045a1c428b',\n",
       " '045b70226b',\n",
       " '045b70226b',\n",
       " '046802909f',\n",
       " '04763c9a83',\n",
       " '047a744051',\n",
       " '048665266d',\n",
       " '048e90b002',\n",
       " '049c02b52c',\n",
       " '049fe6e489',\n",
       " '04a4b501b9',\n",
       " '04b2dc3bef',\n",
       " '04c20ed040',\n",
       " '04c598cd61',\n",
       " '04dcd64a6c',\n",
       " '04dcd64a6c',\n",
       " '04dcd64a6c',\n",
       " '04df022867',\n",
       " '04e034b056',\n",
       " '04ec60b431',\n",
       " '050193a290',\n",
       " '0502d0f26e',\n",
       " '0510fa4210',\n",
       " '0510fa4210',\n",
       " '0517835bfd',\n",
       " '05231c0e87',\n",
       " '05368eca16',\n",
       " '0554fd0092',\n",
       " '05632f1f20',\n",
       " '056a6336bd',\n",
       " '057a385c81',\n",
       " '0585329a8e',\n",
       " '058879b0a0',\n",
       " '058879b0a0',\n",
       " '058cb2577e',\n",
       " '059896f2b3',\n",
       " '059896f2b3',\n",
       " '0599b37f20',\n",
       " '059df04f2e',\n",
       " '059f618474',\n",
       " '05a588aacf',\n",
       " '05a9008f40',\n",
       " '05a96cf0b0',\n",
       " '05ab7f3221',\n",
       " '05ab7f3221',\n",
       " '05bc42300f',\n",
       " '05c507156d',\n",
       " '05e153fa55',\n",
       " '05ef1864b5',\n",
       " '05f194dc09',\n",
       " '05f58dab9f',\n",
       " '05f7079ee2',\n",
       " '06020bd10c',\n",
       " '06076d055c',\n",
       " '060d47d98a',\n",
       " '060f20c522',\n",
       " '06141aa7d9',\n",
       " '0616546a43',\n",
       " '0621494b75',\n",
       " '0624fec613',\n",
       " '062dcb31f4',\n",
       " '06335890c6',\n",
       " '0633fd0997',\n",
       " '06430cccbf',\n",
       " '06452f754d',\n",
       " '06507ea87c',\n",
       " '06584584d0',\n",
       " '0658faddd3',\n",
       " '0658faddd3',\n",
       " '065c0314c0',\n",
       " '065dd572cb',\n",
       " '0683bf4cbe',\n",
       " '068da9961c',\n",
       " '068da9961c',\n",
       " '06919faa0d',\n",
       " '0694eeac36',\n",
       " '069a853a27',\n",
       " '06a3883e9e',\n",
       " '06b38a8036',\n",
       " '06b54b8e90',\n",
       " '06b620588a',\n",
       " '06ba8a259d',\n",
       " '06bb3cd095',\n",
       " '06bb3cd095',\n",
       " '06cfe42c88',\n",
       " '06d30e9933',\n",
       " '06d8f8eb2b',\n",
       " '06dd44a157',\n",
       " '06dd44a157',\n",
       " '06dee9bd7f',\n",
       " '06e2f76af2',\n",
       " '06eb50b397',\n",
       " '06eb50b397',\n",
       " '06f1f36773',\n",
       " '06f1f36773',\n",
       " '06fde885e9',\n",
       " '0710329a79',\n",
       " '0710b48578',\n",
       " '0710b48578',\n",
       " '071b8458d7',\n",
       " '071c58ca63',\n",
       " '072190128d',\n",
       " '07474ff1b3',\n",
       " '075d0b212f',\n",
       " '075e1884cc',\n",
       " '07861ae47a',\n",
       " '079eaddbd7',\n",
       " '07ac12f30c',\n",
       " '07ac12f30c',\n",
       " '07b228da98',\n",
       " '07b228da98',\n",
       " '07b2f186c2',\n",
       " '07bca2628f',\n",
       " '07bca2628f',\n",
       " '07cabcb557',\n",
       " '07dc3c8133',\n",
       " '07de7f5aa7',\n",
       " '07e13536d0',\n",
       " '07e2c817a1',\n",
       " '07e2c817a1',\n",
       " '07e69164b6',\n",
       " '07ee59a601',\n",
       " '07f13ce0d2',\n",
       " '07f13ce0d2',\n",
       " '07f6e186bc',\n",
       " '08133d3feb',\n",
       " '0817df113e',\n",
       " '08289a8ff8',\n",
       " '082cc080a7',\n",
       " '082cc080a7',\n",
       " '082df6d10c',\n",
       " '0832666b9e',\n",
       " '0832666b9e',\n",
       " '083430c126',\n",
       " '08346edce3',\n",
       " '08346edce3',\n",
       " '0838e4078e',\n",
       " '083988f3ed',\n",
       " '083abbf551',\n",
       " '083abbf551',\n",
       " '083d89f996',\n",
       " '084d37cc87',\n",
       " '085387bf38',\n",
       " '0855daecdf',\n",
       " '085675f973',\n",
       " '085675f973',\n",
       " '0869e40980',\n",
       " '0869e40980',\n",
       " '086f4ab64f',\n",
       " '08724a78fd',\n",
       " '088b6b8268',\n",
       " '088f8fe935',\n",
       " '08a29bc58e',\n",
       " '08b5bdcc50',\n",
       " '08bd1a5e18',\n",
       " '08c0acfdf4',\n",
       " '08c263b417',\n",
       " '08c263b417',\n",
       " '08cfeff7c8',\n",
       " '08d65db79c',\n",
       " '08d65db79c',\n",
       " '08d65db79c',\n",
       " '08da2d4cbe',\n",
       " '08dacaed7d',\n",
       " '08dacaed7d',\n",
       " '08e3774a3d',\n",
       " '08e3774a3d',\n",
       " '08ee7ca022',\n",
       " '08f31d2060',\n",
       " '08f31d2060',\n",
       " '08f8b065b2',\n",
       " '09040f9ece',\n",
       " '09040f9ece',\n",
       " '090819f8b4',\n",
       " '090958289c',\n",
       " '090b2e8722',\n",
       " '090f4a9b29',\n",
       " '092266f14e',\n",
       " '094ba7fc93',\n",
       " '09689dc3f0',\n",
       " '096abf1fc1',\n",
       " '096d61582c',\n",
       " '096d61582c',\n",
       " '096ee20988',\n",
       " '0972e100cc',\n",
       " '097669f1f0',\n",
       " '097dada110',\n",
       " '097dada110',\n",
       " '097dbd1358',\n",
       " '098ee0e6ca',\n",
       " '0990beebc5',\n",
       " '09a45c7006',\n",
       " '09a45c7006',\n",
       " '09a45c7006',\n",
       " '09ae80dcb7',\n",
       " '09ae80dcb7',\n",
       " '09b5e3d475',\n",
       " '09bfac874f',\n",
       " '09c186482d',\n",
       " '09c1c3dff1',\n",
       " '09c9956adc',\n",
       " '09c9956adc',\n",
       " '09cbdb193e',\n",
       " '09cd9bce5c',\n",
       " '09d00ef9dc',\n",
       " '09d48e6360',\n",
       " '09ee333b51',\n",
       " '09ee333b51',\n",
       " '09efcfb391',\n",
       " '09ff247913',\n",
       " '0a058df9f0',\n",
       " '0a0b0f5cf1',\n",
       " '0a0d8d3537',\n",
       " '0a0f945c59',\n",
       " '0a0f945c59',\n",
       " '0a24fde08d',\n",
       " '0a28a894fb',\n",
       " '0a309e574d',\n",
       " '0a34f05383',\n",
       " '0a4d004307',\n",
       " '0a4d004307',\n",
       " '0a4da2ae03',\n",
       " '0a556ad0a3',\n",
       " '0a556ad0a3',\n",
       " '0a556ad0a3',\n",
       " '0a65298b4a',\n",
       " '0a65298b4a',\n",
       " '0a6c6685a9',\n",
       " '0a6ddecc17',\n",
       " '0a7047269a',\n",
       " '0a7047269a',\n",
       " '0a7cabbe5d',\n",
       " '0a7e135108',\n",
       " '0a7e135108',\n",
       " '0a7e135108',\n",
       " '0a90229a60',\n",
       " '0a92d44d9f',\n",
       " '0a97bb20a5',\n",
       " '0aaab17751',\n",
       " '0abe66f34e',\n",
       " '0abf34ad85',\n",
       " '0ac20d2d30',\n",
       " '0ad401bfd2',\n",
       " '0ad401bfd2',\n",
       " '0ad7ef964a',\n",
       " '0ae0a21133',\n",
       " '0ae2b1b85d',\n",
       " '0af1ab9c9c',\n",
       " '0af62f356f',\n",
       " '0af965e599',\n",
       " '0af965e599',\n",
       " '0afee62800',\n",
       " '0b0911915a',\n",
       " '0b0ea71d37',\n",
       " '0b11bfd26d',\n",
       " '0b11bfd26d',\n",
       " '0b17be7b2a',\n",
       " '0b17be7b2a',\n",
       " '0b246fcfef',\n",
       " '0b246fcfef',\n",
       " '0b35b79847',\n",
       " '0b362b2808',\n",
       " '0b3772bc42',\n",
       " '0b41b2c3ec',\n",
       " '0b41b2c3ec',\n",
       " '0b48de803f',\n",
       " '0b4ce03036',\n",
       " '0b574b35f6',\n",
       " '0b63d005d4',\n",
       " '0b6efe38c8',\n",
       " '0b722eb558',\n",
       " '0b722eb558',\n",
       " '0b722eb558',\n",
       " '0b722eb558',\n",
       " '0b72977b08',\n",
       " '0b7af3c1b0',\n",
       " '0b83e16799',\n",
       " '0b997b5f1b',\n",
       " '0ba0fff32e',\n",
       " '0ba413567e',\n",
       " '0ba413567e',\n",
       " '0ba41a5eba',\n",
       " '0bb86502f7',\n",
       " '0bb86502f7',\n",
       " '0bb86502f7',\n",
       " '0bb915497a',\n",
       " '0bb915497a',\n",
       " '0bbc1ca47d',\n",
       " '0bbc1ca47d',\n",
       " '0bc3f86223',\n",
       " '0bc75e5563',\n",
       " '0bcd3c6786',\n",
       " '0bcf8c35cc',\n",
       " '0bdc2ed88a',\n",
       " '0bf85a1700',\n",
       " '0bf85a1700',\n",
       " '0c0a3bca11',\n",
       " '0c104de64d',\n",
       " '0c15456229',\n",
       " '0c41bc0e25',\n",
       " '0c41bc0e25',\n",
       " '0c41bc0e25',\n",
       " '0c4870a29c',\n",
       " '0c4870a29c',\n",
       " '0c4870a29c',\n",
       " '0c6a6d801c',\n",
       " '0c7682e1fa',\n",
       " '0c7ddb67ee',\n",
       " '0c848795d7',\n",
       " '0c8b81813d',\n",
       " '0c921efcd7',\n",
       " '0c921efcd7',\n",
       " '0c9299d5ff',\n",
       " '0c988402c3',\n",
       " '0c988402c3',\n",
       " '0c9bb617f4',\n",
       " '0ca7e35992',\n",
       " '0cab60aad0',\n",
       " '0cce25f27e',\n",
       " '0cce25f27e',\n",
       " '0cd1a9a119',\n",
       " '0cd1a9a119',\n",
       " '0cd8d199c7',\n",
       " '0cdd8f9a9a',\n",
       " '0cde374cf3',\n",
       " '0cde374cf3',\n",
       " '0cde374cf3',\n",
       " '0cec9f5811',\n",
       " '0ceeca5e66',\n",
       " '0cf3a4dbe4',\n",
       " '0cf7b0527d',\n",
       " '0cf7b0527d',\n",
       " '0cf8ce0e60',\n",
       " '0cfe60ebd0',\n",
       " '0d0396bd2c',\n",
       " '0d0737f944',\n",
       " '0d0d5c5b00',\n",
       " '0d0d5c5b00',\n",
       " '0d19c0e3c5',\n",
       " '0d211411e8',\n",
       " '0d2ba61662',\n",
       " '0d2d6f3872',\n",
       " '0d38676fad',\n",
       " '0d3e630e6d',\n",
       " '0d3e630e6d',\n",
       " '0d44bba32b',\n",
       " '0d4f683729',\n",
       " '0d5031dd6a',\n",
       " '0d5031dd6a',\n",
       " '0d5c5a2eeb',\n",
       " '0d71e05644',\n",
       " '0d78a0fea0',\n",
       " '0d872bca32',\n",
       " '0d8c24e362',\n",
       " '0d8c24e362',\n",
       " '0d910b4d1b',\n",
       " '0d9798b5cd',\n",
       " '0d9833a896',\n",
       " '0da551e393',\n",
       " '0da9248d6b',\n",
       " '0da9248d6b',\n",
       " '0daf2fd0f0',\n",
       " '0db1953624',\n",
       " '0db5655e9d',\n",
       " '0db5655e9d',\n",
       " '0db5655e9d',\n",
       " '0dc1aa4ec0',\n",
       " '0dc729ce0e',\n",
       " '0dca827aba',\n",
       " '0dd197abb6',\n",
       " '0df0c17136',\n",
       " '0df19d9816',\n",
       " '0dfbc66693',\n",
       " '0dfce273eb',\n",
       " '0e21c7d63a',\n",
       " '0e342ef6d4',\n",
       " '0e373438d2',\n",
       " '0e4074d3c1',\n",
       " '0e41bf5380',\n",
       " '0e41bf5380',\n",
       " '0e4bf1a973',\n",
       " '0e4cd290b9',\n",
       " '0e5623d2c9',\n",
       " '0e5623d2c9',\n",
       " '0e584587fc',\n",
       " '0e6381ec09',\n",
       " '0e668ac906',\n",
       " '0e79ebb284',\n",
       " '0e8323741e',\n",
       " '0e8bc14a74',\n",
       " '0e8ebf89e9',\n",
       " '0e8ef542d5',\n",
       " '0eaef325c5',\n",
       " '0eb6bb02fe',\n",
       " '0ec3ad4bd4',\n",
       " '0ec9f57f10',\n",
       " '0ed595a6da',\n",
       " '0edc5c0cf2',\n",
       " '0ef30be914',\n",
       " '0f04dffa83',\n",
       " '0f0cfba29d',\n",
       " '0f1351b7a7',\n",
       " '0f1c0108af',\n",
       " '0f2a712e17',\n",
       " '0f2d5219d0',\n",
       " '0f2d5219d0',\n",
       " '0f319eef09',\n",
       " '0f319eef09',\n",
       " '0f319eef09',\n",
       " '0f4ccd8c6f',\n",
       " '0f4ccd8c6f',\n",
       " '0f5d04243f',\n",
       " '0f602083ca',\n",
       " '0f6a6fb94a',\n",
       " '0f917ba8e4',\n",
       " '0f932901c2',\n",
       " '0f9a0f781f',\n",
       " '0f9a3906f3',\n",
       " '0f9b729157',\n",
       " '0fa5598002',\n",
       " '0fc8467324',\n",
       " '0fcadcf296',\n",
       " '0fcdd6712f',\n",
       " '0fdd41da98',\n",
       " '0fdd9bd46c',\n",
       " '0fdd9bd46c',\n",
       " '0fe05fa85c',\n",
       " '0fe05fa85c',\n",
       " '0ffa8f174a',\n",
       " '0ffa8f174a',\n",
       " '1.50E+11',\n",
       " '10050a75fe',\n",
       " '100ca319be',\n",
       " '1010abcd79',\n",
       " '1010abcd79',\n",
       " '101774b22a',\n",
       " '101d0c7d90',\n",
       " '1020d96aac',\n",
       " '1020d96aac',\n",
       " '102e6602b6',\n",
       " '105b0428ca',\n",
       " '106d43dfe9',\n",
       " '10708ba763',\n",
       " '1070aa9b56',\n",
       " '1071d8be34',\n",
       " '108d45de82',\n",
       " '108d45de82',\n",
       " '108d45de82',\n",
       " '10956928d5',\n",
       " '109609fe37',\n",
       " '10974d67fa',\n",
       " '109b3af2f2',\n",
       " '109ce85b3d',\n",
       " '109ef16484',\n",
       " '10b5ba2dfc',\n",
       " '10d166d112',\n",
       " '10d656a25f',\n",
       " '10dd392719',\n",
       " '10dd392719',\n",
       " '10ec85b14e',\n",
       " '10f3baa29f',\n",
       " '10f60ffd1b',\n",
       " '10f71240be',\n",
       " '111429408b',\n",
       " '112bc44f39',\n",
       " '112bc44f39',\n",
       " '112bc44f39',\n",
       " '1133d15e78',\n",
       " '113c6e2055',\n",
       " '113c6e2055',\n",
       " '11509f4843',\n",
       " '115a9836c9',\n",
       " '115a9836c9',\n",
       " '115acb617d',\n",
       " '115bf25f6b',\n",
       " '115e4f9db7',\n",
       " '115e4f9db7',\n",
       " '11700f6a64',\n",
       " '117309a6d0',\n",
       " '11734170a6',\n",
       " '11743ad96f',\n",
       " '11743ad96f',\n",
       " '11760d401f',\n",
       " '11880ae7f7',\n",
       " '119ad681af',\n",
       " '119ad681af',\n",
       " '119ad681af',\n",
       " '11a2bc3360',\n",
       " '11ab9239d0',\n",
       " '11ab9239d0',\n",
       " '11b7c6a67a',\n",
       " '11b99ec98d',\n",
       " '11db110579',\n",
       " '11df16d295',\n",
       " '11df16d295',\n",
       " '11e5237528',\n",
       " '11f65fecdd',\n",
       " '11fbac8852',\n",
       " '11ff8eab83',\n",
       " '120fcde6bb',\n",
       " '12125db321',\n",
       " '1226624910',\n",
       " '122a1f465d',\n",
       " '122a1f465d',\n",
       " '122ceb115c',\n",
       " '122d9c0253',\n",
       " '122d9c0253',\n",
       " '12418d7f3e',\n",
       " '124321be40',\n",
       " '125275b322',\n",
       " '1253ad5fc5',\n",
       " '125f26a6bc',\n",
       " '125f26a6bc',\n",
       " '1264d6bdce',\n",
       " '1268ebc853',\n",
       " '12788ad222',\n",
       " '1288dbf1b4',\n",
       " '1289b54c49',\n",
       " '12928fcedd',\n",
       " '129f2874f7',\n",
       " '12a74bb315',\n",
       " '12a74bb315',\n",
       " '12ba28031b',\n",
       " '12d1ae10b1',\n",
       " '12d2cbd52a',\n",
       " '12da300c5c',\n",
       " '12e6d8b94c',\n",
       " '12fee582d8',\n",
       " '1302234fdd',\n",
       " '1302234fdd',\n",
       " '1302234fdd',\n",
       " '1303312413',\n",
       " '130a9eefe2',\n",
       " '130a9eefe2',\n",
       " '131634510f',\n",
       " '131a1edf9c',\n",
       " '131a1edf9c',\n",
       " '131e785332',\n",
       " '13457a20fb',\n",
       " '1356b22d93',\n",
       " '13615f80ce',\n",
       " '137bbbe408',\n",
       " '137e9ab941',\n",
       " '137e9ab941',\n",
       " '138000cadb',\n",
       " '138000cadb',\n",
       " '138000cadb',\n",
       " '13816eb7aa',\n",
       " '1386ab9a2f',\n",
       " '13887fc5e3',\n",
       " '138cbcba87',\n",
       " '138cbcba87',\n",
       " '138cc20171',\n",
       " '138cc20171',\n",
       " '13a607c373',\n",
       " '13a67b8336',\n",
       " '13a8bab7c6',\n",
       " '13a8bab7c6',\n",
       " '13afa27111',\n",
       " '13afa27111',\n",
       " '13b4672b25',\n",
       " '13b50e476f',\n",
       " '13b50e476f',\n",
       " '13b50e476f',\n",
       " '13bf137201',\n",
       " '13bf137201',\n",
       " '13c43b8d4b',\n",
       " '13cbad1125',\n",
       " '13cbad1125',\n",
       " '13ccf022e5',\n",
       " '13ce0fe7c0',\n",
       " '13dbe6dc9d',\n",
       " '13de70ec06',\n",
       " '13e7856ebc',\n",
       " '13e7856ebc',\n",
       " '13ec1539dd',\n",
       " '13efd60288',\n",
       " '13f11a0685',\n",
       " '13f1fd12c0',\n",
       " '13f1fd12c0',\n",
       " '13f1fd12c0',\n",
       " '13f6ef5203',\n",
       " '13f6ef5203',\n",
       " '1402deb603',\n",
       " '1407d62a94',\n",
       " '140eebf9db',\n",
       " '140eebf9db',\n",
       " '140eebf9db',\n",
       " '1415d6d567',\n",
       " '14241f5031',\n",
       " '143d076a41',\n",
       " '1455905337',\n",
       " '14671b74bd',\n",
       " '147a135ecf',\n",
       " '147cd24344',\n",
       " '148a2908ca',\n",
       " '14942b60a0',\n",
       " '149aa9b00c',\n",
       " '149ef55449',\n",
       " '14a715589a',\n",
       " '14aaf54668',\n",
       " '14aaf54668',\n",
       " '14b06b76ca',\n",
       " '14bb7e53c7',\n",
       " '14bda6bd12',\n",
       " '14d4bbfee8',\n",
       " '14f28a93a2',\n",
       " '14f28a93a2',\n",
       " '14f28a93a2',\n",
       " '14f28a93a2',\n",
       " '14fb37c54a',\n",
       " '150579602e',\n",
       " '151035d017',\n",
       " '15276e9757',\n",
       " '152bc23b2e',\n",
       " '1544f17f15',\n",
       " '1556c326ad',\n",
       " '1577a750bb',\n",
       " '1584641fc7',\n",
       " '15881ae66a',\n",
       " '158e05f3e1',\n",
       " '158e05f3e1',\n",
       " '159ca2f750',\n",
       " '159ca2f750',\n",
       " '15acd148b7',\n",
       " '15c4c4655c',\n",
       " '15f742e0d1',\n",
       " '16069dd1ca',\n",
       " '16069dd1ca',\n",
       " '160c77a6ff',\n",
       " '16181208cc',\n",
       " '16326bbb96',\n",
       " '163391c2bf',\n",
       " '163391c2bf',\n",
       " '1643f62942',\n",
       " '164c1cae0a',\n",
       " '164e50095e',\n",
       " '165211ffda',\n",
       " '166511ee69',\n",
       " '166964b9e9',\n",
       " '166964b9e9',\n",
       " '167f8c221b',\n",
       " '16855bcced',\n",
       " '168c8a1d41',\n",
       " '168d23f220',\n",
       " '169841a251',\n",
       " '169841a251',\n",
       " '169841a251',\n",
       " '169c26816a',\n",
       " '169c26816a',\n",
       " '16b066518f',\n",
       " '16b066518f',\n",
       " '16b568932a',\n",
       " '16b568932a',\n",
       " '16b568932a',\n",
       " '16b8a59b8a',\n",
       " '16b8a59b8a',\n",
       " '16b8a59b8a',\n",
       " '16b8a59b8a',\n",
       " '16cd0d5ef3',\n",
       " '16d27e0e60',\n",
       " '16d27e0e60',\n",
       " '16de340ada',\n",
       " '16de340ada',\n",
       " '16f23b6afc',\n",
       " '16f81b7a25',\n",
       " '16fe671dab',\n",
       " '170ba764bb',\n",
       " '171ae632a7',\n",
       " '17317b70ec',\n",
       " '1732b09f94',\n",
       " '1732b09f94',\n",
       " '173b7c09c6',\n",
       " '173b7c09c6',\n",
       " '174b5259c0',\n",
       " '1761f8b601',\n",
       " '1768522077',\n",
       " '17876e32c5',\n",
       " '1799e16cf7',\n",
       " '179feddfe0',\n",
       " '179feddfe0',\n",
       " '17a2ef7528',\n",
       " '17a2ef7528',\n",
       " '17a975b080',\n",
       " '17a9e8de1b',\n",
       " '17a9e8de1b',\n",
       " '17b1b2d202',\n",
       " '17b1b2d202',\n",
       " '17b66ae894',\n",
       " '17bd15fa06',\n",
       " '17be4373b0',\n",
       " '17bf26dfbd',\n",
       " '17bf26dfbd',\n",
       " '17c5654aca',\n",
       " '17d15f6cf3',\n",
       " '17d15f6cf3',\n",
       " '17ddf49c15',\n",
       " '17ddf49c15',\n",
       " '17ecc0fa2d',\n",
       " '17f1fed8f5',\n",
       " '17f1fed8f5',\n",
       " '17fbac38b3',\n",
       " '180895c017',\n",
       " '180895c017',\n",
       " '180b29b7c9',\n",
       " '180f18e056',\n",
       " '180f18e056',\n",
       " '1821d438d9',\n",
       " '182691710b',\n",
       " '184ef830db',\n",
       " '186212cf92',\n",
       " '18669a8590',\n",
       " '18669a8590',\n",
       " '186fd2ae75',\n",
       " '18809aa2e9',\n",
       " '18809aa2e9',\n",
       " '1893d158f6',\n",
       " '1893d158f6',\n",
       " '18aa4c0f37',\n",
       " '18bd6216a9',\n",
       " '18bd6216a9',\n",
       " '18cd5e8c8e',\n",
       " '18cf9c3222',\n",
       " '18d81cbaf5',\n",
       " '18da26c984',\n",
       " '18da26c984',\n",
       " '18da26c984',\n",
       " '18f6dc371e',\n",
       " '1910d748f5',\n",
       " '191a94befe',\n",
       " '191b30364f',\n",
       " '191ec6544b',\n",
       " '1922afdc41',\n",
       " '1922afdc41',\n",
       " '192f266687',\n",
       " '1943245ad9',\n",
       " '194b7cb2f7',\n",
       " '194bdd5d7c',\n",
       " '19624f3547',\n",
       " '196bbeaad4',\n",
       " '198b0acaaa',\n",
       " '199fc897d8',\n",
       " '19a79b43e0',\n",
       " '19afad4385',\n",
       " '19b01ae86d',\n",
       " '19b0430685',\n",
       " '19b0430685',\n",
       " '19b0430685',\n",
       " '19c37f1207',\n",
       " '19db0e8d83',\n",
       " '19db0e8d83',\n",
       " '19e514b53c',\n",
       " '19e514b53c',\n",
       " '19e93ea38c',\n",
       " '19e93ea38c',\n",
       " '19e9a94402',\n",
       " '19ec50fc46',\n",
       " '19ec50fc46',\n",
       " '19f57c42d3',\n",
       " '1a2794e595',\n",
       " '1a2794e595',\n",
       " '1a2b71397e',\n",
       " '1a2bed1249',\n",
       " '1a2e18049d',\n",
       " '1a3a6336fe',\n",
       " '1a3a6336fe',\n",
       " '1a5ba7f6ac',\n",
       " '1a644dd744',\n",
       " '1a64876548',\n",
       " '1a64876548',\n",
       " '1a667a2adf',\n",
       " '1a6e3dd0e2',\n",
       " '1a7ca052df',\n",
       " '1a7ca052df',\n",
       " '1a7cb2cde7',\n",
       " '1a810ffe5e',\n",
       " '1a81ddd8c8',\n",
       " '1a928b7583',\n",
       " '1aa0a227bf',\n",
       " '1aa0a227bf',\n",
       " '1aab4502a1',\n",
       " '1ac59fb42c',\n",
       " '1ac59fb42c',\n",
       " '1acf3d7fbf',\n",
       " '1acf86e2bb',\n",
       " '1acf86e2bb',\n",
       " '1ae423cee7',\n",
       " '1ae423cee7',\n",
       " '1ae9bc8a16',\n",
       " '1aeb8c0d08',\n",
       " '1af5ed3442',\n",
       " '1b019080dd',\n",
       " '1b02f2ba3c',\n",
       " '1b02f2ba3c',\n",
       " '1b06434c16',\n",
       " '1b2f2370e3',\n",
       " '1b3024d6a6',\n",
       " '1b349e0e50',\n",
       " '1b3ede95e7',\n",
       " '1b3ede95e7',\n",
       " '1b4560775f',\n",
       " '1b4560775f',\n",
       " '1b5c6c3cdf',\n",
       " '1b619e638f',\n",
       " '1b667eb648',\n",
       " '1b6c11a82d',\n",
       " '1b7e233ec9',\n",
       " '1b7e233ec9',\n",
       " '1b8636e3c7',\n",
       " '1b87d2d56d',\n",
       " '1b8d725a80',\n",
       " '1b9595f8f1',\n",
       " '1ba56cfd05',\n",
       " '1bb02f7dba',\n",
       " '1bb98dc00f',\n",
       " '1bbe278683',\n",
       " '1bd4aadcc0',\n",
       " '1bd8aa7f2a',\n",
       " '1bdb568337',\n",
       " '1bdd8d7b1c',\n",
       " '1bdf65f068',\n",
       " '1bee0f1bea',\n",
       " '1bf50191d4',\n",
       " '1bffb04a4e',\n",
       " '1c00fcc837',\n",
       " '1c1e073777',\n",
       " '1c22e31d2d',\n",
       " '1c2caa4359',\n",
       " '1c2caa4359',\n",
       " '1c2d26a886',\n",
       " '1c314982e5',\n",
       " '1c3b56ec39',\n",
       " '1c43302e54',\n",
       " '1c48c02a8d',\n",
       " '1c61231852',\n",
       " '1c74a5fa38',\n",
       " '1c74a5fa38',\n",
       " '1c75cca43d',\n",
       " '1c791d552a',\n",
       " '1c7e9e466a',\n",
       " '1c9c26b759',\n",
       " '1c9cb0ecc0',\n",
       " '1c9df03971',\n",
       " '1ca3f9547d',\n",
       " '1ca7c6fa36',\n",
       " '1cab5cf62a',\n",
       " '1cb54c4e3d',\n",
       " '1cb84f4625',\n",
       " ...]"
      ]
     },
     "execution_count": 82,
     "metadata": {},
     "output_type": "execute_result"
    }
   ],
   "source": [
    "#list of merchants that churned (also includes duplicate merchants when they churn more than once)\n",
    "list(df_nolastq[df_nolastq['churn'] == 1]['merchant'])"
   ]
  },
  {
   "cell_type": "markdown",
   "metadata": {},
   "source": [
    "## Question 2c: Make a model to predict churn "
   ]
  },
  {
   "cell_type": "code",
   "execution_count": 148,
   "metadata": {},
   "outputs": [
    {
     "data": {
      "text/plain": [
       "0    0.978714\n",
       "1    0.021286\n",
       "Name: churn_transform, dtype: float64"
      ]
     },
     "execution_count": 148,
     "metadata": {},
     "output_type": "execute_result"
    }
   ],
   "source": [
    "# What % Churned?\n",
    "df_nolastq.churn_transform.value_counts(normalize=True)"
   ]
  },
  {
   "cell_type": "markdown",
   "metadata": {},
   "source": [
    "heavily skewed towards most rows not being a churn which makes modeling more difficult"
   ]
  },
  {
   "cell_type": "code",
   "execution_count": 84,
   "metadata": {},
   "outputs": [
    {
     "data": {
      "text/plain": [
       "10305"
      ]
     },
     "execution_count": 84,
     "metadata": {},
     "output_type": "execute_result"
    }
   ],
   "source": [
    "#how many unique merchants in the dataframe without Q4 2034\n",
    "df_nolastq['merchant'].nunique()"
   ]
  },
  {
   "cell_type": "code",
   "execution_count": 145,
   "metadata": {},
   "outputs": [
    {
     "data": {
      "text/plain": [
       "6739"
      ]
     },
     "execution_count": 145,
     "metadata": {},
     "output_type": "execute_result"
    }
   ],
   "source": [
    "#number of unique merchants that churned at least once\n",
    "df_nolastq[df_nolastq['churn'] == 1]['merchant'].nunique()"
   ]
  },
  {
   "cell_type": "code",
   "execution_count": 85,
   "metadata": {},
   "outputs": [
    {
     "data": {
      "text/plain": [
       "0.653954391072295"
      ]
     },
     "execution_count": 85,
     "metadata": {},
     "output_type": "execute_result"
    }
   ],
   "source": [
    "#percent of unique merchants that churned at least once\n",
    "df_nolastq[df_nolastq['churn'] == 1]['merchant'].nunique()/(df_nolastq['merchant'].nunique())"
   ]
  },
  {
   "cell_type": "code",
   "execution_count": 86,
   "metadata": {
    "scrolled": true
   },
   "outputs": [
    {
     "data": {
      "text/plain": [
       "0.17049975739932072"
      ]
     },
     "execution_count": 86,
     "metadata": {},
     "output_type": "execute_result"
    }
   ],
   "source": [
    "#what percent of merchants churned more than once?\n",
    "((df_nolastq[df_nolastq['churn'] == 1]['merchant'].value_counts()>1).sum())/(df_nolastq['merchant'].nunique())"
   ]
  },
  {
   "cell_type": "markdown",
   "metadata": {},
   "source": [
    "Interesting to note that there is a high % of churn when you look at things by unique merchant but not when you look at each row of the dataframe."
   ]
  },
  {
   "cell_type": "code",
   "execution_count": 87,
   "metadata": {
    "scrolled": true
   },
   "outputs": [
    {
     "name": "stdout",
     "output_type": "stream",
     "text": [
      "<class 'pandas.core.frame.DataFrame'>\n",
      "Int64Index: 783572 entries, 883289 to 506636\n",
      "Data columns (total 21 columns):\n",
      " #   Column            Non-Null Count   Dtype         \n",
      "---  ------            --------------   -----         \n",
      " 0   merchant          783572 non-null  object        \n",
      " 1   time              783572 non-null  datetime64[ns]\n",
      " 2   amount_usd        783572 non-null  float64       \n",
      " 3   year_month_day    783572 non-null  object        \n",
      " 4   year_month        783572 non-null  object        \n",
      " 5   year_quarter      783572 non-null  object        \n",
      " 6   td_last_purchase  783572 non-null  float64       \n",
      " 7   tx_count          783572 non-null  int64         \n",
      " 8   tx_count_day      783572 non-null  int64         \n",
      " 9   tx_count_month    783572 non-null  int64         \n",
      " 10  tx_count_quarter  783572 non-null  int64         \n",
      " 11  tx_count_year     783572 non-null  int64         \n",
      " 12  weekday           783572 non-null  int64         \n",
      " 13  active_hours      783572 non-null  int64         \n",
      " 14  year_2033         783572 non-null  int64         \n",
      " 15  quarter_2         783572 non-null  int64         \n",
      " 16  quarter_3         783572 non-null  int64         \n",
      " 17  quarter_4         783572 non-null  int64         \n",
      " 18  future_date       779067 non-null  datetime64[ns]\n",
      " 19  churn             783572 non-null  int32         \n",
      " 20  churn_transform   783572 non-null  int32         \n",
      "dtypes: datetime64[ns](2), float64(2), int32(2), int64(11), object(4)\n",
      "memory usage: 125.5+ MB\n"
     ]
    }
   ],
   "source": [
    "df_nolastq.info()"
   ]
  },
  {
   "cell_type": "code",
   "execution_count": 88,
   "metadata": {},
   "outputs": [
    {
     "data": {
      "text/html": [
       "<div>\n",
       "<style scoped>\n",
       "    .dataframe tbody tr th:only-of-type {\n",
       "        vertical-align: middle;\n",
       "    }\n",
       "\n",
       "    .dataframe tbody tr th {\n",
       "        vertical-align: top;\n",
       "    }\n",
       "\n",
       "    .dataframe thead th {\n",
       "        text-align: right;\n",
       "    }\n",
       "</style>\n",
       "<table border=\"1\" class=\"dataframe\">\n",
       "  <thead>\n",
       "    <tr style=\"text-align: right;\">\n",
       "      <th></th>\n",
       "      <th>amount_usd</th>\n",
       "      <th>td_last_purchase</th>\n",
       "      <th>tx_count</th>\n",
       "      <th>tx_count_day</th>\n",
       "      <th>tx_count_month</th>\n",
       "      <th>tx_count_quarter</th>\n",
       "      <th>tx_count_year</th>\n",
       "      <th>weekday</th>\n",
       "      <th>active_hours</th>\n",
       "      <th>year_2033</th>\n",
       "      <th>quarter_2</th>\n",
       "      <th>quarter_3</th>\n",
       "      <th>quarter_4</th>\n",
       "      <th>churn_transform</th>\n",
       "    </tr>\n",
       "    <tr>\n",
       "      <th>churn</th>\n",
       "      <th></th>\n",
       "      <th></th>\n",
       "      <th></th>\n",
       "      <th></th>\n",
       "      <th></th>\n",
       "      <th></th>\n",
       "      <th></th>\n",
       "      <th></th>\n",
       "      <th></th>\n",
       "      <th></th>\n",
       "      <th></th>\n",
       "      <th></th>\n",
       "      <th></th>\n",
       "      <th></th>\n",
       "    </tr>\n",
       "  </thead>\n",
       "  <tbody>\n",
       "    <tr>\n",
       "      <th>0</th>\n",
       "      <td>150.030904</td>\n",
       "      <td>51.238735</td>\n",
       "      <td>873.517954</td>\n",
       "      <td>44.301488</td>\n",
       "      <td>143.138516</td>\n",
       "      <td>276.036004</td>\n",
       "      <td>583.591377</td>\n",
       "      <td>0.744648</td>\n",
       "      <td>0.717564</td>\n",
       "      <td>0.327640</td>\n",
       "      <td>0.286296</td>\n",
       "      <td>0.359470</td>\n",
       "      <td>0.139289</td>\n",
       "      <td>0.010141</td>\n",
       "    </tr>\n",
       "    <tr>\n",
       "      <th>1</th>\n",
       "      <td>385.016610</td>\n",
       "      <td>740.381625</td>\n",
       "      <td>22.332918</td>\n",
       "      <td>1.890614</td>\n",
       "      <td>6.051689</td>\n",
       "      <td>10.253457</td>\n",
       "      <td>16.642938</td>\n",
       "      <td>0.763999</td>\n",
       "      <td>0.703242</td>\n",
       "      <td>0.415779</td>\n",
       "      <td>0.300272</td>\n",
       "      <td>0.341306</td>\n",
       "      <td>0.154613</td>\n",
       "      <td>1.000000</td>\n",
       "    </tr>\n",
       "  </tbody>\n",
       "</table>\n",
       "</div>"
      ],
      "text/plain": [
       "       amount_usd  td_last_purchase    tx_count  tx_count_day  tx_count_month  \\\n",
       "churn                                                                           \n",
       "0      150.030904         51.238735  873.517954     44.301488      143.138516   \n",
       "1      385.016610        740.381625   22.332918      1.890614        6.051689   \n",
       "\n",
       "       tx_count_quarter  tx_count_year   weekday  active_hours  year_2033  \\\n",
       "churn                                                                       \n",
       "0            276.036004     583.591377  0.744648      0.717564   0.327640   \n",
       "1             10.253457      16.642938  0.763999      0.703242   0.415779   \n",
       "\n",
       "       quarter_2  quarter_3  quarter_4  churn_transform  \n",
       "churn                                                    \n",
       "0       0.286296   0.359470   0.139289         0.010141  \n",
       "1       0.300272   0.341306   0.154613         1.000000  "
      ]
     },
     "execution_count": 88,
     "metadata": {},
     "output_type": "execute_result"
    }
   ],
   "source": [
    "#get an idea of which features influence churn vs no churn\n",
    "df_nolastq.groupby('churn').mean()"
   ]
  },
  {
   "cell_type": "markdown",
   "metadata": {},
   "source": [
    "right away its pretty interesting that time delta since last purchase seems to be a huge differentiator. transaction count variables also seem to be pretty important. When the transactions happen seem to be less important here vs the clustering."
   ]
  },
  {
   "cell_type": "markdown",
   "metadata": {},
   "source": [
    "### EDA "
   ]
  },
  {
   "cell_type": "code",
   "execution_count": 90,
   "metadata": {},
   "outputs": [],
   "source": [
    "def churn_plots(y):\n",
    "    ###Function to visualize Churn (target variable) vs potential features\n",
    "    ### first visual is barplot showing average of churn group vs non-churn group\n",
    "    ### second visual is violinplot showing the average of churn group vs non-churn group\n",
    "    \n",
    "    #create subplots for two visuals\n",
    "    figure = plt.figure(figsize=(12,8))\n",
    "    ax = figure.add_subplot(121)\n",
    "    ax2 = figure.add_subplot(122)\n",
    "\n",
    "    #barplot\n",
    "    sns.barplot(x=df_nolastq['churn'], y=df_nolastq[y], ax=ax)\n",
    "    ax.set_title('Average {}'.format(y))\n",
    "    ax.ticklabel_format(style='plain', axis='y',useOffset=False)\n",
    "    ax.get_yaxis().set_major_formatter(FuncFormatter(lambda x, p: format(int(x), ',')))\n",
    "\n",
    "    #violinplot\n",
    "    sns.violinplot(x=df_nolastq['churn'], y=df_nolastq[y], ax=ax2)\n",
    "    ax2.set_title('Average {}'.format(y))\n",
    "    ax2.ticklabel_format(style='plain', axis='y',useOffset=False)\n",
    "    ax2.get_yaxis().set_major_formatter(FuncFormatter(lambda x, p: format(int(x), ',')))"
   ]
  },
  {
   "cell_type": "code",
   "execution_count": 91,
   "metadata": {},
   "outputs": [],
   "source": [
    "feature_list = ['amount_usd', 'td_last_purchase', 'tx_count', 'tx_count_day', \n",
    "                'tx_count_month','tx_count_quarter', 'tx_count_year','weekday', \n",
    "                'active_hours', 'year_2033', 'quarter_2', 'quarter_3', 'quarter_4']"
   ]
  },
  {
   "cell_type": "code",
   "execution_count": 92,
   "metadata": {
    "scrolled": false
   },
   "outputs": [
    {
     "data": {
      "image/png": "[encoded data removed]",
      "text/plain": [
       "<Figure size 864x576 with 2 Axes>"
      ]
     },
     "metadata": {
      "needs_background": "light"
     },
     "output_type": "display_data"
    },
    {
     "data": {
      "image/png": "[encoded data removed]",
      "text/plain": [
       "<Figure size 864x576 with 2 Axes>"
      ]
     },
     "metadata": {
      "needs_background": "light"
     },
     "output_type": "display_data"
    },
    {
     "data": {
      "image/png": "[encoded data removed]",
      "text/plain": [
       "<Figure size 864x576 with 2 Axes>"
      ]
     },
     "metadata": {
      "needs_background": "light"
     },
     "output_type": "display_data"
    },
    {
     "data": {
      "image/png": "[encoded data removed]",
      "text/plain": [
       "<Figure size 864x576 with 2 Axes>"
      ]
     },
     "metadata": {
      "needs_background": "light"
     },
     "output_type": "display_data"
    },
    {
     "data": {
      "image/png": "[encoded data removed]",
      "text/plain": [
       "<Figure size 864x576 with 2 Axes>"
      ]
     },
     "metadata": {
      "needs_background": "light"
     },
     "output_type": "display_data"
    },
    {
     "data": {
      "image/png": "[encoded data removed]",
      "text/plain": [
       "<Figure size 864x576 with 2 Axes>"
      ]
     },
     "metadata": {
      "needs_background": "light"
     },
     "output_type": "display_data"
    },
    {
     "data": {
      "image/png": "[encoded data removed]",
      "text/plain": [
       "<Figure size 864x576 with 2 Axes>"
      ]
     },
     "metadata": {
      "needs_background": "light"
     },
     "output_type": "display_data"
    },
    {
     "data": {
      "image/png": "[encoded data removed]",
      "text/plain": [
       "<Figure size 864x576 with 2 Axes>"
      ]
     },
     "metadata": {
      "needs_background": "light"
     },
     "output_type": "display_data"
    },
    {
     "data": {
      "image/png": "[encoded data removed]",
      "text/plain": [
       "<Figure size 864x576 with 2 Axes>"
      ]
     },
     "metadata": {
      "needs_background": "light"
     },
     "output_type": "display_data"
    },
    {
     "data": {
      "image/png": "[encoded data removed]",
      "text/plain": [
       "<Figure size 864x576 with 2 Axes>"
      ]
     },
     "metadata": {
      "needs_background": "light"
     },
     "output_type": "display_data"
    },
    {
     "data": {
      "image/png": "[encoded data removed]",
      "text/plain": [
       "<Figure size 864x576 with 2 Axes>"
      ]
     },
     "metadata": {
      "needs_background": "light"
     },
     "output_type": "display_data"
    },
    {
     "data": {
      "image/png": "[encoded data removed]",
      "text/plain": [
       "<Figure size 864x576 with 2 Axes>"
      ]
     },
     "metadata": {
      "needs_background": "light"
     },
     "output_type": "display_data"
    },
    {
     "data": {
      "image/png": "[encoded data removed]",
      "text/plain": [
       "<Figure size 864x576 with 2 Axes>"
      ]
     },
     "metadata": {
      "needs_background": "light"
     },
     "output_type": "display_data"
    }
   ],
   "source": [
    "for feature in feature_list:\n",
    "    churn_plots(feature)"
   ]
  },
  {
   "cell_type": "markdown",
   "metadata": {},
   "source": [
    "### You can see from the visualizations that 'amount_usd' and 'td_last_purchase' and 'tx_count' features are showing huge differences between the churn and no churn groups.\n",
    "\n",
    "### The weekday, active_hours, year and quarter features don't appear to have large differences in the average churn groups, but the distributions do appear to be wider so maybe it is worth keeping them in the model."
   ]
  },
  {
   "cell_type": "markdown",
   "metadata": {},
   "source": [
    "### Inital Feature selection"
   ]
  },
  {
   "cell_type": "code",
   "execution_count": 110,
   "metadata": {},
   "outputs": [],
   "source": [
    "X = df_nolastq[['amount_usd', 'td_last_purchase', 'tx_count_day', 'tx_count_month','tx_count_quarter', \n",
    "                'weekday','active_hours', 'year_2033', 'quarter_2', 'quarter_3', 'quarter_4']]"
   ]
  },
  {
   "cell_type": "code",
   "execution_count": 113,
   "metadata": {},
   "outputs": [],
   "source": [
    "y = df_nolastq['churn_transform']"
   ]
  },
  {
   "cell_type": "markdown",
   "metadata": {},
   "source": [
    "### Correlation of Features and PCA"
   ]
  },
  {
   "cell_type": "code",
   "execution_count": 112,
   "metadata": {},
   "outputs": [
    {
     "data": {
      "text/plain": [
       "<matplotlib.axes._subplots.AxesSubplot at 0x1f87116f550>"
      ]
     },
     "execution_count": 112,
     "metadata": {},
     "output_type": "execute_result"
    },
    {
     "data": {
      "image/png": "[encoded data removed]",
      "text/plain": [
       "<Figure size 792x648 with 2 Axes>"
      ]
     },
     "metadata": {},
     "output_type": "display_data"
    }
   ],
   "source": [
    "#look at the correlation of features\n",
    "#build a correlation matrix \n",
    "from string import ascii_letters\n",
    "\n",
    "sns.set(style='white')\n",
    "\n",
    "#compute the correlation matrix\n",
    "corr = X.corr()\n",
    "\n",
    "#generate a mask for the upper triangle\n",
    "mask = np.triu(np.ones_like(corr, dtype=np.bool))\n",
    "\n",
    "#set up the matplotlib figure\n",
    "f, ax = plt.subplots(figsize=(11,9))\n",
    "\n",
    "#generate a custom diverging colormap\n",
    "cmap = sns.diverging_palette(220, 10, as_cmap=True)\n",
    "\n",
    "#draw the heatmap with the mask and correct aspect ratio\n",
    "sns.heatmap(corr, mask=mask, cmap=cmap, vmax=.3, center=0,\n",
    "           square=True, linewidth=.5, cbar_kws={\"shrink\": .5})"
   ]
  },
  {
   "cell_type": "markdown",
   "metadata": {},
   "source": [
    "unsurprisingly, the tx_count features are highly correlated. "
   ]
  },
  {
   "cell_type": "code",
   "execution_count": 118,
   "metadata": {},
   "outputs": [
    {
     "name": "stdout",
     "output_type": "stream",
     "text": [
      "0.9285915227779004\n",
      "0.989344673109413\n",
      "0.9999989984918451\n"
     ]
    }
   ],
   "source": [
    "#PCA analysis\n",
    "from sklearn.decomposition import PCA\n",
    "pca_1 = PCA(n_components=3)\n",
    "pca_2 = PCA(n_components=4)\n",
    "pca_3 = PCA(n_components=5)\n",
    "\n",
    "principalComponents_1 = pca_1.fit_transform(X)\n",
    "principalComponents_2 = pca_2.fit_transform(X)\n",
    "principalComponents_3 = pca_3.fit_transform(X)\n",
    "\n",
    "print(np.sum(pca_1.explained_variance_ratio_))\n",
    "print(np.sum(pca_2.explained_variance_ratio_))\n",
    "print(np.sum(pca_3.explained_variance_ratio_))"
   ]
  },
  {
   "cell_type": "markdown",
   "metadata": {},
   "source": [
    "only 3 features explains more than 92% of the variance in the data."
   ]
  },
  {
   "cell_type": "markdown",
   "metadata": {},
   "source": [
    "### Train Test Split"
   ]
  },
  {
   "cell_type": "code",
   "execution_count": 114,
   "metadata": {},
   "outputs": [],
   "source": [
    "from sklearn.model_selection import train_test_split\n",
    "X_train, X_test, y_train, y_test = train_test_split(X, y, random_state=123)"
   ]
  },
  {
   "cell_type": "markdown",
   "metadata": {},
   "source": [
    "### Modeling - Random Forest ensemble method (multiple decision tree models)"
   ]
  },
  {
   "cell_type": "code",
   "execution_count": 119,
   "metadata": {},
   "outputs": [],
   "source": [
    "from sklearn.ensemble import RandomForestRegressor\n",
    "from sklearn.ensemble import RandomForestClassifier\n",
    "from sklearn.pipeline import Pipeline\n",
    "from sklearn.model_selection import GridSearchCV\n",
    "from sklearn.metrics import precision_score, recall_score, accuracy_score, f1_score, classification_report, log_loss"
   ]
  },
  {
   "cell_type": "code",
   "execution_count": 120,
   "metadata": {
    "scrolled": true
   },
   "outputs": [
    {
     "name": "stdout",
     "output_type": "stream",
     "text": [
      "Accuracy %: 0.9790548922115645\n",
      "\n",
      "Training Classification Report:\n",
      "               precision    recall  f1-score   support\n",
      "\n",
      "           0       1.00      1.00      1.00    575112\n",
      "           1       1.00      1.00      1.00     12567\n",
      "\n",
      "    accuracy                           1.00    587679\n",
      "   macro avg       1.00      1.00      1.00    587679\n",
      "weighted avg       1.00      1.00      1.00    587679\n",
      "\n",
      "\n",
      "Testing Classification Report:\n",
      "               precision    recall  f1-score   support\n",
      "\n",
      "           0       0.98      1.00      0.99    191781\n",
      "           1       0.50      0.16      0.25      4112\n",
      "\n",
      "    accuracy                           0.98    195893\n",
      "   macro avg       0.74      0.58      0.62    195893\n",
      "weighted avg       0.97      0.98      0.97    195893\n",
      "\n"
     ]
    }
   ],
   "source": [
    "#try initial Random forest model using a pipeline\n",
    "pipe_rf = Pipeline([('scaler', StandardScaler()),\n",
    "                    ('pca', PCA(n_components=5, random_state=123)),\n",
    "                    ('clf', RandomForestClassifier(random_state=123))])\n",
    "\n",
    "#fit the model\n",
    "pipe_rf.fit(X_train, y_train)\n",
    "\n",
    "#make predictions\n",
    "training_preds = pipe_rf.predict(X_train)\n",
    "test_preds = pipe_rf.predict(X_test)\n",
    "\n",
    "#classification report\n",
    "training_classification = classification_report(y_train, training_preds)\n",
    "test_classification = classification_report(y_test, test_preds)\n",
    "\n",
    "#accuracy\n",
    "print('Accuracy %:', pipe_rf.score(X_test, y_test))\n",
    "\n",
    "#Classification report \n",
    "print('\\nTraining Classification Report:\\n', training_classification)\n",
    "print('\\nTesting Classification Report:\\n', test_classification)"
   ]
  },
  {
   "cell_type": "markdown",
   "metadata": {},
   "source": [
    "accuracy = (true pos + true neg) / total\n",
    "\n",
    "precision = true positives / (true pos+false pos)\n",
    "\n",
    "recall = true pos / (true pos + false neg)\n",
    "\n",
    "f1 = precision*recall / precision+recall"
   ]
  },
  {
   "cell_type": "markdown",
   "metadata": {},
   "source": [
    "### Accuracy is suspiciously high, most likely because the churn group is so small the model can just guess everything is no churn and come out with very high accuracy. This is an imbalanced sample issue.\n",
    "\n",
    "### The precision difference between the training and testing group also indicates severe overfitting.\n",
    "\n",
    "### The precision, recall, and f1-score of the testing group are very low when predicting who churned. This definitely needs to be improved."
   ]
  },
  {
   "cell_type": "markdown",
   "metadata": {},
   "source": [
    "## Hyperparameter tuning to improve model"
   ]
  },
  {
   "cell_type": "code",
   "execution_count": null,
   "metadata": {},
   "outputs": [],
   "source": [
    "# Set grid search params\n",
    "param_grid_forest = [ \n",
    "  {'clf__n_estimators': [10, 100],\n",
    "   'clf__criterion': ['entropy', 'gini'], \n",
    "   'clf__max_depth': [None, 6],  \n",
    "   'clf__min_samples_leaf':[1, 2],  \n",
    "   'clf__min_samples_split':[2, 3]\n",
    "  }\n",
    "]\n",
    "\n",
    "# Construct grid search\n",
    "gs_rf = GridSearchCV(estimator=pipe_rf,\n",
    "            param_grid=param_grid_forest,\n",
    "            scoring='accuracy',\n",
    "            cv=3, verbose=2, return_train_score = True)\n",
    "\n",
    "# Fit using grid search\n",
    "gs_rf.fit(X_train, y_train)\n",
    "\n",
    "#make predictions\n",
    "training_preds = gs_rf.predict(X_train)\n",
    "test_preds = gs_rf.predict(X_test)\n",
    "\n",
    "#classification report\n",
    "training_classification = classification_report(y_train, training_preds)\n",
    "test_classification = classification_report(y_test, test_preds)\n",
    "\n",
    "# Best accuracy\n",
    "print('Best accuracy: %.3f' % gs_rf.best_score_)\n",
    "\n",
    "# Best params\n",
    "print('\\nBest params:\\n', gs_rf.best_params_)\n",
    "\n",
    "#Classification report \n",
    "print('\\nTraining Classification Report:\\n', training_classification)\n",
    "print('\\nTesting Classification Report:\\n', test_classification)"
   ]
  },
  {
   "cell_type": "code",
   "execution_count": null,
   "metadata": {},
   "outputs": [],
   "source": [
    "#above gridsearch took over an hour to run - best parameters are below:\n",
    "#Best params:\n",
    "#{'clf__criterion': 'entropy', 'clf__max_depth': None, 'clf__min_samples_leaf': 2, 'clf__min_samples_split': 2, 'clf__n_estimators': 100}"
   ]
  },
  {
   "cell_type": "code",
   "execution_count": 123,
   "metadata": {
    "scrolled": false
   },
   "outputs": [
    {
     "name": "stdout",
     "output_type": "stream",
     "text": [
      "Accuracy %: 0.9800248094623085\n",
      "\n",
      "Training Classification Report:\n",
      "               precision    recall  f1-score   support\n",
      "\n",
      "           0       0.99      1.00      0.99    575112\n",
      "           1       0.99      0.51      0.68     12567\n",
      "\n",
      "    accuracy                           0.99    587679\n",
      "   macro avg       0.99      0.76      0.84    587679\n",
      "weighted avg       0.99      0.99      0.99    587679\n",
      "\n",
      "\n",
      "Testing Classification Report:\n",
      "               precision    recall  f1-score   support\n",
      "\n",
      "           0       0.98      1.00      0.99    191781\n",
      "           1       0.59      0.15      0.24      4112\n",
      "\n",
      "    accuracy                           0.98    195893\n",
      "   macro avg       0.79      0.58      0.62    195893\n",
      "weighted avg       0.97      0.98      0.97    195893\n",
      "\n"
     ]
    }
   ],
   "source": [
    "#try new Random Forest with new parameters from gridsearch\n",
    "pipe_rf = Pipeline([('scaler', StandardScaler()),\n",
    "                    ('pca', PCA(n_components=5, random_state=123)),\n",
    "                    ('clf', RandomForestClassifier(criterion='entropy',\n",
    "                                                   n_estimators=100,\n",
    "                                                   max_depth=None,\n",
    "                                                   min_samples_leaf=2,\n",
    "                                                   min_samples_split=2,\n",
    "                                                   random_state=123))])\n",
    "\n",
    "#fit the model\n",
    "pipe_rf.fit(X_train, y_train)\n",
    "\n",
    "#make predictions\n",
    "training_preds = pipe_rf.predict(X_train)\n",
    "test_preds = pipe_rf.predict(X_test)\n",
    "\n",
    "#classification report\n",
    "training_classification = classification_report(y_train, training_preds)\n",
    "test_classification = classification_report(y_test, test_preds)\n",
    "\n",
    "#accuracy\n",
    "print('Accuracy %:', pipe_rf.score(X_test, y_test))\n",
    "\n",
    "#Classification report \n",
    "print('\\nTraining Classification Report:\\n', training_classification)\n",
    "print('\\nTesting Classification Report:\\n', test_classification)"
   ]
  },
  {
   "cell_type": "markdown",
   "metadata": {},
   "source": [
    "### The churn group in the testing set is still performing very poorly. The precision is only 59% and the recall is only 15% which indicates the model is still overfitting. Need to balance data better."
   ]
  },
  {
   "cell_type": "markdown",
   "metadata": {},
   "source": [
    "## Feature Importance:"
   ]
  },
  {
   "cell_type": "code",
   "execution_count": 152,
   "metadata": {},
   "outputs": [
    {
     "name": "stdout",
     "output_type": "stream",
     "text": [
      "Feature ranking:\n",
      "1. feature 2 (0.218183)\n",
      "2. feature 1 (0.211232)\n",
      "3. feature 3 (0.200870)\n",
      "4. feature 0 (0.200324)\n",
      "5. feature 4 (0.169391)\n"
     ]
    },
    {
     "data": {
      "image/png": "[encoded data removed]",
      "text/plain": [
       "<Figure size 1440x720 with 1 Axes>"
      ]
     },
     "metadata": {},
     "output_type": "display_data"
    }
   ],
   "source": [
    "importances = pipe_rf[2].feature_importances_\n",
    "\n",
    "indices = np.argsort(importances)[::-1]\n",
    "\n",
    "# Print the feature ranking\n",
    "print(\"Feature ranking:\")\n",
    "\n",
    "for f in range(5):\n",
    "    print(\"%d. feature %d (%f)\" % (f + 1, indices[f], importances[indices[f]]))\n",
    "\n",
    "# Plot the feature importances of the forest\n",
    "plt.figure(figsize=(20,10))\n",
    "plt.title(\"Feature importances\")\n",
    "plt.bar(range(5), importances[indices],\n",
    "       color=\"r\", align=\"center\")\n",
    "plt.xticks(range(5), X.columns[indices], rotation='vertical')\n",
    "plt.xlim([-1, 5])\n",
    "plt.rc('xtick', labelsize=20) \n",
    "plt.rc('ytick', labelsize=20)\n",
    "plt.show()"
   ]
  },
  {
   "cell_type": "markdown",
   "metadata": {},
   "source": [
    "## Check Confusion Matrix"
   ]
  },
  {
   "cell_type": "code",
   "execution_count": 149,
   "metadata": {},
   "outputs": [
    {
     "data": {
      "text/plain": [
       "array([[191352,    429],\n",
       "       [  3484,    628]], dtype=int64)"
      ]
     },
     "execution_count": 149,
     "metadata": {},
     "output_type": "execute_result"
    }
   ],
   "source": [
    "#look at an sklearn confusion matrix \n",
    "from sklearn.metrics import confusion_matrix\n",
    "#from sklearn.metrics import plot_confusion_matrix \n",
    "from sklearn.utils.multiclass import unique_labels\n",
    "\n",
    "matrix = confusion_matrix(y_test, test_preds)\n",
    "matrix"
   ]
  },
  {
   "cell_type": "code",
   "execution_count": 150,
   "metadata": {
    "scrolled": false
   },
   "outputs": [
    {
     "name": "stdout",
     "output_type": "stream",
     "text": [
      "Confusion matrix, without normalization\n",
      "[[191352    429]\n",
      " [  3484    628]]\n",
      "Normalized confusion matrix\n",
      "[[1.  0. ]\n",
      " [0.8 0.2]]\n"
     ]
    },
    {
     "data": {
      "image/png": "[encoded data removed]",
      "text/plain": [
       "<Figure size 864x504 with 2 Axes>"
      ]
     },
     "metadata": {},
     "output_type": "display_data"
    },
    {
     "data": {
      "image/png": "[encoded data removed]",
      "text/plain": [
       "<Figure size 864x504 with 2 Axes>"
      ]
     },
     "metadata": {},
     "output_type": "display_data"
    }
   ],
   "source": [
    "def plot_confusion_matrix(y_true, y_pred, classes,\n",
    "                          normalize=False,\n",
    "                          title=None,\n",
    "                          cmap=plt.cm.Blues):\n",
    "    \"\"\"\n",
    "    This function prints and plots the confusion matrix.\n",
    "    Normalization can be applied by setting `normalize=True`.\n",
    "    \"\"\"\n",
    "    if not title:\n",
    "        if normalize:\n",
    "            title = 'Normalized confusion matrix'\n",
    "        else:\n",
    "            title = 'Confusion matrix, without normalization'\n",
    "\n",
    "    # Compute confusion matrix\n",
    "    cm = confusion_matrix(y_true, y_pred)\n",
    "    # Only use the labels that appear in the data\n",
    "    classes = classes[unique_labels(y_true, y_pred)]\n",
    "    if normalize:\n",
    "        cm = cm.astype('float') / cm.sum(axis=1)[:, np.newaxis]\n",
    "        print(\"Normalized confusion matrix\")\n",
    "    else:\n",
    "        print('Confusion matrix, without normalization')\n",
    "\n",
    "    print(cm)\n",
    "\n",
    "    fig, ax = plt.subplots(figsize=(12, 7))\n",
    "    im = ax.imshow(cm, interpolation='nearest', cmap=cmap)\n",
    "    ax.figure.colorbar(im, ax=ax)\n",
    "    # We want to show all ticks...\n",
    "    ax.set(xticks=np.arange(cm.shape[1]),\n",
    "           yticks=np.arange(cm.shape[0]),\n",
    "           # ... and label them with the respective list entries\n",
    "           xticklabels=classes, yticklabels=classes,\n",
    "           title=title,\n",
    "           ylabel='True label',\n",
    "           xlabel='Predicted label')\n",
    "\n",
    "    # Rotate the tick labels and set their alignment.\n",
    "    plt.setp(ax.get_xticklabels(), rotation=45, ha=\"right\",\n",
    "             rotation_mode=\"anchor\")\n",
    "\n",
    "    # Loop over data dimensions and create text annotations.\n",
    "    fmt = '.2f' if normalize else 'd'\n",
    "    thresh = cm.max() / 2.\n",
    "    for i in range(cm.shape[0]):\n",
    "        for j in range(cm.shape[1]):\n",
    "            ax.text(j, i, format(cm[i, j], fmt),\n",
    "                    ha=\"center\", va=\"center\",\n",
    "                    color=\"white\" if cm[i, j] > thresh else \"black\")\n",
    "    fig.tight_layout()\n",
    "    return ax\n",
    "\n",
    "\n",
    "np.set_printoptions(precision=1)\n",
    "\n",
    "# Plot non-normalized confusion matrix\n",
    "plot_confusion_matrix(y_test, test_preds, classes=np.arange(0, 2, 1, dtype=int),\n",
    "                      title='Confusion matrix, without normalization')\n",
    "\n",
    "# Plot normalized confusion matrix\n",
    "plot_confusion_matrix(y_test, test_preds, classes=np.arange(0, 2, 1, dtype=int), normalize=True,\n",
    "                      title='Normalized confusion matrix')\n",
    "\n",
    "plt.show()"
   ]
  },
  {
   "cell_type": "markdown",
   "metadata": {},
   "source": [
    "## Conclusion of results:\n",
    "\n",
    "### Features are good predictors for churn based on EDA.\n",
    "\n",
    "### The model is severely overfitting due to unbalanced churn vs no-churn groups. If given more time I would use techniques such as \"over-sampling\" or \"under-sampling\" to balance out the churn groups and build a more useful model. \n",
    "\n",
    "### Gridsearch helped the precision of the churn group from 50% to 59% but the recall and f1-score didn't improve. \n",
    "\n",
    "### I would also try an XG Boost model to see if that improved results at all."
   ]
  }
 ],
 "metadata": {
  "kernelspec": {
   "display_name": "Python 3",
   "language": "python",
   "name": "python3"
  },
  "language_info": {
   "codemirror_mode": {
    "name": "ipython",
    "version": 3
   },
   "file_extension": ".py",
   "mimetype": "text/x-python",
   "name": "python",
   "nbconvert_exporter": "python",
   "pygments_lexer": "ipython3",
   "version": "3.7.3"
  }
 },
 "nbformat": 4,
 "nbformat_minor": 2
} 
